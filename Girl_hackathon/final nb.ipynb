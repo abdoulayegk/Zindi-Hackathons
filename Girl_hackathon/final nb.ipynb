{
 "cells": [
  {
   "cell_type": "code",
   "execution_count": 1,
   "metadata": {},
   "outputs": [],
   "source": [
    "import pandas as pd\n",
    "import seaborn as sns\n",
    "\n",
    "from sklearn.model_selection import train_test_split\n",
    "from sklearn.linear_model import LogisticRegression\n",
    "from sklearn.ensemble import RandomForestClassifier\n",
    "from sklearn.metrics import accuracy_score,  mean_squared_error, f1_score, roc_auc_score\n",
    "\n",
    "from sklearn.preprocessing import LabelEncoder\n",
    "\n",
    "label = LabelEncoder()"
   ]
  },
  {
   "cell_type": "markdown",
   "metadata": {},
   "source": [
    "##### Data loading and Preparation"
   ]
  },
  {
   "cell_type": "code",
   "execution_count": 2,
   "metadata": {},
   "outputs": [],
   "source": [
    "train_df = pd.read_csv(\"Train.csv\")\n",
    "test_df =pd.read_csv(\"Test.csv\")"
   ]
  },
  {
   "cell_type": "code",
   "execution_count": 3,
   "metadata": {},
   "outputs": [
    {
     "data": {
      "text/plain": [
       "(7736, 21)"
      ]
     },
     "execution_count": 3,
     "metadata": {},
     "output_type": "execute_result"
    }
   ],
   "source": [
    "train_df.shape"
   ]
  },
  {
   "cell_type": "code",
   "execution_count": 4,
   "metadata": {},
   "outputs": [
    {
     "data": {
      "text/html": [
       "<div>\n",
       "<style scoped>\n",
       "    .dataframe tbody tr th:only-of-type {\n",
       "        vertical-align: middle;\n",
       "    }\n",
       "\n",
       "    .dataframe tbody tr th {\n",
       "        vertical-align: top;\n",
       "    }\n",
       "\n",
       "    .dataframe thead th {\n",
       "        text-align: right;\n",
       "    }\n",
       "</style>\n",
       "<table border=\"1\" class=\"dataframe\">\n",
       "  <thead>\n",
       "    <tr style=\"text-align: right;\">\n",
       "      <th></th>\n",
       "      <th>ID</th>\n",
       "      <th>gender</th>\n",
       "      <th>age</th>\n",
       "      <th>race</th>\n",
       "      <th>dwelling</th>\n",
       "      <th>dwelling_type</th>\n",
       "      <th>province_code</th>\n",
       "      <th>metro_code</th>\n",
       "      <th>psu</th>\n",
       "      <th>nationality</th>\n",
       "      <th>...</th>\n",
       "      <th>marital_st</th>\n",
       "      <th>Lang_inside</th>\n",
       "      <th>Lang_outside</th>\n",
       "      <th>Education</th>\n",
       "      <th>lw_work</th>\n",
       "      <th>lw_business</th>\n",
       "      <th>help_on_household</th>\n",
       "      <th>job_or_business</th>\n",
       "      <th>nature_of_work</th>\n",
       "      <th>target</th>\n",
       "    </tr>\n",
       "  </thead>\n",
       "  <tbody>\n",
       "    <tr>\n",
       "      <th>0</th>\n",
       "      <td>ID_00008683</td>\n",
       "      <td>Female</td>\n",
       "      <td>20</td>\n",
       "      <td>Black African</td>\n",
       "      <td>Dwelling/house or brick/concrete block structu...</td>\n",
       "      <td>Formal</td>\n",
       "      <td>North West</td>\n",
       "      <td>NW - Non Metro</td>\n",
       "      <td>66710095</td>\n",
       "      <td>South Africa</td>\n",
       "      <td>...</td>\n",
       "      <td>Single and have never been married/never lived...</td>\n",
       "      <td>Xitsonga</td>\n",
       "      <td>Setswana</td>\n",
       "      <td>Grade 11/Standard 9/Form 4</td>\n",
       "      <td>No</td>\n",
       "      <td>No</td>\n",
       "      <td>No</td>\n",
       "      <td>No</td>\n",
       "      <td>Not applicable</td>\n",
       "      <td>0</td>\n",
       "    </tr>\n",
       "    <tr>\n",
       "      <th>1</th>\n",
       "      <td>ID_00061163</td>\n",
       "      <td>Female</td>\n",
       "      <td>42</td>\n",
       "      <td>Black African</td>\n",
       "      <td>Dwelling/house or brick/concrete block structu...</td>\n",
       "      <td>Formal</td>\n",
       "      <td>Limpopo</td>\n",
       "      <td>LP - Non Metro</td>\n",
       "      <td>98510279</td>\n",
       "      <td>South Africa</td>\n",
       "      <td>...</td>\n",
       "      <td>Living together like husband and wife</td>\n",
       "      <td>Sepedi</td>\n",
       "      <td>Sepedi</td>\n",
       "      <td>Grade 12/Standard 10/Form 5/Matric (No Exemption)</td>\n",
       "      <td>Yes</td>\n",
       "      <td>No</td>\n",
       "      <td>No</td>\n",
       "      <td>Not applicable</td>\n",
       "      <td>Permanent</td>\n",
       "      <td>0</td>\n",
       "    </tr>\n",
       "    <tr>\n",
       "      <th>2</th>\n",
       "      <td>ID_00071403</td>\n",
       "      <td>Female</td>\n",
       "      <td>86</td>\n",
       "      <td>Black African</td>\n",
       "      <td>Dwelling/house or brick/concrete block structu...</td>\n",
       "      <td>Formal</td>\n",
       "      <td>Eastern Cape</td>\n",
       "      <td>EC - Non Metro</td>\n",
       "      <td>29210321</td>\n",
       "      <td>South Africa</td>\n",
       "      <td>...</td>\n",
       "      <td>Widowed</td>\n",
       "      <td>IsiXhosa</td>\n",
       "      <td>IsiXhosa</td>\n",
       "      <td>Unspecified</td>\n",
       "      <td>No</td>\n",
       "      <td>No</td>\n",
       "      <td>No</td>\n",
       "      <td>No</td>\n",
       "      <td>Not applicable</td>\n",
       "      <td>0</td>\n",
       "    </tr>\n",
       "    <tr>\n",
       "      <th>3</th>\n",
       "      <td>ID_00077803</td>\n",
       "      <td>Female</td>\n",
       "      <td>20</td>\n",
       "      <td>Black African</td>\n",
       "      <td>Town house (semi-detached house in complex)</td>\n",
       "      <td>Formal</td>\n",
       "      <td>KwaZulu-Natal</td>\n",
       "      <td>KZN - eThekwini</td>\n",
       "      <td>59913860</td>\n",
       "      <td>South Africa</td>\n",
       "      <td>...</td>\n",
       "      <td>Single and have never been married/never lived...</td>\n",
       "      <td>IsiZulu</td>\n",
       "      <td>IsiZulu</td>\n",
       "      <td>Grade 12/Standard 10/Form 5/Matric (No Exemption)</td>\n",
       "      <td>No</td>\n",
       "      <td>No</td>\n",
       "      <td>No</td>\n",
       "      <td>No</td>\n",
       "      <td>Not applicable</td>\n",
       "      <td>0</td>\n",
       "    </tr>\n",
       "    <tr>\n",
       "      <th>4</th>\n",
       "      <td>ID_00086763</td>\n",
       "      <td>Female</td>\n",
       "      <td>26</td>\n",
       "      <td>Black African</td>\n",
       "      <td>Town house (semi-detached house in complex)</td>\n",
       "      <td>Formal</td>\n",
       "      <td>Gauteng</td>\n",
       "      <td>GP - City of Johannesburg</td>\n",
       "      <td>79813828</td>\n",
       "      <td>South Africa</td>\n",
       "      <td>...</td>\n",
       "      <td>Single and have never been married/never lived...</td>\n",
       "      <td>Setswana</td>\n",
       "      <td>English</td>\n",
       "      <td>Grade 12/Standard 10/Form 5/Matric (No Exemption)</td>\n",
       "      <td>No</td>\n",
       "      <td>No</td>\n",
       "      <td>No</td>\n",
       "      <td>No</td>\n",
       "      <td>Not applicable</td>\n",
       "      <td>0</td>\n",
       "    </tr>\n",
       "  </tbody>\n",
       "</table>\n",
       "<p>5 rows × 21 columns</p>\n",
       "</div>"
      ],
      "text/plain": [
       "            ID  gender  age           race  \\\n",
       "0  ID_00008683  Female   20  Black African   \n",
       "1  ID_00061163  Female   42  Black African   \n",
       "2  ID_00071403  Female   86  Black African   \n",
       "3  ID_00077803  Female   20  Black African   \n",
       "4  ID_00086763  Female   26  Black African   \n",
       "\n",
       "                                            dwelling dwelling_type  \\\n",
       "0  Dwelling/house or brick/concrete block structu...        Formal   \n",
       "1  Dwelling/house or brick/concrete block structu...        Formal   \n",
       "2  Dwelling/house or brick/concrete block structu...        Formal   \n",
       "3        Town house (semi-detached house in complex)        Formal   \n",
       "4        Town house (semi-detached house in complex)        Formal   \n",
       "\n",
       "   province_code                 metro_code       psu   nationality  ...  \\\n",
       "0     North West             NW - Non Metro  66710095  South Africa  ...   \n",
       "1        Limpopo             LP - Non Metro  98510279  South Africa  ...   \n",
       "2   Eastern Cape             EC - Non Metro  29210321  South Africa  ...   \n",
       "3  KwaZulu-Natal            KZN - eThekwini  59913860  South Africa  ...   \n",
       "4        Gauteng  GP - City of Johannesburg  79813828  South Africa  ...   \n",
       "\n",
       "                                          marital_st Lang_inside Lang_outside  \\\n",
       "0  Single and have never been married/never lived...    Xitsonga     Setswana   \n",
       "1              Living together like husband and wife      Sepedi       Sepedi   \n",
       "2                                            Widowed    IsiXhosa     IsiXhosa   \n",
       "3  Single and have never been married/never lived...     IsiZulu      IsiZulu   \n",
       "4  Single and have never been married/never lived...    Setswana      English   \n",
       "\n",
       "                                           Education lw_work lw_business  \\\n",
       "0                         Grade 11/Standard 9/Form 4      No          No   \n",
       "1  Grade 12/Standard 10/Form 5/Matric (No Exemption)     Yes          No   \n",
       "2                                        Unspecified      No          No   \n",
       "3  Grade 12/Standard 10/Form 5/Matric (No Exemption)      No          No   \n",
       "4  Grade 12/Standard 10/Form 5/Matric (No Exemption)      No          No   \n",
       "\n",
       "  help_on_household job_or_business  nature_of_work target  \n",
       "0                No              No  Not applicable      0  \n",
       "1                No  Not applicable       Permanent      0  \n",
       "2                No              No  Not applicable      0  \n",
       "3                No              No  Not applicable      0  \n",
       "4                No              No  Not applicable      0  \n",
       "\n",
       "[5 rows x 21 columns]"
      ]
     },
     "execution_count": 4,
     "metadata": {},
     "output_type": "execute_result"
    }
   ],
   "source": [
    "train_df.head()"
   ]
  },
  {
   "cell_type": "code",
   "execution_count": 5,
   "metadata": {},
   "outputs": [
    {
     "data": {
      "text/plain": [
       "Index(['ID', 'gender', 'age', 'race', 'dwelling', 'dwelling_type',\n",
       "       'province_code', 'metro_code', 'psu', 'nationality', 'RTH',\n",
       "       'marital_st', 'Lang_inside', 'Lang_outside', 'Education', 'lw_work',\n",
       "       'lw_business', 'help_on_household', 'job_or_business', 'nature_of_work',\n",
       "       'target'],\n",
       "      dtype='object')"
      ]
     },
     "execution_count": 5,
     "metadata": {},
     "output_type": "execute_result"
    }
   ],
   "source": [
    "train_df.columns"
   ]
  },
  {
   "cell_type": "markdown",
   "metadata": {},
   "source": [
    "#### Data Visualisation"
   ]
  },
  {
   "cell_type": "code",
   "execution_count": 6,
   "metadata": {},
   "outputs": [
    {
     "name": "stderr",
     "output_type": "stream",
     "text": [
      "/home/balde/anaconda3/lib/python3.8/site-packages/seaborn/_decorators.py:36: FutureWarning: Pass the following variable as a keyword arg: x. From version 0.12, the only valid positional argument will be `data`, and passing other arguments without an explicit keyword will result in an error or misinterpretation.\n",
      "  warnings.warn(\n"
     ]
    },
    {
     "data": {
      "text/plain": [
       "<AxesSubplot:xlabel='target', ylabel='count'>"
      ]
     },
     "execution_count": 6,
     "metadata": {},
     "output_type": "execute_result"
    },
    {
     "data": {
      "image/png": "[encoded data removed]",
      "text/plain": [
       "<Figure size 432x288 with 1 Axes>"
      ]
     },
     "metadata": {
      "needs_background": "light"
     },
     "output_type": "display_data"
    }
   ],
   "source": [
    "sns.countplot(train_df[\"target\"])"
   ]
  },
  {
   "cell_type": "markdown",
   "metadata": {},
   "source": [
    "- Try to create more visualisation from the other columns, what is the level of education of individual in the dataset.\n",
    "- What about coorelation of other columns to the target."
   ]
  },
  {
   "cell_type": "markdown",
   "metadata": {},
   "source": [
    "##### Handling Categorical columns\n",
    "- There are various way of encoding categorical columns. In the case below we're using label encoding \n",
    "<https://scikit-learn.org/stable/modules/generated/sklearn.preprocessing.LabelEncoder.html>.\n",
    "- Find out other ways of encoding categorical columns, like one hot encoding - which one works better on this case."
   ]
  },
  {
   "cell_type": "code",
   "execution_count": 7,
   "metadata": {},
   "outputs": [],
   "source": [
    "train_df['gender'] = label.fit_transform(train_df['gender'])\n",
    "train_df['race'] = label.fit_transform(train_df['race'])\n",
    "train_df['dwelling'] = label.fit_transform(train_df['dwelling'])\n",
    "train_df['dwelling_type'] = label.fit_transform(train_df['dwelling_type'])\n",
    "train_df['province_code'] = label.fit_transform(train_df['province_code'])\n",
    "train_df['metro_code'] = label.fit_transform(train_df['metro_code'])\n",
    "train_df['nationality'] = label.fit_transform(train_df['nationality'])\n",
    "train_df['RTH'] = label.fit_transform(train_df['RTH'])\n",
    "train_df['marital_st'] = label.fit_transform(train_df['marital_st'])\n",
    "train_df['Lang_inside'] = label.fit_transform(train_df['Lang_inside'])\n",
    "train_df['Lang_outside'] = label.fit_transform(train_df['Lang_outside'])\n",
    "train_df['Education'] = label.fit_transform(train_df['Education'])\n",
    "train_df['lw_work'] = label.fit_transform(train_df['lw_work'])\n",
    "train_df['lw_business'] = label.fit_transform(train_df['lw_business'])\n",
    "train_df['help_on_household'] = label.fit_transform(train_df['help_on_household'])\n",
    "train_df['job_or_business'] = label.fit_transform(train_df['job_or_business'])\n",
    "train_df['nature_of_work'] = label.fit_transform(train_df['nature_of_work'])\n",
    "\n"
   ]
  },
  {
   "cell_type": "code",
   "execution_count": 8,
   "metadata": {},
   "outputs": [
    {
     "data": {
      "text/html": [
       "<div>\n",
       "<style scoped>\n",
       "    .dataframe tbody tr th:only-of-type {\n",
       "        vertical-align: middle;\n",
       "    }\n",
       "\n",
       "    .dataframe tbody tr th {\n",
       "        vertical-align: top;\n",
       "    }\n",
       "\n",
       "    .dataframe thead th {\n",
       "        text-align: right;\n",
       "    }\n",
       "</style>\n",
       "<table border=\"1\" class=\"dataframe\">\n",
       "  <thead>\n",
       "    <tr style=\"text-align: right;\">\n",
       "      <th></th>\n",
       "      <th>ID</th>\n",
       "      <th>gender</th>\n",
       "      <th>age</th>\n",
       "      <th>race</th>\n",
       "      <th>dwelling</th>\n",
       "      <th>dwelling_type</th>\n",
       "      <th>province_code</th>\n",
       "      <th>metro_code</th>\n",
       "      <th>psu</th>\n",
       "      <th>nationality</th>\n",
       "      <th>...</th>\n",
       "      <th>marital_st</th>\n",
       "      <th>Lang_inside</th>\n",
       "      <th>Lang_outside</th>\n",
       "      <th>Education</th>\n",
       "      <th>lw_work</th>\n",
       "      <th>lw_business</th>\n",
       "      <th>help_on_household</th>\n",
       "      <th>job_or_business</th>\n",
       "      <th>nature_of_work</th>\n",
       "      <th>target</th>\n",
       "    </tr>\n",
       "  </thead>\n",
       "  <tbody>\n",
       "    <tr>\n",
       "      <th>0</th>\n",
       "      <td>ID_00008683</td>\n",
       "      <td>0</td>\n",
       "      <td>20</td>\n",
       "      <td>0</td>\n",
       "      <td>2</td>\n",
       "      <td>0</td>\n",
       "      <td>6</td>\n",
       "      <td>14</td>\n",
       "      <td>66710095</td>\n",
       "      <td>1</td>\n",
       "      <td>...</td>\n",
       "      <td>4</td>\n",
       "      <td>14</td>\n",
       "      <td>9</td>\n",
       "      <td>9</td>\n",
       "      <td>1</td>\n",
       "      <td>1</td>\n",
       "      <td>1</td>\n",
       "      <td>1</td>\n",
       "      <td>3</td>\n",
       "      <td>0</td>\n",
       "    </tr>\n",
       "    <tr>\n",
       "      <th>1</th>\n",
       "      <td>ID_00061163</td>\n",
       "      <td>0</td>\n",
       "      <td>42</td>\n",
       "      <td>0</td>\n",
       "      <td>2</td>\n",
       "      <td>0</td>\n",
       "      <td>4</td>\n",
       "      <td>11</td>\n",
       "      <td>98510279</td>\n",
       "      <td>1</td>\n",
       "      <td>...</td>\n",
       "      <td>1</td>\n",
       "      <td>7</td>\n",
       "      <td>7</td>\n",
       "      <td>11</td>\n",
       "      <td>3</td>\n",
       "      <td>1</td>\n",
       "      <td>1</td>\n",
       "      <td>2</td>\n",
       "      <td>4</td>\n",
       "      <td>0</td>\n",
       "    </tr>\n",
       "    <tr>\n",
       "      <th>2</th>\n",
       "      <td>ID_00071403</td>\n",
       "      <td>0</td>\n",
       "      <td>86</td>\n",
       "      <td>0</td>\n",
       "      <td>2</td>\n",
       "      <td>0</td>\n",
       "      <td>0</td>\n",
       "      <td>2</td>\n",
       "      <td>29210321</td>\n",
       "      <td>1</td>\n",
       "      <td>...</td>\n",
       "      <td>7</td>\n",
       "      <td>3</td>\n",
       "      <td>3</td>\n",
       "      <td>32</td>\n",
       "      <td>1</td>\n",
       "      <td>1</td>\n",
       "      <td>1</td>\n",
       "      <td>1</td>\n",
       "      <td>3</td>\n",
       "      <td>0</td>\n",
       "    </tr>\n",
       "    <tr>\n",
       "      <th>3</th>\n",
       "      <td>ID_00077803</td>\n",
       "      <td>0</td>\n",
       "      <td>20</td>\n",
       "      <td>0</td>\n",
       "      <td>10</td>\n",
       "      <td>0</td>\n",
       "      <td>3</td>\n",
       "      <td>10</td>\n",
       "      <td>59913860</td>\n",
       "      <td>1</td>\n",
       "      <td>...</td>\n",
       "      <td>4</td>\n",
       "      <td>4</td>\n",
       "      <td>4</td>\n",
       "      <td>11</td>\n",
       "      <td>1</td>\n",
       "      <td>1</td>\n",
       "      <td>1</td>\n",
       "      <td>1</td>\n",
       "      <td>3</td>\n",
       "      <td>0</td>\n",
       "    </tr>\n",
       "    <tr>\n",
       "      <th>4</th>\n",
       "      <td>ID_00086763</td>\n",
       "      <td>0</td>\n",
       "      <td>26</td>\n",
       "      <td>0</td>\n",
       "      <td>10</td>\n",
       "      <td>0</td>\n",
       "      <td>2</td>\n",
       "      <td>5</td>\n",
       "      <td>79813828</td>\n",
       "      <td>1</td>\n",
       "      <td>...</td>\n",
       "      <td>4</td>\n",
       "      <td>9</td>\n",
       "      <td>1</td>\n",
       "      <td>11</td>\n",
       "      <td>1</td>\n",
       "      <td>1</td>\n",
       "      <td>1</td>\n",
       "      <td>1</td>\n",
       "      <td>3</td>\n",
       "      <td>0</td>\n",
       "    </tr>\n",
       "  </tbody>\n",
       "</table>\n",
       "<p>5 rows × 21 columns</p>\n",
       "</div>"
      ],
      "text/plain": [
       "            ID  gender  age  race  dwelling  dwelling_type  province_code  \\\n",
       "0  ID_00008683       0   20     0         2              0              6   \n",
       "1  ID_00061163       0   42     0         2              0              4   \n",
       "2  ID_00071403       0   86     0         2              0              0   \n",
       "3  ID_00077803       0   20     0        10              0              3   \n",
       "4  ID_00086763       0   26     0        10              0              2   \n",
       "\n",
       "   metro_code       psu  nationality  ...  marital_st  Lang_inside  \\\n",
       "0          14  66710095            1  ...           4           14   \n",
       "1          11  98510279            1  ...           1            7   \n",
       "2           2  29210321            1  ...           7            3   \n",
       "3          10  59913860            1  ...           4            4   \n",
       "4           5  79813828            1  ...           4            9   \n",
       "\n",
       "   Lang_outside  Education  lw_work  lw_business  help_on_household  \\\n",
       "0             9          9        1            1                  1   \n",
       "1             7         11        3            1                  1   \n",
       "2             3         32        1            1                  1   \n",
       "3             4         11        1            1                  1   \n",
       "4             1         11        1            1                  1   \n",
       "\n",
       "   job_or_business  nature_of_work  target  \n",
       "0                1               3       0  \n",
       "1                2               4       0  \n",
       "2                1               3       0  \n",
       "3                1               3       0  \n",
       "4                1               3       0  \n",
       "\n",
       "[5 rows x 21 columns]"
      ]
     },
     "execution_count": 8,
     "metadata": {},
     "output_type": "execute_result"
    }
   ],
   "source": [
    "train_df.head()"
   ]
  },
  {
   "cell_type": "code",
   "execution_count": 9,
   "metadata": {},
   "outputs": [
    {
     "data": {
      "text/plain": [
       "array([8, 7, 1, 4, 5, 0, 2, 6, 3, 9])"
      ]
     },
     "execution_count": 9,
     "metadata": {},
     "output_type": "execute_result"
    }
   ],
   "source": [
    "train_df.RTH.unique()"
   ]
  },
  {
   "cell_type": "code",
   "execution_count": 10,
   "metadata": {},
   "outputs": [
    {
     "data": {
      "text/plain": [
       "98710543"
      ]
     },
     "execution_count": 10,
     "metadata": {},
     "output_type": "execute_result"
    }
   ],
   "source": [
    "train_df.psu.max()"
   ]
  },
  {
   "cell_type": "markdown",
   "metadata": {},
   "source": [
    "##### Spliting the data\n",
    "- It's always advisable to set aside some data for validating how your model performs. They are various methods of cross validation. In this case we use train-test split module from sklearn.\n",
    "\n",
    "- Try other methods of cross-validation, Kfold, Stratified Fold, etc."
   ]
  },
  {
   "cell_type": "code",
   "execution_count": 11,
   "metadata": {},
   "outputs": [
    {
     "data": {
      "text/plain": [
       "102"
      ]
     },
     "execution_count": 11,
     "metadata": {},
     "output_type": "execute_result"
    }
   ],
   "source": [
    "train_df.age.max()"
   ]
  },
  {
   "cell_type": "code",
   "execution_count": 12,
   "metadata": {},
   "outputs": [],
   "source": [
    "X = train_df.drop([\"target\", \"ID\"], axis=1) # feature columns\n",
    "y = train_df[\"target\"] # the label/target column"
   ]
  },
  {
   "cell_type": "code",
   "execution_count": 13,
   "metadata": {},
   "outputs": [
    {
     "data": {
      "text/plain": [
       "((3316, 20), (7736, 21))"
      ]
     },
     "execution_count": 13,
     "metadata": {},
     "output_type": "execute_result"
    }
   ],
   "source": [
    "test_df.shape, train_df.shape"
   ]
  },
  {
   "cell_type": "code",
   "execution_count": 14,
   "metadata": {},
   "outputs": [],
   "source": [
    "# spliting the data, 70% train set and 30% val set\n",
    "X_train,X_test,y_train,y_test = train_test_split(X,y,test_size=.25, random_state=42)"
   ]
  },
  {
   "cell_type": "code",
   "execution_count": 15,
   "metadata": {},
   "outputs": [
    {
     "data": {
      "text/plain": [
       "((5802, 19), (5802,))"
      ]
     },
     "execution_count": 15,
     "metadata": {},
     "output_type": "execute_result"
    }
   ],
   "source": [
    "X_train.shape, y_train.shape"
   ]
  },
  {
   "cell_type": "code",
   "execution_count": 16,
   "metadata": {},
   "outputs": [],
   "source": [
    "# val_set.shape\n",
    "X_final = test_df.pop('ID')"
   ]
  },
  {
   "cell_type": "code",
   "execution_count": 17,
   "metadata": {},
   "outputs": [
    {
     "data": {
      "text/plain": [
       "0    ID_00241643\n",
       "1    ID_00312043\n",
       "2    ID_00345323\n",
       "3    ID_00369643\n",
       "4    ID_00381163\n",
       "Name: ID, dtype: object"
      ]
     },
     "execution_count": 17,
     "metadata": {},
     "output_type": "execute_result"
    }
   ],
   "source": [
    "X_final.head()"
   ]
  },
  {
   "cell_type": "code",
   "execution_count": 18,
   "metadata": {},
   "outputs": [
    {
     "data": {
      "text/html": [
       "<div>\n",
       "<style scoped>\n",
       "    .dataframe tbody tr th:only-of-type {\n",
       "        vertical-align: middle;\n",
       "    }\n",
       "\n",
       "    .dataframe tbody tr th {\n",
       "        vertical-align: top;\n",
       "    }\n",
       "\n",
       "    .dataframe thead th {\n",
       "        text-align: right;\n",
       "    }\n",
       "</style>\n",
       "<table border=\"1\" class=\"dataframe\">\n",
       "  <thead>\n",
       "    <tr style=\"text-align: right;\">\n",
       "      <th></th>\n",
       "      <th>gender</th>\n",
       "      <th>age</th>\n",
       "      <th>race</th>\n",
       "      <th>dwelling</th>\n",
       "      <th>dwelling_type</th>\n",
       "      <th>province_code</th>\n",
       "      <th>metro_code</th>\n",
       "      <th>psu</th>\n",
       "      <th>nationality</th>\n",
       "      <th>RTH</th>\n",
       "      <th>marital_st</th>\n",
       "      <th>Lang_inside</th>\n",
       "      <th>Lang_outside</th>\n",
       "      <th>Education</th>\n",
       "      <th>lw_work</th>\n",
       "      <th>lw_business</th>\n",
       "      <th>help_on_household</th>\n",
       "      <th>job_or_business</th>\n",
       "      <th>nature_of_work</th>\n",
       "    </tr>\n",
       "  </thead>\n",
       "  <tbody>\n",
       "    <tr>\n",
       "      <th>0</th>\n",
       "      <td>Female</td>\n",
       "      <td>23</td>\n",
       "      <td>Coloured</td>\n",
       "      <td>Dwelling/house or brick/concrete block structu...</td>\n",
       "      <td>Formal</td>\n",
       "      <td>Northern Cape</td>\n",
       "      <td>NC - Non Metro</td>\n",
       "      <td>36410104</td>\n",
       "      <td>South Africa</td>\n",
       "      <td>Head/acting head</td>\n",
       "      <td>Single and have never been married/never lived...</td>\n",
       "      <td>Afrikaans</td>\n",
       "      <td>Afrikaans</td>\n",
       "      <td>Grade 10/Standard 8/Form 3</td>\n",
       "      <td>Yes</td>\n",
       "      <td>No</td>\n",
       "      <td>No</td>\n",
       "      <td>Not applicable</td>\n",
       "      <td>Permanent</td>\n",
       "    </tr>\n",
       "    <tr>\n",
       "      <th>1</th>\n",
       "      <td>Female</td>\n",
       "      <td>64</td>\n",
       "      <td>Black African</td>\n",
       "      <td>Dwelling/house or brick/concrete block structu...</td>\n",
       "      <td>Formal</td>\n",
       "      <td>Limpopo</td>\n",
       "      <td>LP - Non Metro</td>\n",
       "      <td>97410477</td>\n",
       "      <td>South Africa</td>\n",
       "      <td>Head/acting head</td>\n",
       "      <td>Widowed</td>\n",
       "      <td>Afrikaans</td>\n",
       "      <td>Afrikaans</td>\n",
       "      <td>Grade 12/Standard 10/Form 5/Matric (No Exemption)</td>\n",
       "      <td>No</td>\n",
       "      <td>No</td>\n",
       "      <td>No</td>\n",
       "      <td>No</td>\n",
       "      <td>Not applicable</td>\n",
       "    </tr>\n",
       "    <tr>\n",
       "      <th>2</th>\n",
       "      <td>Female</td>\n",
       "      <td>18</td>\n",
       "      <td>Black African</td>\n",
       "      <td>Unspecified</td>\n",
       "      <td>Unspecified</td>\n",
       "      <td>Eastern Cape</td>\n",
       "      <td>EC - Buffalo City</td>\n",
       "      <td>26011572</td>\n",
       "      <td>South Africa</td>\n",
       "      <td>Son/daughter/stepchild/adopted child of person 01</td>\n",
       "      <td>Single and have never been married/never lived...</td>\n",
       "      <td>IsiXhosa</td>\n",
       "      <td>IsiXhosa</td>\n",
       "      <td>Grade 11/Standard 9/Form 4</td>\n",
       "      <td>No</td>\n",
       "      <td>No</td>\n",
       "      <td>No</td>\n",
       "      <td>No</td>\n",
       "      <td>Not applicable</td>\n",
       "    </tr>\n",
       "    <tr>\n",
       "      <th>3</th>\n",
       "      <td>Female</td>\n",
       "      <td>19</td>\n",
       "      <td>Black African</td>\n",
       "      <td>Dwelling/house or brick/concrete block structu...</td>\n",
       "      <td>Formal</td>\n",
       "      <td>Mpumalanga</td>\n",
       "      <td>MP - Non Metro</td>\n",
       "      <td>87710674</td>\n",
       "      <td>South Africa</td>\n",
       "      <td>Son/daughter/stepchild/adopted child of person 01</td>\n",
       "      <td>Single and have never been married/never lived...</td>\n",
       "      <td>Xitsonga</td>\n",
       "      <td>Sepedi</td>\n",
       "      <td>Grade 12/Standard 10/Form 5/Matric (No Exemption)</td>\n",
       "      <td>No</td>\n",
       "      <td>No</td>\n",
       "      <td>No</td>\n",
       "      <td>No</td>\n",
       "      <td>Not applicable</td>\n",
       "    </tr>\n",
       "    <tr>\n",
       "      <th>4</th>\n",
       "      <td>Female</td>\n",
       "      <td>24</td>\n",
       "      <td>Black African</td>\n",
       "      <td>Dwelling/house or brick/concrete block structu...</td>\n",
       "      <td>Formal</td>\n",
       "      <td>Mpumalanga</td>\n",
       "      <td>MP - Non Metro</td>\n",
       "      <td>87411106</td>\n",
       "      <td>South Africa</td>\n",
       "      <td>Head/acting head</td>\n",
       "      <td>Single and have never been married/never lived...</td>\n",
       "      <td>SiSwati</td>\n",
       "      <td>SiSwati</td>\n",
       "      <td>Grade 11/Standard 9/Form 4</td>\n",
       "      <td>No</td>\n",
       "      <td>No</td>\n",
       "      <td>No</td>\n",
       "      <td>No</td>\n",
       "      <td>Not applicable</td>\n",
       "    </tr>\n",
       "    <tr>\n",
       "      <th>...</th>\n",
       "      <td>...</td>\n",
       "      <td>...</td>\n",
       "      <td>...</td>\n",
       "      <td>...</td>\n",
       "      <td>...</td>\n",
       "      <td>...</td>\n",
       "      <td>...</td>\n",
       "      <td>...</td>\n",
       "      <td>...</td>\n",
       "      <td>...</td>\n",
       "      <td>...</td>\n",
       "      <td>...</td>\n",
       "      <td>...</td>\n",
       "      <td>...</td>\n",
       "      <td>...</td>\n",
       "      <td>...</td>\n",
       "      <td>...</td>\n",
       "      <td>...</td>\n",
       "      <td>...</td>\n",
       "    </tr>\n",
       "    <tr>\n",
       "      <th>3311</th>\n",
       "      <td>Female</td>\n",
       "      <td>30</td>\n",
       "      <td>Black African</td>\n",
       "      <td>Dwelling/house or brick/concrete block structu...</td>\n",
       "      <td>Formal</td>\n",
       "      <td>Gauteng</td>\n",
       "      <td>GP - City of Tshwane</td>\n",
       "      <td>79913175</td>\n",
       "      <td>South Africa</td>\n",
       "      <td>Son/daughter/stepchild/adopted child of person 01</td>\n",
       "      <td>Single and have never been married/never lived...</td>\n",
       "      <td>Setswana</td>\n",
       "      <td>English</td>\n",
       "      <td>Grade 11/Standard 9/Form 4</td>\n",
       "      <td>No</td>\n",
       "      <td>No</td>\n",
       "      <td>No</td>\n",
       "      <td>No</td>\n",
       "      <td>Not applicable</td>\n",
       "    </tr>\n",
       "    <tr>\n",
       "      <th>3312</th>\n",
       "      <td>Female</td>\n",
       "      <td>65</td>\n",
       "      <td>Black African</td>\n",
       "      <td>Informal dwelling/shack not in backyard, e.g i...</td>\n",
       "      <td>Informal</td>\n",
       "      <td>North West</td>\n",
       "      <td>NW - Non Metro</td>\n",
       "      <td>66110745</td>\n",
       "      <td>South Africa</td>\n",
       "      <td>Head/acting head</td>\n",
       "      <td>Divorced</td>\n",
       "      <td>Setswana</td>\n",
       "      <td>Setswana</td>\n",
       "      <td>Grade 8/Standard 6/Form 1</td>\n",
       "      <td>No</td>\n",
       "      <td>No</td>\n",
       "      <td>No</td>\n",
       "      <td>No</td>\n",
       "      <td>Not applicable</td>\n",
       "    </tr>\n",
       "    <tr>\n",
       "      <th>3313</th>\n",
       "      <td>Female</td>\n",
       "      <td>32</td>\n",
       "      <td>Black African</td>\n",
       "      <td>Informal dwelling/shack not in backyard, e.g i...</td>\n",
       "      <td>Informal</td>\n",
       "      <td>Gauteng</td>\n",
       "      <td>GP - City of Tshwane</td>\n",
       "      <td>79911730</td>\n",
       "      <td>South Africa</td>\n",
       "      <td>Husband/wife/partner of person 01</td>\n",
       "      <td>Married</td>\n",
       "      <td>Sepedi</td>\n",
       "      <td>Sepedi</td>\n",
       "      <td>Grade 12/Standard 10/Form 5/Matric (No Exemption)</td>\n",
       "      <td>Yes</td>\n",
       "      <td>No</td>\n",
       "      <td>No</td>\n",
       "      <td>Not applicable</td>\n",
       "      <td>Permanent</td>\n",
       "    </tr>\n",
       "    <tr>\n",
       "      <th>3314</th>\n",
       "      <td>Female</td>\n",
       "      <td>31</td>\n",
       "      <td>Black African</td>\n",
       "      <td>Room/flat let on a property or a larger dwelli...</td>\n",
       "      <td>Formal</td>\n",
       "      <td>Eastern Cape</td>\n",
       "      <td>EC - Non Metro</td>\n",
       "      <td>29410927</td>\n",
       "      <td>South Africa</td>\n",
       "      <td>Head/acting head</td>\n",
       "      <td>Single and have never been married/never lived...</td>\n",
       "      <td>IsiXhosa</td>\n",
       "      <td>IsiXhosa</td>\n",
       "      <td>Grade 11/Standard 9/Form 4</td>\n",
       "      <td>No</td>\n",
       "      <td>Yes</td>\n",
       "      <td>No</td>\n",
       "      <td>Not applicable</td>\n",
       "      <td>Permanent</td>\n",
       "    </tr>\n",
       "    <tr>\n",
       "      <th>3315</th>\n",
       "      <td>Female</td>\n",
       "      <td>32</td>\n",
       "      <td>Black African</td>\n",
       "      <td>Semi-Detached house</td>\n",
       "      <td>Formal</td>\n",
       "      <td>Western Cape</td>\n",
       "      <td>WC - City of Cape Town</td>\n",
       "      <td>19912775</td>\n",
       "      <td>South Africa</td>\n",
       "      <td>Head/acting head</td>\n",
       "      <td>Single and have never been married/never lived...</td>\n",
       "      <td>IsiXhosa</td>\n",
       "      <td>IsiXhosa</td>\n",
       "      <td>Grade 12/Standard 10/Form 5/Matric (No Exemption)</td>\n",
       "      <td>Yes</td>\n",
       "      <td>No</td>\n",
       "      <td>No</td>\n",
       "      <td>Not applicable</td>\n",
       "      <td>Permanent</td>\n",
       "    </tr>\n",
       "  </tbody>\n",
       "</table>\n",
       "<p>3316 rows × 19 columns</p>\n",
       "</div>"
      ],
      "text/plain": [
       "      gender  age           race  \\\n",
       "0     Female   23       Coloured   \n",
       "1     Female   64  Black African   \n",
       "2     Female   18  Black African   \n",
       "3     Female   19  Black African   \n",
       "4     Female   24  Black African   \n",
       "...      ...  ...            ...   \n",
       "3311  Female   30  Black African   \n",
       "3312  Female   65  Black African   \n",
       "3313  Female   32  Black African   \n",
       "3314  Female   31  Black African   \n",
       "3315  Female   32  Black African   \n",
       "\n",
       "                                               dwelling dwelling_type  \\\n",
       "0     Dwelling/house or brick/concrete block structu...        Formal   \n",
       "1     Dwelling/house or brick/concrete block structu...        Formal   \n",
       "2                                           Unspecified   Unspecified   \n",
       "3     Dwelling/house or brick/concrete block structu...        Formal   \n",
       "4     Dwelling/house or brick/concrete block structu...        Formal   \n",
       "...                                                 ...           ...   \n",
       "3311  Dwelling/house or brick/concrete block structu...        Formal   \n",
       "3312  Informal dwelling/shack not in backyard, e.g i...      Informal   \n",
       "3313  Informal dwelling/shack not in backyard, e.g i...      Informal   \n",
       "3314  Room/flat let on a property or a larger dwelli...        Formal   \n",
       "3315                                Semi-Detached house        Formal   \n",
       "\n",
       "      province_code              metro_code       psu   nationality  \\\n",
       "0     Northern Cape          NC - Non Metro  36410104  South Africa   \n",
       "1           Limpopo          LP - Non Metro  97410477  South Africa   \n",
       "2      Eastern Cape       EC - Buffalo City  26011572  South Africa   \n",
       "3        Mpumalanga          MP - Non Metro  87710674  South Africa   \n",
       "4        Mpumalanga          MP - Non Metro  87411106  South Africa   \n",
       "...             ...                     ...       ...           ...   \n",
       "3311        Gauteng    GP - City of Tshwane  79913175  South Africa   \n",
       "3312     North West          NW - Non Metro  66110745  South Africa   \n",
       "3313        Gauteng    GP - City of Tshwane  79911730  South Africa   \n",
       "3314   Eastern Cape          EC - Non Metro  29410927  South Africa   \n",
       "3315   Western Cape  WC - City of Cape Town  19912775  South Africa   \n",
       "\n",
       "                                                    RTH  \\\n",
       "0                                      Head/acting head   \n",
       "1                                      Head/acting head   \n",
       "2     Son/daughter/stepchild/adopted child of person 01   \n",
       "3     Son/daughter/stepchild/adopted child of person 01   \n",
       "4                                      Head/acting head   \n",
       "...                                                 ...   \n",
       "3311  Son/daughter/stepchild/adopted child of person 01   \n",
       "3312                                   Head/acting head   \n",
       "3313                  Husband/wife/partner of person 01   \n",
       "3314                                   Head/acting head   \n",
       "3315                                   Head/acting head   \n",
       "\n",
       "                                             marital_st Lang_inside  \\\n",
       "0     Single and have never been married/never lived...   Afrikaans   \n",
       "1                                               Widowed   Afrikaans   \n",
       "2     Single and have never been married/never lived...    IsiXhosa   \n",
       "3     Single and have never been married/never lived...    Xitsonga   \n",
       "4     Single and have never been married/never lived...     SiSwati   \n",
       "...                                                 ...         ...   \n",
       "3311  Single and have never been married/never lived...    Setswana   \n",
       "3312                                           Divorced    Setswana   \n",
       "3313                                            Married      Sepedi   \n",
       "3314  Single and have never been married/never lived...    IsiXhosa   \n",
       "3315  Single and have never been married/never lived...    IsiXhosa   \n",
       "\n",
       "     Lang_outside                                          Education lw_work  \\\n",
       "0       Afrikaans                         Grade 10/Standard 8/Form 3     Yes   \n",
       "1       Afrikaans  Grade 12/Standard 10/Form 5/Matric (No Exemption)      No   \n",
       "2        IsiXhosa                         Grade 11/Standard 9/Form 4      No   \n",
       "3          Sepedi  Grade 12/Standard 10/Form 5/Matric (No Exemption)      No   \n",
       "4         SiSwati                         Grade 11/Standard 9/Form 4      No   \n",
       "...           ...                                                ...     ...   \n",
       "3311      English                         Grade 11/Standard 9/Form 4      No   \n",
       "3312     Setswana                          Grade 8/Standard 6/Form 1      No   \n",
       "3313       Sepedi  Grade 12/Standard 10/Form 5/Matric (No Exemption)     Yes   \n",
       "3314     IsiXhosa                         Grade 11/Standard 9/Form 4      No   \n",
       "3315     IsiXhosa  Grade 12/Standard 10/Form 5/Matric (No Exemption)     Yes   \n",
       "\n",
       "     lw_business help_on_household job_or_business  nature_of_work  \n",
       "0             No                No  Not applicable       Permanent  \n",
       "1             No                No              No  Not applicable  \n",
       "2             No                No              No  Not applicable  \n",
       "3             No                No              No  Not applicable  \n",
       "4             No                No              No  Not applicable  \n",
       "...          ...               ...             ...             ...  \n",
       "3311          No                No              No  Not applicable  \n",
       "3312          No                No              No  Not applicable  \n",
       "3313          No                No  Not applicable       Permanent  \n",
       "3314         Yes                No  Not applicable       Permanent  \n",
       "3315          No                No  Not applicable       Permanent  \n",
       "\n",
       "[3316 rows x 19 columns]"
      ]
     },
     "execution_count": 18,
     "metadata": {},
     "output_type": "execute_result"
    }
   ],
   "source": [
    "test_df"
   ]
  },
  {
   "cell_type": "markdown",
   "metadata": {},
   "source": [
    "##### Model\n",
    "- Create a binary classifier model for training purposes.\n",
    "- Using simple RandomForest Classifier"
   ]
  },
  {
   "cell_type": "code",
   "execution_count": 20,
   "metadata": {},
   "outputs": [
    {
     "data": {
      "text/plain": [
       "RandomForestClassifier(class_weight={1: 100})"
      ]
     },
     "execution_count": 20,
     "metadata": {},
     "output_type": "execute_result"
    }
   ],
   "source": [
    "class_weight=dict({1:0,1:100})\n",
    "cls = RandomForestClassifier(class_weight=class_weight)\n",
    "cls.fit(X_train, y_train)"
   ]
  },
  {
   "cell_type": "code",
   "execution_count": 21,
   "metadata": {},
   "outputs": [],
   "source": [
    "# # export to \n",
    "# import sklearn.externals\n",
    "# import joblib\n",
    "\n",
    "# joblib.dump(cls, 'model.joblib')"
   ]
  },
  {
   "cell_type": "markdown",
   "metadata": {},
   "source": [
    "###### 1. validation set\n",
    "- let's see how our classifier performs on the validation dataset"
   ]
  },
  {
   "cell_type": "code",
   "execution_count": 22,
   "metadata": {},
   "outputs": [],
   "source": [
    "# X_val_set = val_set.drop([\"target\", \"ID\"], axis=1)\n",
    "# y_val_set = val_set[\"target\"]"
   ]
  },
  {
   "cell_type": "code",
   "execution_count": 23,
   "metadata": {},
   "outputs": [],
   "source": [
    "y_pred = cls.predict(X_test)"
   ]
  },
  {
   "cell_type": "markdown",
   "metadata": {},
   "source": [
    "###### 2. Error metric\n",
    " - f1 score is the error metric for this competition.\n",
    " - **f1 score** -  "
   ]
  },
  {
   "cell_type": "code",
   "execution_count": 24,
   "metadata": {},
   "outputs": [
    {
     "data": {
      "text/plain": [
       "0.01226993865030675"
      ]
     },
     "execution_count": 24,
     "metadata": {},
     "output_type": "execute_result"
    }
   ],
   "source": [
    "f1_score(y_test, y_pred)"
   ]
  },
  {
   "cell_type": "markdown",
   "metadata": {},
   "source": [
    "-We have an **f1 score of 0.0294**. Think of other ways to improve the scores like;\n",
    "         \n",
    "  - generate more features\n",
    "  - drop the column that are least important, like gender in this case since we're only dealing with female crime data\n",
    "  - try different classifier models, e.g k-Nearest Neighbor(KNN) classifier, Support Vector Machines, catboost classifier etc"
   ]
  },
  {
   "cell_type": "code",
   "execution_count": 25,
   "metadata": {},
   "outputs": [
    {
     "data": {
      "text/plain": [
       "0.9167528438469493"
      ]
     },
     "execution_count": 25,
     "metadata": {},
     "output_type": "execute_result"
    }
   ],
   "source": [
    "accuracy_score(y_test,y_pred)"
   ]
  },
  {
   "cell_type": "code",
   "execution_count": 26,
   "metadata": {},
   "outputs": [
    {
     "name": "stdout",
     "output_type": "stream",
     "text": [
      "F1 score on the X_test is: 0.1919831223628692\n"
     ]
    }
   ],
   "source": [
    "# lightgbm\n",
    "class_weight=dict({1:0,1:100})\n",
    "\n",
    "from lightgbm import LGBMClassifier\n",
    "lgb = LGBMClassifier(class_weight=class_weight)\n",
    "lgb.fit(X_train, y_train)\n",
    "y_pred = lgb.predict(X_test)\n",
    "print(f'F1 score on the X_test is: {f1_score(y_test, y_pred)}')"
   ]
  },
  {
   "cell_type": "code",
   "execution_count": 27,
   "metadata": {},
   "outputs": [
    {
     "ename": "ValueError",
     "evalue": "DataFrame.dtypes for data must be int, float or bool.\nDid not expect the data types in the following fields: gender, race, dwelling, dwelling_type, province_code, metro_code, nationality, RTH, marital_st, Lang_inside, Lang_outside, Education, lw_work, lw_business, help_on_household, job_or_business, nature_of_work",
     "output_type": "error",
     "traceback": [
      "\u001b[0;31m---------------------------------------------------------------------------\u001b[0m",
      "\u001b[0;31mValueError\u001b[0m                                Traceback (most recent call last)",
      "\u001b[0;32m<ipython-input-27-401a7b6b2efc>\u001b[0m in \u001b[0;36m<module>\u001b[0;34m\u001b[0m\n\u001b[0;32m----> 1\u001b[0;31m \u001b[0mpredictions_lgb\u001b[0m  \u001b[0;34m=\u001b[0m \u001b[0mlgb\u001b[0m\u001b[0;34m.\u001b[0m\u001b[0mpredict\u001b[0m\u001b[0;34m(\u001b[0m\u001b[0mtest_df\u001b[0m\u001b[0;34m)\u001b[0m\u001b[0;34m\u001b[0m\u001b[0;34m\u001b[0m\u001b[0m\n\u001b[0m\u001b[1;32m      2\u001b[0m \u001b[0;34m\u001b[0m\u001b[0m\n\u001b[1;32m      3\u001b[0m \u001b[0msubmission_df\u001b[0m \u001b[0;34m=\u001b[0m \u001b[0mpd\u001b[0m\u001b[0;34m.\u001b[0m\u001b[0mDataFrame\u001b[0m\u001b[0;34m(\u001b[0m\u001b[0;34m{\u001b[0m\u001b[0;34m'ID'\u001b[0m\u001b[0;34m:\u001b[0m \u001b[0mX_final\u001b[0m\u001b[0;34m,\u001b[0m \u001b[0;34m'target'\u001b[0m\u001b[0;34m:\u001b[0m \u001b[0mpredictions_lgb\u001b[0m\u001b[0;34m}\u001b[0m\u001b[0;34m)\u001b[0m \u001b[0;31m# Creating a submission file\u001b[0m\u001b[0;34m\u001b[0m\u001b[0;34m\u001b[0m\u001b[0m\n\u001b[1;32m      4\u001b[0m \u001b[0mfilename\u001b[0m \u001b[0;34m=\u001b[0m \u001b[0;34m'submission_lgb.csv'\u001b[0m\u001b[0;34m\u001b[0m\u001b[0;34m\u001b[0m\u001b[0m\n\u001b[1;32m      5\u001b[0m \u001b[0;34m\u001b[0m\u001b[0m\n",
      "\u001b[0;32m~/anaconda3/lib/python3.8/site-packages/lightgbm/sklearn.py\u001b[0m in \u001b[0;36mpredict\u001b[0;34m(self, X, raw_score, start_iteration, num_iteration, pred_leaf, pred_contrib, **kwargs)\u001b[0m\n\u001b[1;32m    867\u001b[0m                 pred_leaf=False, pred_contrib=False, **kwargs):\n\u001b[1;32m    868\u001b[0m         \u001b[0;34m\"\"\"Docstring is inherited from the LGBMModel.\"\"\"\u001b[0m\u001b[0;34m\u001b[0m\u001b[0;34m\u001b[0m\u001b[0m\n\u001b[0;32m--> 869\u001b[0;31m         result = self.predict_proba(X, raw_score, start_iteration, num_iteration,\n\u001b[0m\u001b[1;32m    870\u001b[0m                                     pred_leaf, pred_contrib, **kwargs)\n\u001b[1;32m    871\u001b[0m         \u001b[0;32mif\u001b[0m \u001b[0mcallable\u001b[0m\u001b[0;34m(\u001b[0m\u001b[0mself\u001b[0m\u001b[0;34m.\u001b[0m\u001b[0m_objective\u001b[0m\u001b[0;34m)\u001b[0m \u001b[0;32mor\u001b[0m \u001b[0mraw_score\u001b[0m \u001b[0;32mor\u001b[0m \u001b[0mpred_leaf\u001b[0m \u001b[0;32mor\u001b[0m \u001b[0mpred_contrib\u001b[0m\u001b[0;34m:\u001b[0m\u001b[0;34m\u001b[0m\u001b[0;34m\u001b[0m\u001b[0m\n",
      "\u001b[0;32m~/anaconda3/lib/python3.8/site-packages/lightgbm/sklearn.py\u001b[0m in \u001b[0;36mpredict_proba\u001b[0;34m(self, X, raw_score, start_iteration, num_iteration, pred_leaf, pred_contrib, **kwargs)\u001b[0m\n\u001b[1;32m    920\u001b[0m             \u001b[0mIf\u001b[0m\u001b[0;31m \u001b[0m\u001b[0;31m`\u001b[0m\u001b[0;31m`\u001b[0m\u001b[0mpred_contrib\u001b[0m\u001b[0;34m=\u001b[0m\u001b[0;32mTrue\u001b[0m\u001b[0;31m`\u001b[0m\u001b[0;31m`\u001b[0m\u001b[0;34m,\u001b[0m \u001b[0mthe\u001b[0m \u001b[0mfeature\u001b[0m \u001b[0mcontributions\u001b[0m \u001b[0;32mfor\u001b[0m \u001b[0meach\u001b[0m \u001b[0msample\u001b[0m\u001b[0;34m.\u001b[0m\u001b[0;34m\u001b[0m\u001b[0;34m\u001b[0m\u001b[0m\n\u001b[1;32m    921\u001b[0m         \"\"\"\n\u001b[0;32m--> 922\u001b[0;31m         result = super(LGBMClassifier, self).predict(X, raw_score, start_iteration, num_iteration,\n\u001b[0m\u001b[1;32m    923\u001b[0m                                                      pred_leaf, pred_contrib, **kwargs)\n\u001b[1;32m    924\u001b[0m         \u001b[0;32mif\u001b[0m \u001b[0mcallable\u001b[0m\u001b[0;34m(\u001b[0m\u001b[0mself\u001b[0m\u001b[0;34m.\u001b[0m\u001b[0m_objective\u001b[0m\u001b[0;34m)\u001b[0m \u001b[0;32mand\u001b[0m \u001b[0;32mnot\u001b[0m \u001b[0;34m(\u001b[0m\u001b[0mraw_score\u001b[0m \u001b[0;32mor\u001b[0m \u001b[0mpred_leaf\u001b[0m \u001b[0;32mor\u001b[0m \u001b[0mpred_contrib\u001b[0m\u001b[0;34m)\u001b[0m\u001b[0;34m:\u001b[0m\u001b[0;34m\u001b[0m\u001b[0;34m\u001b[0m\u001b[0m\n",
      "\u001b[0;32m~/anaconda3/lib/python3.8/site-packages/lightgbm/sklearn.py\u001b[0m in \u001b[0;36mpredict\u001b[0;34m(self, X, raw_score, start_iteration, num_iteration, pred_leaf, pred_contrib, **kwargs)\u001b[0m\n\u001b[1;32m    685\u001b[0m                              \u001b[0;34m\"input n_features is %s \"\u001b[0m\u001b[0;34m\u001b[0m\u001b[0;34m\u001b[0m\u001b[0m\n\u001b[1;32m    686\u001b[0m                              % (self._n_features, n_features))\n\u001b[0;32m--> 687\u001b[0;31m         return self._Booster.predict(X, raw_score=raw_score, start_iteration=start_iteration, num_iteration=num_iteration,\n\u001b[0m\u001b[1;32m    688\u001b[0m                                      pred_leaf=pred_leaf, pred_contrib=pred_contrib, **kwargs)\n\u001b[1;32m    689\u001b[0m \u001b[0;34m\u001b[0m\u001b[0m\n",
      "\u001b[0;32m~/anaconda3/lib/python3.8/site-packages/lightgbm/basic.py\u001b[0m in \u001b[0;36mpredict\u001b[0;34m(self, data, start_iteration, num_iteration, raw_score, pred_leaf, pred_contrib, data_has_header, is_reshape, **kwargs)\u001b[0m\n\u001b[1;32m   2955\u001b[0m             \u001b[0;32melse\u001b[0m\u001b[0;34m:\u001b[0m\u001b[0;34m\u001b[0m\u001b[0;34m\u001b[0m\u001b[0m\n\u001b[1;32m   2956\u001b[0m                 \u001b[0mnum_iteration\u001b[0m \u001b[0;34m=\u001b[0m \u001b[0;34m-\u001b[0m\u001b[0;36m1\u001b[0m\u001b[0;34m\u001b[0m\u001b[0;34m\u001b[0m\u001b[0m\n\u001b[0;32m-> 2957\u001b[0;31m         return predictor.predict(data, start_iteration, num_iteration,\n\u001b[0m\u001b[1;32m   2958\u001b[0m                                  \u001b[0mraw_score\u001b[0m\u001b[0;34m,\u001b[0m \u001b[0mpred_leaf\u001b[0m\u001b[0;34m,\u001b[0m \u001b[0mpred_contrib\u001b[0m\u001b[0;34m,\u001b[0m\u001b[0;34m\u001b[0m\u001b[0;34m\u001b[0m\u001b[0m\n\u001b[1;32m   2959\u001b[0m                                  data_has_header, is_reshape)\n",
      "\u001b[0;32m~/anaconda3/lib/python3.8/site-packages/lightgbm/basic.py\u001b[0m in \u001b[0;36mpredict\u001b[0;34m(self, data, start_iteration, num_iteration, raw_score, pred_leaf, pred_contrib, data_has_header, is_reshape)\u001b[0m\n\u001b[1;32m    554\u001b[0m         \u001b[0;32mif\u001b[0m \u001b[0misinstance\u001b[0m\u001b[0;34m(\u001b[0m\u001b[0mdata\u001b[0m\u001b[0;34m,\u001b[0m \u001b[0mDataset\u001b[0m\u001b[0;34m)\u001b[0m\u001b[0;34m:\u001b[0m\u001b[0;34m\u001b[0m\u001b[0;34m\u001b[0m\u001b[0m\n\u001b[1;32m    555\u001b[0m             \u001b[0;32mraise\u001b[0m \u001b[0mTypeError\u001b[0m\u001b[0;34m(\u001b[0m\u001b[0;34m\"Cannot use Dataset instance for prediction, please use raw data instead\"\u001b[0m\u001b[0;34m)\u001b[0m\u001b[0;34m\u001b[0m\u001b[0;34m\u001b[0m\u001b[0m\n\u001b[0;32m--> 556\u001b[0;31m         \u001b[0mdata\u001b[0m \u001b[0;34m=\u001b[0m \u001b[0m_data_from_pandas\u001b[0m\u001b[0;34m(\u001b[0m\u001b[0mdata\u001b[0m\u001b[0;34m,\u001b[0m \u001b[0;32mNone\u001b[0m\u001b[0;34m,\u001b[0m \u001b[0;32mNone\u001b[0m\u001b[0;34m,\u001b[0m \u001b[0mself\u001b[0m\u001b[0;34m.\u001b[0m\u001b[0mpandas_categorical\u001b[0m\u001b[0;34m)\u001b[0m\u001b[0;34m[\u001b[0m\u001b[0;36m0\u001b[0m\u001b[0;34m]\u001b[0m\u001b[0;34m\u001b[0m\u001b[0;34m\u001b[0m\u001b[0m\n\u001b[0m\u001b[1;32m    557\u001b[0m         \u001b[0mpredict_type\u001b[0m \u001b[0;34m=\u001b[0m \u001b[0mC_API_PREDICT_NORMAL\u001b[0m\u001b[0;34m\u001b[0m\u001b[0;34m\u001b[0m\u001b[0m\n\u001b[1;32m    558\u001b[0m         \u001b[0;32mif\u001b[0m \u001b[0mraw_score\u001b[0m\u001b[0;34m:\u001b[0m\u001b[0;34m\u001b[0m\u001b[0;34m\u001b[0m\u001b[0m\n",
      "\u001b[0;32m~/anaconda3/lib/python3.8/site-packages/lightgbm/basic.py\u001b[0m in \u001b[0;36m_data_from_pandas\u001b[0;34m(data, feature_name, categorical_feature, pandas_categorical)\u001b[0m\n\u001b[1;32m    393\u001b[0m         \u001b[0mbad_indices\u001b[0m \u001b[0;34m=\u001b[0m \u001b[0m_get_bad_pandas_dtypes\u001b[0m\u001b[0;34m(\u001b[0m\u001b[0mdata\u001b[0m\u001b[0;34m.\u001b[0m\u001b[0mdtypes\u001b[0m\u001b[0;34m)\u001b[0m\u001b[0;34m\u001b[0m\u001b[0;34m\u001b[0m\u001b[0m\n\u001b[1;32m    394\u001b[0m         \u001b[0;32mif\u001b[0m \u001b[0mbad_indices\u001b[0m\u001b[0;34m:\u001b[0m\u001b[0;34m\u001b[0m\u001b[0;34m\u001b[0m\u001b[0m\n\u001b[0;32m--> 395\u001b[0;31m             raise ValueError(\"DataFrame.dtypes for data must be int, float or bool.\\n\"\n\u001b[0m\u001b[1;32m    396\u001b[0m                              \u001b[0;34m\"Did not expect the data types in the following fields: \"\u001b[0m\u001b[0;34m\u001b[0m\u001b[0;34m\u001b[0m\u001b[0m\n\u001b[1;32m    397\u001b[0m                              + ', '.join(data.columns[bad_indices]))\n",
      "\u001b[0;31mValueError\u001b[0m: DataFrame.dtypes for data must be int, float or bool.\nDid not expect the data types in the following fields: gender, race, dwelling, dwelling_type, province_code, metro_code, nationality, RTH, marital_st, Lang_inside, Lang_outside, Education, lw_work, lw_business, help_on_household, job_or_business, nature_of_work"
     ]
    }
   ],
   "source": [
    "predictions_lgb  = lgb.predict(test_df)\n",
    "\n",
    "submission_df = pd.DataFrame({'ID': X_final, 'target': predictions_lgb}) # Creating a submission file\n",
    "filename = 'submission_lgb.csv'\n",
    "\n",
    "submission_df.to_csv(filename,index=False)\n",
    "\n",
    "print('Saved file: ' + filename)"
   ]
  },
  {
   "cell_type": "code",
   "execution_count": null,
   "metadata": {},
   "outputs": [],
   "source": [
    "### predict on the test data\n",
    "test_ = test_df.drop([\"ID\"], axis=1)\n",
    "test_predictions = .predict(test_)\n",
    "submission_df = pd.DataFrame()\n",
    "submission_df[\"ID\"] = test_df[\"ID\"]\n",
    "submission_df[\"target\"] = test_predictions\n",
    "# file\n",
    "submission_df.to_csv(\"submission.csv\", index=False)"
   ]
  },
  {
   "cell_type": "code",
   "execution_count": null,
   "metadata": {},
   "outputs": [],
   "source": []
  },
  {
   "cell_type": "code",
   "execution_count": null,
   "metadata": {},
   "outputs": [],
   "source": []
  },
  {
   "cell_type": "code",
   "execution_count": null,
   "metadata": {},
   "outputs": [],
   "source": []
  },
  {
   "cell_type": "code",
   "execution_count": null,
   "metadata": {},
   "outputs": [],
   "source": []
  },
  {
   "cell_type": "code",
   "execution_count": null,
   "metadata": {},
   "outputs": [],
   "source": []
  },
  {
   "cell_type": "markdown",
   "metadata": {},
   "source": [
    "#### Submission\n",
    "\n",
    "- generating a sumission file "
   ]
  },
  {
   "cell_type": "markdown",
   "metadata": {},
   "source": [
    "###### 1. load the test data\n",
    "\n",
    "- Do the same preprocessing performed on the training data"
   ]
  },
  {
   "cell_type": "code",
   "execution_count": null,
   "metadata": {},
   "outputs": [],
   "source": [
    "test_df = pd.read_csv(\"Test.csv\")\n",
    "\n",
    "# preprocessing\n",
    "test_df['gender'] = label.fit_transform(test_df['gender'])\n",
    "test_df['race'] = label.fit_transform(test_df['race'])\n",
    "\n",
    "# preprocess all the othe columns as well\n",
    "test_df['dwelling'] = label.fit_transform(test_df['dwelling'])\n",
    "test_df['dwelling_type'] = label.fit_transform(test_df['dwelling_type'])\n",
    "test_df['province_code'] = label.fit_transform(test_df['province_code'])\n",
    "test_df['metro_code'] = label.fit_transform(test_df['metro_code'])\n",
    "test_df['nationality'] = label.fit_transform(test_df['nationality'])\n",
    "test_df['RTH'] = label.fit_transform(test_df['RTH'])\n",
    "test_df['marital_st'] = label.fit_transform(test_df['marital_st'])\n",
    "test_df['Lang_inside'] = label.fit_transform(test_df['Lang_inside'])\n",
    "test_df['Lang_outside'] = label.fit_transform(test_df['Lang_outside'])\n",
    "test_df['Education'] = label.fit_transform(test_df['Education'])\n",
    "test_df['lw_work'] = label.fit_transform(test_df['lw_work'])\n",
    "test_df['lw_business'] = label.fit_transform(test_df['lw_business'])\n",
    "test_df['help_on_household'] = label.fit_transform(test_df['help_on_household'])\n",
    "test_df['job_or_business'] = label.fit_transform(test_df['job_or_business'])\n",
    "test_df['nature_of_work'] = label.fit_transform(test_df['nature_of_work'])"
   ]
  },
  {
   "cell_type": "code",
   "execution_count": null,
   "metadata": {},
   "outputs": [],
   "source": [
    "test_df.head()"
   ]
  },
  {
   "cell_type": "code",
   "execution_count": null,
   "metadata": {},
   "outputs": [],
   "source": [
    "### predict on the test data\n",
    "test_ = test_df.drop([\"ID\"], axis=1)\n",
    "test_predictions = cls.predict(test_)\n",
    "submission_df = pd.DataFrame()\n",
    "submission_df[\"ID\"] = test_df[\"ID\"]\n",
    "submission_df[\"target\"] = test_predictions\n",
    "# file\n",
    "submission_df.to_csv(\"submission.csv\", index=False)"
   ]
  },
  {
   "cell_type": "code",
   "execution_count": null,
   "metadata": {},
   "outputs": [],
   "source": []
  },
  {
   "cell_type": "code",
   "execution_count": null,
   "metadata": {},
   "outputs": [],
   "source": []
  }
 ],
 "metadata": {
  "kernelspec": {
   "display_name": "Python 3",
   "language": "python",
   "name": "python3"
  },
  "language_info": {
   "codemirror_mode": {
    "name": "ipython",
    "version": 3
   },
   "file_extension": ".py",
   "mimetype": "text/x-python",
   "name": "python",
   "nbconvert_exporter": "python",
   "pygments_lexer": "ipython3",
   "version": "3.8.5"
  }
 },
 "nbformat": 4,
 "nbformat_minor": 5
}
