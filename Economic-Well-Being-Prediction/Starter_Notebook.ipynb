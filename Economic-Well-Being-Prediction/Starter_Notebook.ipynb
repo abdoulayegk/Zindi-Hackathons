{
 "cells": [
  {
   "cell_type": "markdown",
   "metadata": {},
   "source": [
    "# Starter Notebook: Economic Well-Being Prediction Challenge\n",
    "\n",
    "Welcome! This starter notebook is designed to get you started on this challenge, where you will be attempting to predict a measure of wealth for different locations across Africa. We will take a look at the data, create a model and then use that to make our first submission. After that we will briefly look at some ways to improve. Let's get started."
   ]
  },
  {
   "cell_type": "markdown",
   "metadata": {},
   "source": [
    "# Loading the Data\n",
    "\n",
    "We're using the pandas library to load the data into dataframes - a tabular data structure that is perfect for this kind of work. Each of the three CSV files from Zindi is loaded into a dataframe and we take a look at the shape of the data (number of rows and columns) as well as a preview of the first 5 rows to get a feel for what we're working with."
   ]
  },
  {
   "cell_type": "code",
   "execution_count": 1,
   "metadata": {},
   "outputs": [],
   "source": [
    "import pandas as pd"
   ]
  },
  {
   "cell_type": "code",
   "execution_count": 2,
   "metadata": {},
   "outputs": [
    {
     "name": "stdout",
     "output_type": "stream",
     "text": [
      "(21454, 19)\n"
     ]
    },
    {
     "data": {
      "text/html": [
       "<div>\n",
       "<style scoped>\n",
       "    .dataframe tbody tr th:only-of-type {\n",
       "        vertical-align: middle;\n",
       "    }\n",
       "\n",
       "    .dataframe tbody tr th {\n",
       "        vertical-align: top;\n",
       "    }\n",
       "\n",
       "    .dataframe thead th {\n",
       "        text-align: right;\n",
       "    }\n",
       "</style>\n",
       "<table border=\"1\" class=\"dataframe\">\n",
       "  <thead>\n",
       "    <tr style=\"text-align: right;\">\n",
       "      <th></th>\n",
       "      <th>ID</th>\n",
       "      <th>country</th>\n",
       "      <th>year</th>\n",
       "      <th>urban_or_rural</th>\n",
       "      <th>ghsl_water_surface</th>\n",
       "      <th>ghsl_built_pre_1975</th>\n",
       "      <th>ghsl_built_1975_to_1990</th>\n",
       "      <th>ghsl_built_1990_to_2000</th>\n",
       "      <th>ghsl_built_2000_to_2014</th>\n",
       "      <th>ghsl_not_built_up</th>\n",
       "      <th>ghsl_pop_density</th>\n",
       "      <th>landcover_crops_fraction</th>\n",
       "      <th>landcover_urban_fraction</th>\n",
       "      <th>landcover_water_permanent_10km_fraction</th>\n",
       "      <th>landcover_water_seasonal_10km_fraction</th>\n",
       "      <th>nighttime_lights</th>\n",
       "      <th>dist_to_capital</th>\n",
       "      <th>dist_to_shoreline</th>\n",
       "      <th>Target</th>\n",
       "    </tr>\n",
       "  </thead>\n",
       "  <tbody>\n",
       "    <tr>\n",
       "      <th>0</th>\n",
       "      <td>ID_AAIethGy</td>\n",
       "      <td>Ethiopia</td>\n",
       "      <td>2016</td>\n",
       "      <td>R</td>\n",
       "      <td>0.0</td>\n",
       "      <td>0.000000</td>\n",
       "      <td>0.000000</td>\n",
       "      <td>0.000055</td>\n",
       "      <td>0.000536</td>\n",
       "      <td>0.999408</td>\n",
       "      <td>12.146134</td>\n",
       "      <td>25.489659</td>\n",
       "      <td>0.879484</td>\n",
       "      <td>0.000000</td>\n",
       "      <td>0.000000</td>\n",
       "      <td>0.000000</td>\n",
       "      <td>278.788451</td>\n",
       "      <td>769.338378</td>\n",
       "      <td>0.132783</td>\n",
       "    </tr>\n",
       "    <tr>\n",
       "      <th>1</th>\n",
       "      <td>ID_AAYiaCeL</td>\n",
       "      <td>Ethiopia</td>\n",
       "      <td>2005</td>\n",
       "      <td>R</td>\n",
       "      <td>0.0</td>\n",
       "      <td>0.000000</td>\n",
       "      <td>0.000110</td>\n",
       "      <td>0.000000</td>\n",
       "      <td>0.000018</td>\n",
       "      <td>0.999872</td>\n",
       "      <td>113.806716</td>\n",
       "      <td>64.136053</td>\n",
       "      <td>0.601427</td>\n",
       "      <td>0.000000</td>\n",
       "      <td>0.005427</td>\n",
       "      <td>0.000000</td>\n",
       "      <td>200.986978</td>\n",
       "      <td>337.135243</td>\n",
       "      <td>0.004898</td>\n",
       "    </tr>\n",
       "    <tr>\n",
       "      <th>2</th>\n",
       "      <td>ID_AAdurmKj</td>\n",
       "      <td>Mozambique</td>\n",
       "      <td>2009</td>\n",
       "      <td>R</td>\n",
       "      <td>0.0</td>\n",
       "      <td>0.000000</td>\n",
       "      <td>0.000000</td>\n",
       "      <td>0.000000</td>\n",
       "      <td>0.000000</td>\n",
       "      <td>1.000000</td>\n",
       "      <td>0.000000</td>\n",
       "      <td>4.400096</td>\n",
       "      <td>0.131900</td>\n",
       "      <td>0.000000</td>\n",
       "      <td>0.003078</td>\n",
       "      <td>0.000000</td>\n",
       "      <td>642.594208</td>\n",
       "      <td>169.913773</td>\n",
       "      <td>0.097320</td>\n",
       "    </tr>\n",
       "    <tr>\n",
       "      <th>3</th>\n",
       "      <td>ID_AAgNHles</td>\n",
       "      <td>Malawi</td>\n",
       "      <td>2015</td>\n",
       "      <td>R</td>\n",
       "      <td>0.0</td>\n",
       "      <td>0.000141</td>\n",
       "      <td>0.000181</td>\n",
       "      <td>0.000254</td>\n",
       "      <td>0.000228</td>\n",
       "      <td>0.999195</td>\n",
       "      <td>5.213320</td>\n",
       "      <td>25.379371</td>\n",
       "      <td>2.017136</td>\n",
       "      <td>11.293841</td>\n",
       "      <td>0.131035</td>\n",
       "      <td>0.000000</td>\n",
       "      <td>365.349451</td>\n",
       "      <td>613.591610</td>\n",
       "      <td>0.304107</td>\n",
       "    </tr>\n",
       "    <tr>\n",
       "      <th>4</th>\n",
       "      <td>ID_AAishfND</td>\n",
       "      <td>Guinea</td>\n",
       "      <td>2012</td>\n",
       "      <td>U</td>\n",
       "      <td>0.0</td>\n",
       "      <td>0.011649</td>\n",
       "      <td>0.017560</td>\n",
       "      <td>0.017383</td>\n",
       "      <td>0.099875</td>\n",
       "      <td>0.853533</td>\n",
       "      <td>31.734661</td>\n",
       "      <td>5.081620</td>\n",
       "      <td>22.815984</td>\n",
       "      <td>0.005047</td>\n",
       "      <td>0.130475</td>\n",
       "      <td>1.461894</td>\n",
       "      <td>222.867189</td>\n",
       "      <td>192.926363</td>\n",
       "      <td>0.605328</td>\n",
       "    </tr>\n",
       "  </tbody>\n",
       "</table>\n",
       "</div>"
      ],
      "text/plain": [
       "            ID     country  year urban_or_rural  ghsl_water_surface  \\\n",
       "0  ID_AAIethGy    Ethiopia  2016              R                 0.0   \n",
       "1  ID_AAYiaCeL    Ethiopia  2005              R                 0.0   \n",
       "2  ID_AAdurmKj  Mozambique  2009              R                 0.0   \n",
       "3  ID_AAgNHles      Malawi  2015              R                 0.0   \n",
       "4  ID_AAishfND      Guinea  2012              U                 0.0   \n",
       "\n",
       "   ghsl_built_pre_1975  ghsl_built_1975_to_1990  ghsl_built_1990_to_2000  \\\n",
       "0             0.000000                 0.000000                 0.000055   \n",
       "1             0.000000                 0.000110                 0.000000   \n",
       "2             0.000000                 0.000000                 0.000000   \n",
       "3             0.000141                 0.000181                 0.000254   \n",
       "4             0.011649                 0.017560                 0.017383   \n",
       "\n",
       "   ghsl_built_2000_to_2014  ghsl_not_built_up  ghsl_pop_density  \\\n",
       "0                 0.000536           0.999408         12.146134   \n",
       "1                 0.000018           0.999872        113.806716   \n",
       "2                 0.000000           1.000000          0.000000   \n",
       "3                 0.000228           0.999195          5.213320   \n",
       "4                 0.099875           0.853533         31.734661   \n",
       "\n",
       "   landcover_crops_fraction  landcover_urban_fraction  \\\n",
       "0                 25.489659                  0.879484   \n",
       "1                 64.136053                  0.601427   \n",
       "2                  4.400096                  0.131900   \n",
       "3                 25.379371                  2.017136   \n",
       "4                  5.081620                 22.815984   \n",
       "\n",
       "   landcover_water_permanent_10km_fraction  \\\n",
       "0                                 0.000000   \n",
       "1                                 0.000000   \n",
       "2                                 0.000000   \n",
       "3                                11.293841   \n",
       "4                                 0.005047   \n",
       "\n",
       "   landcover_water_seasonal_10km_fraction  nighttime_lights  dist_to_capital  \\\n",
       "0                                0.000000          0.000000       278.788451   \n",
       "1                                0.005427          0.000000       200.986978   \n",
       "2                                0.003078          0.000000       642.594208   \n",
       "3                                0.131035          0.000000       365.349451   \n",
       "4                                0.130475          1.461894       222.867189   \n",
       "\n",
       "   dist_to_shoreline    Target  \n",
       "0         769.338378  0.132783  \n",
       "1         337.135243  0.004898  \n",
       "2         169.913773  0.097320  \n",
       "3         613.591610  0.304107  \n",
       "4         192.926363  0.605328  "
      ]
     },
     "execution_count": 2,
     "metadata": {},
     "output_type": "execute_result"
    }
   ],
   "source": [
    "train = pd.read_csv('Train.csv')\n",
    "print(train.shape)\n",
    "train.head()"
   ]
  },
  {
   "cell_type": "markdown",
   "metadata": {},
   "source": [
    "In train, we have a set of inputs (like 'urban_or_rural' or 'ghsl_water_surface') and our desired output variable, 'Target'. There are 21454 rows - lots of juicy data!"
   ]
  },
  {
   "cell_type": "code",
   "execution_count": 3,
   "metadata": {},
   "outputs": [
    {
     "name": "stdout",
     "output_type": "stream",
     "text": [
      "(7194, 18)\n"
     ]
    },
    {
     "data": {
      "text/html": [
       "<div>\n",
       "<style scoped>\n",
       "    .dataframe tbody tr th:only-of-type {\n",
       "        vertical-align: middle;\n",
       "    }\n",
       "\n",
       "    .dataframe tbody tr th {\n",
       "        vertical-align: top;\n",
       "    }\n",
       "\n",
       "    .dataframe thead th {\n",
       "        text-align: right;\n",
       "    }\n",
       "</style>\n",
       "<table border=\"1\" class=\"dataframe\">\n",
       "  <thead>\n",
       "    <tr style=\"text-align: right;\">\n",
       "      <th></th>\n",
       "      <th>ID</th>\n",
       "      <th>country</th>\n",
       "      <th>year</th>\n",
       "      <th>urban_or_rural</th>\n",
       "      <th>ghsl_water_surface</th>\n",
       "      <th>ghsl_built_pre_1975</th>\n",
       "      <th>ghsl_built_1975_to_1990</th>\n",
       "      <th>ghsl_built_1990_to_2000</th>\n",
       "      <th>ghsl_built_2000_to_2014</th>\n",
       "      <th>ghsl_not_built_up</th>\n",
       "      <th>ghsl_pop_density</th>\n",
       "      <th>landcover_crops_fraction</th>\n",
       "      <th>landcover_urban_fraction</th>\n",
       "      <th>landcover_water_permanent_10km_fraction</th>\n",
       "      <th>landcover_water_seasonal_10km_fraction</th>\n",
       "      <th>nighttime_lights</th>\n",
       "      <th>dist_to_capital</th>\n",
       "      <th>dist_to_shoreline</th>\n",
       "    </tr>\n",
       "  </thead>\n",
       "  <tbody>\n",
       "    <tr>\n",
       "      <th>0</th>\n",
       "      <td>ID_AAcismbB</td>\n",
       "      <td>Democratic Republic of Congo</td>\n",
       "      <td>2007</td>\n",
       "      <td>R</td>\n",
       "      <td>0.000000</td>\n",
       "      <td>0.000000</td>\n",
       "      <td>0.000000</td>\n",
       "      <td>0.000523</td>\n",
       "      <td>0.000131</td>\n",
       "      <td>0.999347</td>\n",
       "      <td>0.660758</td>\n",
       "      <td>0.990942</td>\n",
       "      <td>0.132264</td>\n",
       "      <td>0.069055</td>\n",
       "      <td>0.032627</td>\n",
       "      <td>0.000000</td>\n",
       "      <td>1249.294720</td>\n",
       "      <td>1364.592100</td>\n",
       "    </tr>\n",
       "    <tr>\n",
       "      <th>1</th>\n",
       "      <td>ID_AAeBMsji</td>\n",
       "      <td>Democratic Republic of Congo</td>\n",
       "      <td>2007</td>\n",
       "      <td>U</td>\n",
       "      <td>0.000000</td>\n",
       "      <td>0.004239</td>\n",
       "      <td>0.000238</td>\n",
       "      <td>0.001227</td>\n",
       "      <td>0.002860</td>\n",
       "      <td>0.991437</td>\n",
       "      <td>6.441547</td>\n",
       "      <td>5.461365</td>\n",
       "      <td>0.452400</td>\n",
       "      <td>0.000000</td>\n",
       "      <td>0.000000</td>\n",
       "      <td>0.000000</td>\n",
       "      <td>821.019579</td>\n",
       "      <td>1046.028681</td>\n",
       "    </tr>\n",
       "    <tr>\n",
       "      <th>2</th>\n",
       "      <td>ID_AAjFMjzy</td>\n",
       "      <td>Uganda</td>\n",
       "      <td>2011</td>\n",
       "      <td>U</td>\n",
       "      <td>0.007359</td>\n",
       "      <td>0.525682</td>\n",
       "      <td>0.132795</td>\n",
       "      <td>0.095416</td>\n",
       "      <td>0.042375</td>\n",
       "      <td>0.196373</td>\n",
       "      <td>587.516458</td>\n",
       "      <td>2.881811</td>\n",
       "      <td>87.387991</td>\n",
       "      <td>3.248483</td>\n",
       "      <td>3.950374</td>\n",
       "      <td>60.070041</td>\n",
       "      <td>3.620455</td>\n",
       "      <td>906.057334</td>\n",
       "    </tr>\n",
       "    <tr>\n",
       "      <th>3</th>\n",
       "      <td>ID_AAmMOEEC</td>\n",
       "      <td>Burkina Faso</td>\n",
       "      <td>2010</td>\n",
       "      <td>U</td>\n",
       "      <td>0.000000</td>\n",
       "      <td>0.000089</td>\n",
       "      <td>0.000036</td>\n",
       "      <td>0.001519</td>\n",
       "      <td>0.001358</td>\n",
       "      <td>0.996997</td>\n",
       "      <td>35.141762</td>\n",
       "      <td>33.878927</td>\n",
       "      <td>4.166437</td>\n",
       "      <td>0.000000</td>\n",
       "      <td>0.130727</td>\n",
       "      <td>1.333999</td>\n",
       "      <td>109.493969</td>\n",
       "      <td>775.139189</td>\n",
       "    </tr>\n",
       "    <tr>\n",
       "      <th>4</th>\n",
       "      <td>ID_ABguzDxp</td>\n",
       "      <td>Zambia</td>\n",
       "      <td>2007</td>\n",
       "      <td>R</td>\n",
       "      <td>0.000000</td>\n",
       "      <td>0.000138</td>\n",
       "      <td>0.000623</td>\n",
       "      <td>0.000615</td>\n",
       "      <td>0.002961</td>\n",
       "      <td>0.995663</td>\n",
       "      <td>3.442449</td>\n",
       "      <td>33.491994</td>\n",
       "      <td>3.437129</td>\n",
       "      <td>0.133563</td>\n",
       "      <td>0.128997</td>\n",
       "      <td>0.502203</td>\n",
       "      <td>133.643319</td>\n",
       "      <td>835.591501</td>\n",
       "    </tr>\n",
       "  </tbody>\n",
       "</table>\n",
       "</div>"
      ],
      "text/plain": [
       "            ID                       country  year urban_or_rural  \\\n",
       "0  ID_AAcismbB  Democratic Republic of Congo  2007              R   \n",
       "1  ID_AAeBMsji  Democratic Republic of Congo  2007              U   \n",
       "2  ID_AAjFMjzy                        Uganda  2011              U   \n",
       "3  ID_AAmMOEEC                  Burkina Faso  2010              U   \n",
       "4  ID_ABguzDxp                        Zambia  2007              R   \n",
       "\n",
       "   ghsl_water_surface  ghsl_built_pre_1975  ghsl_built_1975_to_1990  \\\n",
       "0            0.000000             0.000000                 0.000000   \n",
       "1            0.000000             0.004239                 0.000238   \n",
       "2            0.007359             0.525682                 0.132795   \n",
       "3            0.000000             0.000089                 0.000036   \n",
       "4            0.000000             0.000138                 0.000623   \n",
       "\n",
       "   ghsl_built_1990_to_2000  ghsl_built_2000_to_2014  ghsl_not_built_up  \\\n",
       "0                 0.000523                 0.000131           0.999347   \n",
       "1                 0.001227                 0.002860           0.991437   \n",
       "2                 0.095416                 0.042375           0.196373   \n",
       "3                 0.001519                 0.001358           0.996997   \n",
       "4                 0.000615                 0.002961           0.995663   \n",
       "\n",
       "   ghsl_pop_density  landcover_crops_fraction  landcover_urban_fraction  \\\n",
       "0          0.660758                  0.990942                  0.132264   \n",
       "1          6.441547                  5.461365                  0.452400   \n",
       "2        587.516458                  2.881811                 87.387991   \n",
       "3         35.141762                 33.878927                  4.166437   \n",
       "4          3.442449                 33.491994                  3.437129   \n",
       "\n",
       "   landcover_water_permanent_10km_fraction  \\\n",
       "0                                 0.069055   \n",
       "1                                 0.000000   \n",
       "2                                 3.248483   \n",
       "3                                 0.000000   \n",
       "4                                 0.133563   \n",
       "\n",
       "   landcover_water_seasonal_10km_fraction  nighttime_lights  dist_to_capital  \\\n",
       "0                                0.032627          0.000000      1249.294720   \n",
       "1                                0.000000          0.000000       821.019579   \n",
       "2                                3.950374         60.070041         3.620455   \n",
       "3                                0.130727          1.333999       109.493969   \n",
       "4                                0.128997          0.502203       133.643319   \n",
       "\n",
       "   dist_to_shoreline  \n",
       "0        1364.592100  \n",
       "1        1046.028681  \n",
       "2         906.057334  \n",
       "3         775.139189  \n",
       "4         835.591501  "
      ]
     },
     "execution_count": 3,
     "metadata": {},
     "output_type": "execute_result"
    }
   ],
   "source": [
    "test = pd.read_csv('Test.csv')\n",
    "print(test.shape)\n",
    "test.head()"
   ]
  },
  {
   "cell_type": "markdown",
   "metadata": {},
   "source": [
    "Test looks just like train but without the 'Target' column and with fewer rows."
   ]
  },
  {
   "cell_type": "code",
   "execution_count": 4,
   "metadata": {},
   "outputs": [
    {
     "name": "stdout",
     "output_type": "stream",
     "text": [
      "(7194, 2)\n"
     ]
    },
    {
     "data": {
      "text/html": [
       "<div>\n",
       "<style scoped>\n",
       "    .dataframe tbody tr th:only-of-type {\n",
       "        vertical-align: middle;\n",
       "    }\n",
       "\n",
       "    .dataframe tbody tr th {\n",
       "        vertical-align: top;\n",
       "    }\n",
       "\n",
       "    .dataframe thead th {\n",
       "        text-align: right;\n",
       "    }\n",
       "</style>\n",
       "<table border=\"1\" class=\"dataframe\">\n",
       "  <thead>\n",
       "    <tr style=\"text-align: right;\">\n",
       "      <th></th>\n",
       "      <th>ID</th>\n",
       "      <th>Target</th>\n",
       "    </tr>\n",
       "  </thead>\n",
       "  <tbody>\n",
       "    <tr>\n",
       "      <th>0</th>\n",
       "      <td>ID_AAcismbB</td>\n",
       "      <td>0</td>\n",
       "    </tr>\n",
       "    <tr>\n",
       "      <th>1</th>\n",
       "      <td>ID_AAeBMsji</td>\n",
       "      <td>0</td>\n",
       "    </tr>\n",
       "    <tr>\n",
       "      <th>2</th>\n",
       "      <td>ID_AAjFMjzy</td>\n",
       "      <td>0</td>\n",
       "    </tr>\n",
       "    <tr>\n",
       "      <th>3</th>\n",
       "      <td>ID_AAmMOEEC</td>\n",
       "      <td>0</td>\n",
       "    </tr>\n",
       "    <tr>\n",
       "      <th>4</th>\n",
       "      <td>ID_ABguzDxp</td>\n",
       "      <td>0</td>\n",
       "    </tr>\n",
       "  </tbody>\n",
       "</table>\n",
       "</div>"
      ],
      "text/plain": [
       "            ID  Target\n",
       "0  ID_AAcismbB       0\n",
       "1  ID_AAeBMsji       0\n",
       "2  ID_AAjFMjzy       0\n",
       "3  ID_AAmMOEEC       0\n",
       "4  ID_ABguzDxp       0"
      ]
     },
     "execution_count": 4,
     "metadata": {},
     "output_type": "execute_result"
    }
   ],
   "source": [
    "ss = pd.read_csv('SampleSubmission.csv')\n",
    "print(ss.shape)\n",
    "ss.head()"
   ]
  },
  {
   "cell_type": "markdown",
   "metadata": {},
   "source": [
    "The sample submission is just the ID column from test with a 'Target' column where we will put out predictions.\n",
    "\n",
    "Now that we have the data loaded, we can start exploring."
   ]
  },
  {
   "cell_type": "markdown",
   "metadata": {},
   "source": [
    "# EDA\n",
    "\n",
    "We will explore some trends in the data and look for any anomalies such as missing data. A few examples are done here but you can explore much further yourself and get to know the data better.\n",
    "\n",
    "First up: let's see how an input like 'nighttime lights' relates to the target column:"
   ]
  },
  {
   "cell_type": "code",
   "execution_count": 5,
   "metadata": {},
   "outputs": [
    {
     "data": {
      "text/plain": [
       "<AxesSubplot:xlabel='nighttime_lights', ylabel='Target'>"
      ]
     },
     "execution_count": 5,
     "metadata": {},
     "output_type": "execute_result"
    },
    {
     "data": {
      "image/png": "[encoded data removed]",
      "text/plain": [
       "<Figure size 432x288 with 1 Axes>"
      ]
     },
     "metadata": {
      "needs_background": "light"
     },
     "output_type": "display_data"
    }
   ],
   "source": [
    "# Plotting the relationship between an input column and the target\n",
    "train.plot(x='nighttime_lights', y='Target', kind='scatter', alpha=0.2)"
   ]
  },
  {
   "cell_type": "code",
   "execution_count": 6,
   "metadata": {},
   "outputs": [],
   "source": [
    "# Exercise: Try this with different inputs. Any unexpected trends?"
   ]
  },
  {
   "cell_type": "markdown",
   "metadata": {},
   "source": [
    "As you might have guessed, places that emit more light tend to be wealthier, but there is a lot of variation.\n",
    "\n",
    "We can also look at categorical columns like 'country' or 'urban_vs_rural' and see the distribution of the target for each group:"
   ]
  },
  {
   "cell_type": "code",
   "execution_count": 7,
   "metadata": {},
   "outputs": [
    {
     "data": {
      "text/plain": [
       "<AxesSubplot:title={'center':'Target'}, xlabel='urban_or_rural'>"
      ]
     },
     "execution_count": 7,
     "metadata": {},
     "output_type": "execute_result"
    },
    {
     "data": {
      "image/png": "[encoded data removed]",
      "text/plain": [
       "<Figure size 864x576 with 1 Axes>"
      ]
     },
     "metadata": {
      "needs_background": "light"
     },
     "output_type": "display_data"
    }
   ],
   "source": [
    "# Looking at the wealth distribution for urban vs rural\n",
    "train.boxplot(by='urban_or_rural', column='Target', figsize=(12, 8))"
   ]
  },
  {
   "cell_type": "code",
   "execution_count": 8,
   "metadata": {},
   "outputs": [],
   "source": [
    "# Exercise: which is the country with the higest average wealth_index according to this dataset?"
   ]
  },
  {
   "cell_type": "markdown",
   "metadata": {},
   "source": [
    "Again, not unexpected. Rural areas tend to be less wealthy than urban areas.\n",
    "\n",
    "Now the scary question: do we have missing data to deal with?"
   ]
  },
  {
   "cell_type": "code",
   "execution_count": 9,
   "metadata": {},
   "outputs": [
    {
     "data": {
      "text/plain": [
       "ID                                         0\n",
       "country                                    0\n",
       "year                                       0\n",
       "urban_or_rural                             0\n",
       "ghsl_water_surface                         0\n",
       "ghsl_built_pre_1975                        0\n",
       "ghsl_built_1975_to_1990                    0\n",
       "ghsl_built_1990_to_2000                    0\n",
       "ghsl_built_2000_to_2014                    0\n",
       "ghsl_not_built_up                          0\n",
       "ghsl_pop_density                           0\n",
       "landcover_crops_fraction                   0\n",
       "landcover_urban_fraction                   0\n",
       "landcover_water_permanent_10km_fraction    0\n",
       "landcover_water_seasonal_10km_fraction     0\n",
       "nighttime_lights                           0\n",
       "dist_to_capital                            0\n",
       "dist_to_shoreline                          0\n",
       "Target                                     0\n",
       "dtype: int64"
      ]
     },
     "execution_count": 9,
     "metadata": {},
     "output_type": "execute_result"
    }
   ],
   "source": [
    "train.isna().sum() # Hooray - no missing data!"
   ]
  },
  {
   "cell_type": "markdown",
   "metadata": {},
   "source": [
    "See what other trends you can uncover - we have only scratched the surface here. "
   ]
  },
  {
   "cell_type": "code",
   "execution_count": 10,
   "metadata": {},
   "outputs": [],
   "source": [
    "# Exercise: explore the data further"
   ]
  },
  {
   "cell_type": "markdown",
   "metadata": {},
   "source": [
    "# Modelling\n",
    "\n",
    "We've had a look at our data and it looks good! Let's see if we can create a model to predict the Target given some of our inputs. To start with we will use only the numeric columns, so that we can fit a model right away. "
   ]
  },
  {
   "cell_type": "code",
   "execution_count": 11,
   "metadata": {},
   "outputs": [
    {
     "name": "stdout",
     "output_type": "stream",
     "text": [
      "Input columns: ['ghsl_water_surface', 'ghsl_built_pre_1975', 'ghsl_built_1975_to_1990', 'ghsl_built_1990_to_2000', 'ghsl_built_2000_to_2014', 'ghsl_not_built_up', 'ghsl_pop_density', 'landcover_crops_fraction', 'landcover_urban_fraction', 'landcover_water_permanent_10km_fraction', 'landcover_water_seasonal_10km_fraction', 'nighttime_lights', 'dist_to_capital', 'dist_to_shoreline']\n"
     ]
    }
   ],
   "source": [
    "in_cols = list(train.columns[4:-1])\n",
    "print('Input columns:', in_cols)"
   ]
  },
  {
   "cell_type": "markdown",
   "metadata": {},
   "source": [
    "To evaluate our model, we need to keep some data separate. We will split out data into X (inputs) and y (output) and then further split into train and test sets with the following code:"
   ]
  },
  {
   "cell_type": "code",
   "execution_count": 12,
   "metadata": {},
   "outputs": [
    {
     "name": "stdout",
     "output_type": "stream",
     "text": [
      "(17163, 14) (4291, 14)\n"
     ]
    }
   ],
   "source": [
    "from sklearn.model_selection import train_test_split\n",
    "\n",
    "X, y = train[in_cols], train['Target']\n",
    "X_train, X_test, y_train, y_test = train_test_split(X, y, test_size=0.2, random_state=58) # Random state keeps the split consistent\n",
    "print(X_train.shape, X_test.shape)"
   ]
  },
  {
   "cell_type": "markdown",
   "metadata": {},
   "source": [
    "We now have a nice test set of ~4200 rows. We will train our model and then use this test set to calculate our score."
   ]
  },
  {
   "cell_type": "code",
   "execution_count": 13,
   "metadata": {},
   "outputs": [
    {
     "data": {
      "text/plain": [
       "0.6984893479621008"
      ]
     },
     "execution_count": 13,
     "metadata": {},
     "output_type": "execute_result"
    }
   ],
   "source": [
    "from sklearn.ensemble import RandomForestRegressor\n",
    "\n",
    "model = RandomForestRegressor() # Create the model\n",
    "model.fit(X_train, y_train) # Train it (this syntax looks the same for all sklearn models)\n",
    "model.score(X_test, y_test) # Show a score"
   ]
  },
  {
   "cell_type": "markdown",
   "metadata": {},
   "source": [
    "What is the score above? The default for regression models is the R^2 score, a measure of how well the mode does at predicting the target. 0.69 is pretty good - let's plot the predictions vs the actual values and see how close it looks to a straight line:"
   ]
  },
  {
   "cell_type": "code",
   "execution_count": 14,
   "metadata": {},
   "outputs": [
    {
     "data": {
      "text/plain": [
       "<matplotlib.collections.PathCollection at 0x7f75bcedf0d0>"
      ]
     },
     "execution_count": 14,
     "metadata": {},
     "output_type": "execute_result"
    },
    {
     "data": {
      "image/png": "[encoded data removed]",
      "text/plain": [
       "<Figure size 432x288 with 1 Axes>"
      ]
     },
     "metadata": {
      "needs_background": "light"
     },
     "output_type": "display_data"
    }
   ],
   "source": [
    "from matplotlib import pyplot as plt\n",
    "plt.scatter(y_test, model.predict(X_test), alpha=0.3)"
   ]
  },
  {
   "cell_type": "markdown",
   "metadata": {},
   "source": [
    "This looks great - most predictions are nice and close to the true value! But we still don't have a way to link this to the leaderboard score on Zindi. Let's remedy that by calculating the Root Mean Squared Error, the same metric Zindi uses. "
   ]
  },
  {
   "cell_type": "code",
   "execution_count": 15,
   "metadata": {},
   "outputs": [
    {
     "data": {
      "text/plain": [
       "0.10819463089892113"
      ]
     },
     "execution_count": 15,
     "metadata": {},
     "output_type": "execute_result"
    }
   ],
   "source": [
    "from sklearn.metrics import mean_squared_error\n",
    "\n",
    "# The `squared=False` bit tells this function to return the ROOT mean squared error\n",
    "mean_squared_error(y_test, model.predict(X_test), squared=False)"
   ]
  },
  {
   "cell_type": "markdown",
   "metadata": {},
   "source": [
    "Great stuff. Let's make a submission and then move on to looking for ways to improve."
   ]
  },
  {
   "cell_type": "code",
   "execution_count": 16,
   "metadata": {},
   "outputs": [
    {
     "data": {
      "text/html": [
       "<div>\n",
       "<style scoped>\n",
       "    .dataframe tbody tr th:only-of-type {\n",
       "        vertical-align: middle;\n",
       "    }\n",
       "\n",
       "    .dataframe tbody tr th {\n",
       "        vertical-align: top;\n",
       "    }\n",
       "\n",
       "    .dataframe thead th {\n",
       "        text-align: right;\n",
       "    }\n",
       "</style>\n",
       "<table border=\"1\" class=\"dataframe\">\n",
       "  <thead>\n",
       "    <tr style=\"text-align: right;\">\n",
       "      <th></th>\n",
       "      <th>ID</th>\n",
       "      <th>Target</th>\n",
       "    </tr>\n",
       "  </thead>\n",
       "  <tbody>\n",
       "    <tr>\n",
       "      <th>0</th>\n",
       "      <td>ID_AAcismbB</td>\n",
       "      <td>0.155193</td>\n",
       "    </tr>\n",
       "    <tr>\n",
       "      <th>1</th>\n",
       "      <td>ID_AAeBMsji</td>\n",
       "      <td>0.156157</td>\n",
       "    </tr>\n",
       "    <tr>\n",
       "      <th>2</th>\n",
       "      <td>ID_AAjFMjzy</td>\n",
       "      <td>0.602522</td>\n",
       "    </tr>\n",
       "    <tr>\n",
       "      <th>3</th>\n",
       "      <td>ID_AAmMOEEC</td>\n",
       "      <td>0.297591</td>\n",
       "    </tr>\n",
       "    <tr>\n",
       "      <th>4</th>\n",
       "      <td>ID_ABguzDxp</td>\n",
       "      <td>0.261283</td>\n",
       "    </tr>\n",
       "  </tbody>\n",
       "</table>\n",
       "</div>"
      ],
      "text/plain": [
       "            ID    Target\n",
       "0  ID_AAcismbB  0.155193\n",
       "1  ID_AAeBMsji  0.156157\n",
       "2  ID_AAjFMjzy  0.602522\n",
       "3  ID_AAmMOEEC  0.297591\n",
       "4  ID_ABguzDxp  0.261283"
      ]
     },
     "execution_count": 16,
     "metadata": {},
     "output_type": "execute_result"
    }
   ],
   "source": [
    "# Copying our predictions into the submission dataframe - make sure the rows are in the same order!\n",
    "ss['Target'] = model.predict(test[in_cols]) \n",
    "ss.head()"
   ]
  },
  {
   "cell_type": "markdown",
   "metadata": {},
   "source": [
    "We now have our predictions in the right format to submit. The following line saves this to a file that you can then upload to get a score:"
   ]
  },
  {
   "cell_type": "code",
   "execution_count": 17,
   "metadata": {},
   "outputs": [],
   "source": [
    "ss.to_csv('first_submission.csv', index=False)"
   ]
  },
  {
   "cell_type": "markdown",
   "metadata": {},
   "source": [
    "# Getting Better\n",
    "\n",
    "You might have noticed that your score on Zindi wasn't as good as the one you got above. This is because the test set comes from different countries to the train set. When we did a random split, we ended up with our local train and test both coming from the same countries - and it's easier for a model to extrapolate within countries than it is for it to make predictions for a new location. \n",
    "\n",
    "So our first step might be to make a scoring function that splits the data according to country, and measures the model performance on unseen countries. Try it and share your testing methods in the discussions. And look at the following questions:\n",
    "- Does your score drop when you score your model on countries it wasn't trained with?\n",
    "- Does the new score more accurately match the leaderboard score?\n",
    "- Are any countries particularly 'hard' to make predictions in?"
   ]
  },
  {
   "cell_type": "code",
   "execution_count": 18,
   "metadata": {},
   "outputs": [],
   "source": [
    "# You code for a enw model evaluation method here"
   ]
  },
  {
   "cell_type": "markdown",
   "metadata": {},
   "source": [
    "Knowing how well our model is doing is useful, but however you measure that we also need ways to improve this performance! There are a few ways to do this:\n",
    "\n",
    "- Feed the model better data. How? Feature engineering! If we can add meaningful features the model will have more data to work with.\n",
    "- Tune your models. We used the default parameters - perhaps we can tweak some hyperparameters to make our models better\n",
    "- Try fancier models. Perhaps XGBoost or a neural network is better than Random Forest at this task\n",
    "\n",
    "Let's do a little of each. First up, let's create a numeric feature that encodes the 'urban_or_rural' column as something the model can use:"
   ]
  },
  {
   "cell_type": "code",
   "execution_count": 19,
   "metadata": {},
   "outputs": [
    {
     "data": {
      "text/html": [
       "<div>\n",
       "<style scoped>\n",
       "    .dataframe tbody tr th:only-of-type {\n",
       "        vertical-align: middle;\n",
       "    }\n",
       "\n",
       "    .dataframe tbody tr th {\n",
       "        vertical-align: top;\n",
       "    }\n",
       "\n",
       "    .dataframe thead th {\n",
       "        text-align: right;\n",
       "    }\n",
       "</style>\n",
       "<table border=\"1\" class=\"dataframe\">\n",
       "  <thead>\n",
       "    <tr style=\"text-align: right;\">\n",
       "      <th></th>\n",
       "      <th>ID</th>\n",
       "      <th>country</th>\n",
       "      <th>year</th>\n",
       "      <th>urban_or_rural</th>\n",
       "      <th>ghsl_water_surface</th>\n",
       "      <th>ghsl_built_pre_1975</th>\n",
       "      <th>ghsl_built_1975_to_1990</th>\n",
       "      <th>ghsl_built_1990_to_2000</th>\n",
       "      <th>ghsl_built_2000_to_2014</th>\n",
       "      <th>ghsl_not_built_up</th>\n",
       "      <th>ghsl_pop_density</th>\n",
       "      <th>landcover_crops_fraction</th>\n",
       "      <th>landcover_urban_fraction</th>\n",
       "      <th>landcover_water_permanent_10km_fraction</th>\n",
       "      <th>landcover_water_seasonal_10km_fraction</th>\n",
       "      <th>nighttime_lights</th>\n",
       "      <th>dist_to_capital</th>\n",
       "      <th>dist_to_shoreline</th>\n",
       "      <th>Target</th>\n",
       "      <th>is_urban</th>\n",
       "    </tr>\n",
       "  </thead>\n",
       "  <tbody>\n",
       "    <tr>\n",
       "      <th>0</th>\n",
       "      <td>ID_AAIethGy</td>\n",
       "      <td>Ethiopia</td>\n",
       "      <td>2016</td>\n",
       "      <td>R</td>\n",
       "      <td>0.0</td>\n",
       "      <td>0.000000</td>\n",
       "      <td>0.000000</td>\n",
       "      <td>0.000055</td>\n",
       "      <td>0.000536</td>\n",
       "      <td>0.999408</td>\n",
       "      <td>12.146134</td>\n",
       "      <td>25.489659</td>\n",
       "      <td>0.879484</td>\n",
       "      <td>0.000000</td>\n",
       "      <td>0.000000</td>\n",
       "      <td>0.000000</td>\n",
       "      <td>278.788451</td>\n",
       "      <td>769.338378</td>\n",
       "      <td>0.132783</td>\n",
       "      <td>0</td>\n",
       "    </tr>\n",
       "    <tr>\n",
       "      <th>1</th>\n",
       "      <td>ID_AAYiaCeL</td>\n",
       "      <td>Ethiopia</td>\n",
       "      <td>2005</td>\n",
       "      <td>R</td>\n",
       "      <td>0.0</td>\n",
       "      <td>0.000000</td>\n",
       "      <td>0.000110</td>\n",
       "      <td>0.000000</td>\n",
       "      <td>0.000018</td>\n",
       "      <td>0.999872</td>\n",
       "      <td>113.806716</td>\n",
       "      <td>64.136053</td>\n",
       "      <td>0.601427</td>\n",
       "      <td>0.000000</td>\n",
       "      <td>0.005427</td>\n",
       "      <td>0.000000</td>\n",
       "      <td>200.986978</td>\n",
       "      <td>337.135243</td>\n",
       "      <td>0.004898</td>\n",
       "      <td>0</td>\n",
       "    </tr>\n",
       "    <tr>\n",
       "      <th>2</th>\n",
       "      <td>ID_AAdurmKj</td>\n",
       "      <td>Mozambique</td>\n",
       "      <td>2009</td>\n",
       "      <td>R</td>\n",
       "      <td>0.0</td>\n",
       "      <td>0.000000</td>\n",
       "      <td>0.000000</td>\n",
       "      <td>0.000000</td>\n",
       "      <td>0.000000</td>\n",
       "      <td>1.000000</td>\n",
       "      <td>0.000000</td>\n",
       "      <td>4.400096</td>\n",
       "      <td>0.131900</td>\n",
       "      <td>0.000000</td>\n",
       "      <td>0.003078</td>\n",
       "      <td>0.000000</td>\n",
       "      <td>642.594208</td>\n",
       "      <td>169.913773</td>\n",
       "      <td>0.097320</td>\n",
       "      <td>0</td>\n",
       "    </tr>\n",
       "    <tr>\n",
       "      <th>3</th>\n",
       "      <td>ID_AAgNHles</td>\n",
       "      <td>Malawi</td>\n",
       "      <td>2015</td>\n",
       "      <td>R</td>\n",
       "      <td>0.0</td>\n",
       "      <td>0.000141</td>\n",
       "      <td>0.000181</td>\n",
       "      <td>0.000254</td>\n",
       "      <td>0.000228</td>\n",
       "      <td>0.999195</td>\n",
       "      <td>5.213320</td>\n",
       "      <td>25.379371</td>\n",
       "      <td>2.017136</td>\n",
       "      <td>11.293841</td>\n",
       "      <td>0.131035</td>\n",
       "      <td>0.000000</td>\n",
       "      <td>365.349451</td>\n",
       "      <td>613.591610</td>\n",
       "      <td>0.304107</td>\n",
       "      <td>0</td>\n",
       "    </tr>\n",
       "    <tr>\n",
       "      <th>4</th>\n",
       "      <td>ID_AAishfND</td>\n",
       "      <td>Guinea</td>\n",
       "      <td>2012</td>\n",
       "      <td>U</td>\n",
       "      <td>0.0</td>\n",
       "      <td>0.011649</td>\n",
       "      <td>0.017560</td>\n",
       "      <td>0.017383</td>\n",
       "      <td>0.099875</td>\n",
       "      <td>0.853533</td>\n",
       "      <td>31.734661</td>\n",
       "      <td>5.081620</td>\n",
       "      <td>22.815984</td>\n",
       "      <td>0.005047</td>\n",
       "      <td>0.130475</td>\n",
       "      <td>1.461894</td>\n",
       "      <td>222.867189</td>\n",
       "      <td>192.926363</td>\n",
       "      <td>0.605328</td>\n",
       "      <td>1</td>\n",
       "    </tr>\n",
       "  </tbody>\n",
       "</table>\n",
       "</div>"
      ],
      "text/plain": [
       "            ID     country  year urban_or_rural  ghsl_water_surface  \\\n",
       "0  ID_AAIethGy    Ethiopia  2016              R                 0.0   \n",
       "1  ID_AAYiaCeL    Ethiopia  2005              R                 0.0   \n",
       "2  ID_AAdurmKj  Mozambique  2009              R                 0.0   \n",
       "3  ID_AAgNHles      Malawi  2015              R                 0.0   \n",
       "4  ID_AAishfND      Guinea  2012              U                 0.0   \n",
       "\n",
       "   ghsl_built_pre_1975  ghsl_built_1975_to_1990  ghsl_built_1990_to_2000  \\\n",
       "0             0.000000                 0.000000                 0.000055   \n",
       "1             0.000000                 0.000110                 0.000000   \n",
       "2             0.000000                 0.000000                 0.000000   \n",
       "3             0.000141                 0.000181                 0.000254   \n",
       "4             0.011649                 0.017560                 0.017383   \n",
       "\n",
       "   ghsl_built_2000_to_2014  ghsl_not_built_up  ghsl_pop_density  \\\n",
       "0                 0.000536           0.999408         12.146134   \n",
       "1                 0.000018           0.999872        113.806716   \n",
       "2                 0.000000           1.000000          0.000000   \n",
       "3                 0.000228           0.999195          5.213320   \n",
       "4                 0.099875           0.853533         31.734661   \n",
       "\n",
       "   landcover_crops_fraction  landcover_urban_fraction  \\\n",
       "0                 25.489659                  0.879484   \n",
       "1                 64.136053                  0.601427   \n",
       "2                  4.400096                  0.131900   \n",
       "3                 25.379371                  2.017136   \n",
       "4                  5.081620                 22.815984   \n",
       "\n",
       "   landcover_water_permanent_10km_fraction  \\\n",
       "0                                 0.000000   \n",
       "1                                 0.000000   \n",
       "2                                 0.000000   \n",
       "3                                11.293841   \n",
       "4                                 0.005047   \n",
       "\n",
       "   landcover_water_seasonal_10km_fraction  nighttime_lights  dist_to_capital  \\\n",
       "0                                0.000000          0.000000       278.788451   \n",
       "1                                0.005427          0.000000       200.986978   \n",
       "2                                0.003078          0.000000       642.594208   \n",
       "3                                0.131035          0.000000       365.349451   \n",
       "4                                0.130475          1.461894       222.867189   \n",
       "\n",
       "   dist_to_shoreline    Target  is_urban  \n",
       "0         769.338378  0.132783         0  \n",
       "1         337.135243  0.004898         0  \n",
       "2         169.913773  0.097320         0  \n",
       "3         613.591610  0.304107         0  \n",
       "4         192.926363  0.605328         1  "
      ]
     },
     "execution_count": 19,
     "metadata": {},
     "output_type": "execute_result"
    }
   ],
   "source": [
    "# Turning a categorical column into a numeric feature\n",
    "train['is_urban'] = (train['urban_or_rural'] == 'U').astype(int)\n",
    "test['is_urban'] = (test['urban_or_rural'] == 'U').astype(int)\n",
    "train.head()"
   ]
  },
  {
   "cell_type": "markdown",
   "metadata": {},
   "source": [
    "\n",
    "Note that whenever we add features to train, *we also need to add them to test* otherwise we won't be able to make our predictions.\n",
    "\n",
    "With this extra feature, we can fit a new model:"
   ]
  },
  {
   "cell_type": "code",
   "execution_count": 20,
   "metadata": {},
   "outputs": [
    {
     "data": {
      "text/plain": [
       "0.10406611389892081"
      ]
     },
     "execution_count": 20,
     "metadata": {},
     "output_type": "execute_result"
    }
   ],
   "source": [
    "in_cols.append('is_urban') # Adding the new features to our list of input columns\n",
    "\n",
    "# Replace this with your chosen method for evaluating a model:\n",
    "X, y = train[in_cols], train['Target']\n",
    "X_train, X_test, y_train, y_test = train_test_split(X, y, test_size=0.2, random_state=58)\n",
    "model = RandomForestRegressor()\n",
    "model.fit(X_train, y_train)\n",
    "mean_squared_error(y_test, model.predict(X_test), squared=False)"
   ]
  },
  {
   "cell_type": "markdown",
   "metadata": {},
   "source": [
    "Did your score improve?\n",
    "\n",
    "Next, let's tune our model by adjusting the maximum depth. This is one of many hyperparameters that can be tweaked on a Random Forest model. Here I just try a few randomly chosen values, but you could also use a grid search to try values more methodically."
   ]
  },
  {
   "cell_type": "code",
   "execution_count": 21,
   "metadata": {},
   "outputs": [
    {
     "name": "stdout",
     "output_type": "stream",
     "text": [
      "3 0.10460154991218631\n",
      "5 0.1044166075197868\n",
      "8 0.10439344037577501\n",
      "10 0.10432211045015148\n",
      "14 0.10463307072641773\n",
      "18 0.10445153642915345\n"
     ]
    }
   ],
   "source": [
    "for max_depth in [3, 5, 8, 10, 14, 18]:\n",
    "    model = RandomForestRegressor()\n",
    "    # Again, you van use a better method to evaluate the model here...\n",
    "    model.fit(X_train, y_train)\n",
    "    print(max_depth, mean_squared_error(y_test, model.predict(X_test), squared=False))"
   ]
  },
  {
   "cell_type": "markdown",
   "metadata": {},
   "source": [
    "In this case, it looks like we can improve our performance by specifying a max_depth to limit model complexity.\n",
    "\n",
    "Finally, let's try a different model out of curiosity:"
   ]
  },
  {
   "cell_type": "code",
   "execution_count": 22,
   "metadata": {},
   "outputs": [],
   "source": [
    "from catboost import CatBoostRegressor\n",
    "\n",
    "model = CatBoostRegressor()\n",
    "# Exercise: fit and score the model. Does it beat your other scores? Can you use it to make a submission?"
   ]
  },
  {
   "cell_type": "markdown",
   "metadata": {},
   "source": [
    "Remember, you can ask questions and share ideas in the discussions. \n",
    "\n",
    "### GOOD LUCK!"
   ]
  },
  {
   "cell_type": "code",
   "execution_count": 23,
   "metadata": {},
   "outputs": [],
   "source": [
    "final = test.ID"
   ]
  },
  {
   "cell_type": "code",
   "execution_count": 24,
   "metadata": {},
   "outputs": [
    {
     "data": {
      "text/plain": [
       "0       ID_AAcismbB\n",
       "1       ID_AAeBMsji\n",
       "2       ID_AAjFMjzy\n",
       "3       ID_AAmMOEEC\n",
       "4       ID_ABguzDxp\n",
       "           ...     \n",
       "7189    ID_zxzKJCMI\n",
       "7190    ID_zyBrpgRp\n",
       "7191    ID_zyMafcYq\n",
       "7192    ID_zyfMsHMG\n",
       "7193    ID_zytUOqJv\n",
       "Name: ID, Length: 7194, dtype: object"
      ]
     },
     "execution_count": 24,
     "metadata": {},
     "output_type": "execute_result"
    }
   ],
   "source": [
    "final"
   ]
  },
  {
   "cell_type": "code",
   "execution_count": 25,
   "metadata": {},
   "outputs": [],
   "source": [
    "from sklearn.experimental import enable_hist_gradient_boosting\n",
    "from sklearn.ensemble import HistGradientBoostingRegressor"
   ]
  },
  {
   "cell_type": "code",
   "execution_count": 26,
   "metadata": {},
   "outputs": [
    {
     "data": {
      "text/plain": [
       "HistGradientBoostingRegressor()"
      ]
     },
     "execution_count": 26,
     "metadata": {},
     "output_type": "execute_result"
    }
   ],
   "source": [
    "model = HistGradientBoostingRegressor()\n",
    "model.fit(X,y)"
   ]
  },
  {
   "cell_type": "code",
   "execution_count": 27,
   "metadata": {},
   "outputs": [
    {
     "data": {
      "text/plain": [
       "0.09644048862537742"
      ]
     },
     "execution_count": 27,
     "metadata": {},
     "output_type": "execute_result"
    }
   ],
   "source": [
    "mean_squared_error(y_test, model.predict(X_test), squared=False)"
   ]
  },
  {
   "cell_type": "code",
   "execution_count": 28,
   "metadata": {},
   "outputs": [],
   "source": [
    "test = test.pop('ID')"
   ]
  },
  {
   "cell_type": "code",
   "execution_count": 29,
   "metadata": {},
   "outputs": [
    {
     "ename": "ValueError",
     "evalue": "could not convert string to float: 'ID_AAcismbB'",
     "output_type": "error",
     "traceback": [
      "\u001b[0;31m---------------------------------------------------------------------------\u001b[0m",
      "\u001b[0;31mValueError\u001b[0m                                Traceback (most recent call last)",
      "\u001b[0;32m<ipython-input-29-507de3ce63e0>\u001b[0m in \u001b[0;36m<module>\u001b[0;34m\u001b[0m\n\u001b[0;32m----> 1\u001b[0;31m \u001b[0my_pred\u001b[0m \u001b[0;34m=\u001b[0m \u001b[0mmodel\u001b[0m\u001b[0;34m.\u001b[0m\u001b[0mpredict\u001b[0m\u001b[0;34m(\u001b[0m\u001b[0mtest\u001b[0m\u001b[0;34m)\u001b[0m\u001b[0;34m\u001b[0m\u001b[0;34m\u001b[0m\u001b[0m\n\u001b[0m",
      "\u001b[0;32m~/anaconda3/lib/python3.8/site-packages/sklearn/ensemble/_hist_gradient_boosting/gradient_boosting.py\u001b[0m in \u001b[0;36mpredict\u001b[0;34m(self, X)\u001b[0m\n\u001b[1;32m    909\u001b[0m         \u001b[0;31m# Return inverse link of raw predictions after converting\u001b[0m\u001b[0;34m\u001b[0m\u001b[0;34m\u001b[0m\u001b[0;34m\u001b[0m\u001b[0m\n\u001b[1;32m    910\u001b[0m         \u001b[0;31m# shape (n_samples, 1) to (n_samples,)\u001b[0m\u001b[0;34m\u001b[0m\u001b[0;34m\u001b[0m\u001b[0;34m\u001b[0m\u001b[0m\n\u001b[0;32m--> 911\u001b[0;31m         \u001b[0;32mreturn\u001b[0m \u001b[0mself\u001b[0m\u001b[0;34m.\u001b[0m\u001b[0mloss_\u001b[0m\u001b[0;34m.\u001b[0m\u001b[0minverse_link_function\u001b[0m\u001b[0;34m(\u001b[0m\u001b[0mself\u001b[0m\u001b[0;34m.\u001b[0m\u001b[0m_raw_predict\u001b[0m\u001b[0;34m(\u001b[0m\u001b[0mX\u001b[0m\u001b[0;34m)\u001b[0m\u001b[0;34m.\u001b[0m\u001b[0mravel\u001b[0m\u001b[0;34m(\u001b[0m\u001b[0;34m)\u001b[0m\u001b[0;34m)\u001b[0m\u001b[0;34m\u001b[0m\u001b[0;34m\u001b[0m\u001b[0m\n\u001b[0m\u001b[1;32m    912\u001b[0m \u001b[0;34m\u001b[0m\u001b[0m\n\u001b[1;32m    913\u001b[0m     \u001b[0;32mdef\u001b[0m \u001b[0m_encode_y\u001b[0m\u001b[0;34m(\u001b[0m\u001b[0mself\u001b[0m\u001b[0;34m,\u001b[0m \u001b[0my\u001b[0m\u001b[0;34m)\u001b[0m\u001b[0;34m:\u001b[0m\u001b[0;34m\u001b[0m\u001b[0;34m\u001b[0m\u001b[0m\n",
      "\u001b[0;32m~/anaconda3/lib/python3.8/site-packages/sklearn/ensemble/_hist_gradient_boosting/gradient_boosting.py\u001b[0m in \u001b[0;36m_raw_predict\u001b[0;34m(self, X)\u001b[0m\n\u001b[1;32m    641\u001b[0m             \u001b[0mThe\u001b[0m \u001b[0mraw\u001b[0m \u001b[0mpredicted\u001b[0m \u001b[0mvalues\u001b[0m\u001b[0;34m.\u001b[0m\u001b[0;34m\u001b[0m\u001b[0;34m\u001b[0m\u001b[0m\n\u001b[1;32m    642\u001b[0m         \"\"\"\n\u001b[0;32m--> 643\u001b[0;31m         X = check_array(X, dtype=[X_DTYPE, X_BINNED_DTYPE],\n\u001b[0m\u001b[1;32m    644\u001b[0m                         force_all_finite=False)\n\u001b[1;32m    645\u001b[0m         \u001b[0mcheck_is_fitted\u001b[0m\u001b[0;34m(\u001b[0m\u001b[0mself\u001b[0m\u001b[0;34m)\u001b[0m\u001b[0;34m\u001b[0m\u001b[0;34m\u001b[0m\u001b[0m\n",
      "\u001b[0;32m~/anaconda3/lib/python3.8/site-packages/sklearn/utils/validation.py\u001b[0m in \u001b[0;36minner_f\u001b[0;34m(*args, **kwargs)\u001b[0m\n\u001b[1;32m     70\u001b[0m                           FutureWarning)\n\u001b[1;32m     71\u001b[0m         \u001b[0mkwargs\u001b[0m\u001b[0;34m.\u001b[0m\u001b[0mupdate\u001b[0m\u001b[0;34m(\u001b[0m\u001b[0;34m{\u001b[0m\u001b[0mk\u001b[0m\u001b[0;34m:\u001b[0m \u001b[0marg\u001b[0m \u001b[0;32mfor\u001b[0m \u001b[0mk\u001b[0m\u001b[0;34m,\u001b[0m \u001b[0marg\u001b[0m \u001b[0;32min\u001b[0m \u001b[0mzip\u001b[0m\u001b[0;34m(\u001b[0m\u001b[0msig\u001b[0m\u001b[0;34m.\u001b[0m\u001b[0mparameters\u001b[0m\u001b[0;34m,\u001b[0m \u001b[0margs\u001b[0m\u001b[0;34m)\u001b[0m\u001b[0;34m}\u001b[0m\u001b[0;34m)\u001b[0m\u001b[0;34m\u001b[0m\u001b[0;34m\u001b[0m\u001b[0m\n\u001b[0;32m---> 72\u001b[0;31m         \u001b[0;32mreturn\u001b[0m \u001b[0mf\u001b[0m\u001b[0;34m(\u001b[0m\u001b[0;34m**\u001b[0m\u001b[0mkwargs\u001b[0m\u001b[0;34m)\u001b[0m\u001b[0;34m\u001b[0m\u001b[0;34m\u001b[0m\u001b[0m\n\u001b[0m\u001b[1;32m     73\u001b[0m     \u001b[0;32mreturn\u001b[0m \u001b[0minner_f\u001b[0m\u001b[0;34m\u001b[0m\u001b[0;34m\u001b[0m\u001b[0m\n\u001b[1;32m     74\u001b[0m \u001b[0;34m\u001b[0m\u001b[0m\n",
      "\u001b[0;32m~/anaconda3/lib/python3.8/site-packages/sklearn/utils/validation.py\u001b[0m in \u001b[0;36mcheck_array\u001b[0;34m(array, accept_sparse, accept_large_sparse, dtype, order, copy, force_all_finite, ensure_2d, allow_nd, ensure_min_samples, ensure_min_features, estimator)\u001b[0m\n\u001b[1;32m    596\u001b[0m                     \u001b[0marray\u001b[0m \u001b[0;34m=\u001b[0m \u001b[0marray\u001b[0m\u001b[0;34m.\u001b[0m\u001b[0mastype\u001b[0m\u001b[0;34m(\u001b[0m\u001b[0mdtype\u001b[0m\u001b[0;34m,\u001b[0m \u001b[0mcasting\u001b[0m\u001b[0;34m=\u001b[0m\u001b[0;34m\"unsafe\"\u001b[0m\u001b[0;34m,\u001b[0m \u001b[0mcopy\u001b[0m\u001b[0;34m=\u001b[0m\u001b[0;32mFalse\u001b[0m\u001b[0;34m)\u001b[0m\u001b[0;34m\u001b[0m\u001b[0;34m\u001b[0m\u001b[0m\n\u001b[1;32m    597\u001b[0m                 \u001b[0;32melse\u001b[0m\u001b[0;34m:\u001b[0m\u001b[0;34m\u001b[0m\u001b[0;34m\u001b[0m\u001b[0m\n\u001b[0;32m--> 598\u001b[0;31m                     \u001b[0marray\u001b[0m \u001b[0;34m=\u001b[0m \u001b[0mnp\u001b[0m\u001b[0;34m.\u001b[0m\u001b[0masarray\u001b[0m\u001b[0;34m(\u001b[0m\u001b[0marray\u001b[0m\u001b[0;34m,\u001b[0m \u001b[0morder\u001b[0m\u001b[0;34m=\u001b[0m\u001b[0morder\u001b[0m\u001b[0;34m,\u001b[0m \u001b[0mdtype\u001b[0m\u001b[0;34m=\u001b[0m\u001b[0mdtype\u001b[0m\u001b[0;34m)\u001b[0m\u001b[0;34m\u001b[0m\u001b[0;34m\u001b[0m\u001b[0m\n\u001b[0m\u001b[1;32m    599\u001b[0m             \u001b[0;32mexcept\u001b[0m \u001b[0mComplexWarning\u001b[0m\u001b[0;34m:\u001b[0m\u001b[0;34m\u001b[0m\u001b[0;34m\u001b[0m\u001b[0m\n\u001b[1;32m    600\u001b[0m                 raise ValueError(\"Complex data not supported\\n\"\n",
      "\u001b[0;32m~/anaconda3/lib/python3.8/site-packages/numpy/core/_asarray.py\u001b[0m in \u001b[0;36masarray\u001b[0;34m(a, dtype, order)\u001b[0m\n\u001b[1;32m     81\u001b[0m \u001b[0;34m\u001b[0m\u001b[0m\n\u001b[1;32m     82\u001b[0m     \"\"\"\n\u001b[0;32m---> 83\u001b[0;31m     \u001b[0;32mreturn\u001b[0m \u001b[0marray\u001b[0m\u001b[0;34m(\u001b[0m\u001b[0ma\u001b[0m\u001b[0;34m,\u001b[0m \u001b[0mdtype\u001b[0m\u001b[0;34m,\u001b[0m \u001b[0mcopy\u001b[0m\u001b[0;34m=\u001b[0m\u001b[0;32mFalse\u001b[0m\u001b[0;34m,\u001b[0m \u001b[0morder\u001b[0m\u001b[0;34m=\u001b[0m\u001b[0morder\u001b[0m\u001b[0;34m)\u001b[0m\u001b[0;34m\u001b[0m\u001b[0;34m\u001b[0m\u001b[0m\n\u001b[0m\u001b[1;32m     84\u001b[0m \u001b[0;34m\u001b[0m\u001b[0m\n\u001b[1;32m     85\u001b[0m \u001b[0;34m\u001b[0m\u001b[0m\n",
      "\u001b[0;32m~/anaconda3/lib/python3.8/site-packages/pandas/core/series.py\u001b[0m in \u001b[0;36m__array__\u001b[0;34m(self, dtype)\u001b[0m\n\u001b[1;32m    795\u001b[0m               dtype='datetime64[ns]')\n\u001b[1;32m    796\u001b[0m         \"\"\"\n\u001b[0;32m--> 797\u001b[0;31m         \u001b[0;32mreturn\u001b[0m \u001b[0mnp\u001b[0m\u001b[0;34m.\u001b[0m\u001b[0masarray\u001b[0m\u001b[0;34m(\u001b[0m\u001b[0mself\u001b[0m\u001b[0;34m.\u001b[0m\u001b[0marray\u001b[0m\u001b[0;34m,\u001b[0m \u001b[0mdtype\u001b[0m\u001b[0;34m)\u001b[0m\u001b[0;34m\u001b[0m\u001b[0;34m\u001b[0m\u001b[0m\n\u001b[0m\u001b[1;32m    798\u001b[0m \u001b[0;34m\u001b[0m\u001b[0m\n\u001b[1;32m    799\u001b[0m     \u001b[0;31m# ----------------------------------------------------------------------\u001b[0m\u001b[0;34m\u001b[0m\u001b[0;34m\u001b[0m\u001b[0;34m\u001b[0m\u001b[0m\n",
      "\u001b[0;32m~/anaconda3/lib/python3.8/site-packages/numpy/core/_asarray.py\u001b[0m in \u001b[0;36masarray\u001b[0;34m(a, dtype, order)\u001b[0m\n\u001b[1;32m     81\u001b[0m \u001b[0;34m\u001b[0m\u001b[0m\n\u001b[1;32m     82\u001b[0m     \"\"\"\n\u001b[0;32m---> 83\u001b[0;31m     \u001b[0;32mreturn\u001b[0m \u001b[0marray\u001b[0m\u001b[0;34m(\u001b[0m\u001b[0ma\u001b[0m\u001b[0;34m,\u001b[0m \u001b[0mdtype\u001b[0m\u001b[0;34m,\u001b[0m \u001b[0mcopy\u001b[0m\u001b[0;34m=\u001b[0m\u001b[0;32mFalse\u001b[0m\u001b[0;34m,\u001b[0m \u001b[0morder\u001b[0m\u001b[0;34m=\u001b[0m\u001b[0morder\u001b[0m\u001b[0;34m)\u001b[0m\u001b[0;34m\u001b[0m\u001b[0;34m\u001b[0m\u001b[0m\n\u001b[0m\u001b[1;32m     84\u001b[0m \u001b[0;34m\u001b[0m\u001b[0m\n\u001b[1;32m     85\u001b[0m \u001b[0;34m\u001b[0m\u001b[0m\n",
      "\u001b[0;32m~/anaconda3/lib/python3.8/site-packages/pandas/core/arrays/numpy_.py\u001b[0m in \u001b[0;36m__array__\u001b[0;34m(self, dtype)\u001b[0m\n\u001b[1;32m    209\u001b[0m \u001b[0;34m\u001b[0m\u001b[0m\n\u001b[1;32m    210\u001b[0m     \u001b[0;32mdef\u001b[0m \u001b[0m__array__\u001b[0m\u001b[0;34m(\u001b[0m\u001b[0mself\u001b[0m\u001b[0;34m,\u001b[0m \u001b[0mdtype\u001b[0m\u001b[0;34m=\u001b[0m\u001b[0;32mNone\u001b[0m\u001b[0;34m)\u001b[0m \u001b[0;34m->\u001b[0m \u001b[0mnp\u001b[0m\u001b[0;34m.\u001b[0m\u001b[0mndarray\u001b[0m\u001b[0;34m:\u001b[0m\u001b[0;34m\u001b[0m\u001b[0;34m\u001b[0m\u001b[0m\n\u001b[0;32m--> 211\u001b[0;31m         \u001b[0;32mreturn\u001b[0m \u001b[0mnp\u001b[0m\u001b[0;34m.\u001b[0m\u001b[0masarray\u001b[0m\u001b[0;34m(\u001b[0m\u001b[0mself\u001b[0m\u001b[0;34m.\u001b[0m\u001b[0m_ndarray\u001b[0m\u001b[0;34m,\u001b[0m \u001b[0mdtype\u001b[0m\u001b[0;34m=\u001b[0m\u001b[0mdtype\u001b[0m\u001b[0;34m)\u001b[0m\u001b[0;34m\u001b[0m\u001b[0;34m\u001b[0m\u001b[0m\n\u001b[0m\u001b[1;32m    212\u001b[0m \u001b[0;34m\u001b[0m\u001b[0m\n\u001b[1;32m    213\u001b[0m     \u001b[0m_HANDLED_TYPES\u001b[0m \u001b[0;34m=\u001b[0m \u001b[0;34m(\u001b[0m\u001b[0mnp\u001b[0m\u001b[0;34m.\u001b[0m\u001b[0mndarray\u001b[0m\u001b[0;34m,\u001b[0m \u001b[0mnumbers\u001b[0m\u001b[0;34m.\u001b[0m\u001b[0mNumber\u001b[0m\u001b[0;34m)\u001b[0m\u001b[0;34m\u001b[0m\u001b[0;34m\u001b[0m\u001b[0m\n",
      "\u001b[0;32m~/anaconda3/lib/python3.8/site-packages/numpy/core/_asarray.py\u001b[0m in \u001b[0;36masarray\u001b[0;34m(a, dtype, order)\u001b[0m\n\u001b[1;32m     81\u001b[0m \u001b[0;34m\u001b[0m\u001b[0m\n\u001b[1;32m     82\u001b[0m     \"\"\"\n\u001b[0;32m---> 83\u001b[0;31m     \u001b[0;32mreturn\u001b[0m \u001b[0marray\u001b[0m\u001b[0;34m(\u001b[0m\u001b[0ma\u001b[0m\u001b[0;34m,\u001b[0m \u001b[0mdtype\u001b[0m\u001b[0;34m,\u001b[0m \u001b[0mcopy\u001b[0m\u001b[0;34m=\u001b[0m\u001b[0;32mFalse\u001b[0m\u001b[0;34m,\u001b[0m \u001b[0morder\u001b[0m\u001b[0;34m=\u001b[0m\u001b[0morder\u001b[0m\u001b[0;34m)\u001b[0m\u001b[0;34m\u001b[0m\u001b[0;34m\u001b[0m\u001b[0m\n\u001b[0m\u001b[1;32m     84\u001b[0m \u001b[0;34m\u001b[0m\u001b[0m\n\u001b[1;32m     85\u001b[0m \u001b[0;34m\u001b[0m\u001b[0m\n",
      "\u001b[0;31mValueError\u001b[0m: could not convert string to float: 'ID_AAcismbB'"
     ]
    }
   ],
   "source": [
    "y_pred = model.predict(test)"
   ]
  },
  {
   "cell_type": "code",
   "execution_count": null,
   "metadata": {},
   "outputs": [],
   "source": []
  }
 ],
 "metadata": {
  "kernelspec": {
   "display_name": "Python 3",
   "language": "python",
   "name": "python3"
  },
  "language_info": {
   "codemirror_mode": {
    "name": "ipython",
    "version": 3
   },
   "file_extension": ".py",
   "mimetype": "text/x-python",
   "name": "python",
   "nbconvert_exporter": "python",
   "pygments_lexer": "ipython3",
   "version": "3.8.5"
  }
 },
 "nbformat": 4,
 "nbformat_minor": 4
}
