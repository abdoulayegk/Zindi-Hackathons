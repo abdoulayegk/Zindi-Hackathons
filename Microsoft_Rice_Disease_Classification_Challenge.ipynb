{
  "nbformat": 4,
  "nbformat_minor": 0,
  "metadata": {
    "colab": {
      "name": "Microsoft Rice Disease Classification Challenge.ipynb",
      "private_outputs": true,
      "provenance": [],
      "authorship_tag": "ABX9TyN3OgDXVow6b4O3Zbyy03+x",
      "include_colab_link": true
    },
    "kernelspec": {
      "name": "python3",
      "display_name": "Python 3"
    },
    "language_info": {
      "name": "python"
    }
  },
  "cells": [
    {
      "cell_type": "markdown",
      "metadata": {
        "id": "view-in-github",
        "colab_type": "text"
      },
      "source": [
        "<a href=\"https://colab.research.google.com/github/abdoulayegk/Zindi-Hackathons/blob/main/Microsoft_Rice_Disease_Classification_Challenge.ipynb\" target=\"_parent\"><img src=\"https://colab.research.google.com/assets/colab-badge.svg\" alt=\"Open In Colab\"/></a>"
      ]
    },
    {
      "cell_type": "code",
      "execution_count": null,
      "metadata": {
        "id": "ccIfub5sut6u"
      },
      "outputs": [],
      "source": [
        "!pip -q install git+https://github.com/eaedk/testing-zindi-package.git"
      ]
    },
    {
      "cell_type": "code",
      "source": [
        "from zindi.user import Zindian\n"
      ],
      "metadata": {
        "id": "tzJbe9-Eu1Mg"
      },
      "execution_count": null,
      "outputs": []
    },
    {
      "cell_type": "code",
      "source": [
        "USERNAME = \"Abdoulayegk\" #@param {type : \"string\"}\n"
      ],
      "metadata": {
        "id": "GchrSLk6vSK3"
      },
      "execution_count": null,
      "outputs": []
    },
    {
      "cell_type": "code",
      "source": [
        "# object\n",
        "user = Zindian(username=USERNAME) # Sign in   "
      ],
      "metadata": {
        "id": "wlIvJuxDv0MC"
      },
      "execution_count": null,
      "outputs": []
    },
    {
      "cell_type": "code",
      "source": [
        "user.select_a_challenge(reward='all', kind='competition', active='true')                               # Select a Zindi challenge"
      ],
      "metadata": {
        "id": "jgwIAISowHpc"
      },
      "execution_count": null,
      "outputs": []
    },
    {
      "cell_type": "code",
      "source": [
        "user.which_challenge                                    # Get information about the selected challenge\n"
      ],
      "metadata": {
        "id": "cEOe9BouwhNP"
      },
      "execution_count": null,
      "outputs": []
    },
    {
      "cell_type": "code",
      "source": [
        "user.download_dataset(destination=\"dataset\") # Download the dataset of the selected challenge"
      ],
      "metadata": {
        "id": "cXndygB9w1hf"
      },
      "execution_count": null,
      "outputs": []
    },
    {
      "cell_type": "code",
      "source": [
        "!unzip dataset/Images.zip -d \"dataset/images\""
      ],
      "metadata": {
        "id": "ryMQvyDWw_NQ"
      },
      "execution_count": null,
      "outputs": []
    },
    {
      "cell_type": "code",
      "source": [
        "import pandas as pd \n",
        "import os"
      ],
      "metadata": {
        "id": "aHjxeY3QxLX6"
      },
      "execution_count": null,
      "outputs": []
    },
    {
      "cell_type": "code",
      "source": [
        "train = pd.read_csv(\"dataset/Train.csv\")\n",
        "test = pd.read_csv(\"dataset/Test.csv\")"
      ],
      "metadata": {
        "id": "BY8kqezvxTne"
      },
      "execution_count": null,
      "outputs": []
    },
    {
      "cell_type": "code",
      "source": [
        "train.head()"
      ],
      "metadata": {
        "id": "0Fr09A6_xeor"
      },
      "execution_count": null,
      "outputs": []
    },
    {
      "cell_type": "code",
      "source": [
        "test.head()"
      ],
      "metadata": {
        "id": "CyyD0xy-xgHy"
      },
      "execution_count": null,
      "outputs": []
    },
    {
      "cell_type": "code",
      "source": [
        ""
      ],
      "metadata": {
        "id": "k_zhNt48xiHn"
      },
      "execution_count": null,
      "outputs": []
    }
  ]
}