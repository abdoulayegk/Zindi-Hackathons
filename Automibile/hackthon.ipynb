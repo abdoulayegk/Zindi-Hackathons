{
 "cells": [
  {
   "cell_type": "code",
   "execution_count": 1,
   "metadata": {},
   "outputs": [],
   "source": [
    "import pandas as pd\n",
    "import numpy as np\n",
    "import datetime as dt\n",
    "import seaborn as sns\n",
    "import matplotlib.pyplot as plt\n",
    "from sklearn.metrics import f1_score\n",
    "from lightgbm import LGBMClassifier\n",
    "from sklearn.model_selection import train_test_split\n",
    "import warnings\n",
    "warnings.filterwarnings('ignore')"
   ]
  },
  {
   "cell_type": "markdown",
   "metadata": {},
   "source": [
    "# Read files"
   ]
  },
  {
   "cell_type": "code",
   "execution_count": 2,
   "metadata": {},
   "outputs": [],
   "source": [
    "# Load files into a pandas dataframe\n",
    "\n",
    "train = pd.read_csv('Train.csv')\n",
    "test = pd.read_csv('Test.csv')\n",
    "ss = pd.read_csv('SampleSubmission.csv')"
   ]
  },
  {
   "cell_type": "code",
   "execution_count": 3,
   "metadata": {},
   "outputs": [
    {
     "data": {
      "text/html": [
       "<div>\n",
       "<style scoped>\n",
       "    .dataframe tbody tr th:only-of-type {\n",
       "        vertical-align: middle;\n",
       "    }\n",
       "\n",
       "    .dataframe tbody tr th {\n",
       "        vertical-align: top;\n",
       "    }\n",
       "\n",
       "    .dataframe thead th {\n",
       "        text-align: right;\n",
       "    }\n",
       "</style>\n",
       "<table border=\"1\" class=\"dataframe\">\n",
       "  <thead>\n",
       "    <tr style=\"text-align: right;\">\n",
       "      <th></th>\n",
       "      <th>ID</th>\n",
       "      <th>Policy Start Date</th>\n",
       "      <th>Policy End Date</th>\n",
       "      <th>Gender</th>\n",
       "      <th>Age</th>\n",
       "      <th>First Transaction Date</th>\n",
       "      <th>No_Pol</th>\n",
       "      <th>Car_Category</th>\n",
       "      <th>Subject_Car_Colour</th>\n",
       "      <th>Subject_Car_Make</th>\n",
       "      <th>LGA_Name</th>\n",
       "      <th>State</th>\n",
       "      <th>ProductName</th>\n",
       "      <th>target</th>\n",
       "    </tr>\n",
       "  </thead>\n",
       "  <tbody>\n",
       "    <tr>\n",
       "      <th>0</th>\n",
       "      <td>ID_0040R73</td>\n",
       "      <td>2010-05-14</td>\n",
       "      <td>2011-05-13</td>\n",
       "      <td>Male</td>\n",
       "      <td>30</td>\n",
       "      <td>2010-05-14</td>\n",
       "      <td>1</td>\n",
       "      <td>Saloon</td>\n",
       "      <td>Black</td>\n",
       "      <td>TOYOTA</td>\n",
       "      <td>NaN</td>\n",
       "      <td>NaN</td>\n",
       "      <td>Car Classic</td>\n",
       "      <td>0</td>\n",
       "    </tr>\n",
       "    <tr>\n",
       "      <th>1</th>\n",
       "      <td>ID_0046BNK</td>\n",
       "      <td>2010-11-29</td>\n",
       "      <td>2011-11-28</td>\n",
       "      <td>Female</td>\n",
       "      <td>79</td>\n",
       "      <td>2010-11-29</td>\n",
       "      <td>1</td>\n",
       "      <td>JEEP</td>\n",
       "      <td>Grey</td>\n",
       "      <td>TOYOTA</td>\n",
       "      <td>NaN</td>\n",
       "      <td>NaN</td>\n",
       "      <td>Car Classic</td>\n",
       "      <td>1</td>\n",
       "    </tr>\n",
       "    <tr>\n",
       "      <th>2</th>\n",
       "      <td>ID_005QMC3</td>\n",
       "      <td>2010-03-21</td>\n",
       "      <td>2011-03-20</td>\n",
       "      <td>Male</td>\n",
       "      <td>43</td>\n",
       "      <td>2010-03-21</td>\n",
       "      <td>1</td>\n",
       "      <td>Saloon</td>\n",
       "      <td>Red</td>\n",
       "      <td>TOYOTA</td>\n",
       "      <td>NaN</td>\n",
       "      <td>NaN</td>\n",
       "      <td>Car Classic</td>\n",
       "      <td>0</td>\n",
       "    </tr>\n",
       "    <tr>\n",
       "      <th>3</th>\n",
       "      <td>ID_0079OHW</td>\n",
       "      <td>2010-08-21</td>\n",
       "      <td>2011-08-20</td>\n",
       "      <td>Male</td>\n",
       "      <td>2</td>\n",
       "      <td>2010-08-21</td>\n",
       "      <td>1</td>\n",
       "      <td>NaN</td>\n",
       "      <td>NaN</td>\n",
       "      <td>NaN</td>\n",
       "      <td>NaN</td>\n",
       "      <td>NaN</td>\n",
       "      <td>CarSafe</td>\n",
       "      <td>0</td>\n",
       "    </tr>\n",
       "    <tr>\n",
       "      <th>4</th>\n",
       "      <td>ID_00BRP63</td>\n",
       "      <td>2010-08-29</td>\n",
       "      <td>2010-12-31</td>\n",
       "      <td>Entity</td>\n",
       "      <td>20</td>\n",
       "      <td>2010-08-29</td>\n",
       "      <td>3</td>\n",
       "      <td>NaN</td>\n",
       "      <td>NaN</td>\n",
       "      <td>NaN</td>\n",
       "      <td>Lagos</td>\n",
       "      <td>Lagos</td>\n",
       "      <td>Muuve</td>\n",
       "      <td>1</td>\n",
       "    </tr>\n",
       "  </tbody>\n",
       "</table>\n",
       "</div>"
      ],
      "text/plain": [
       "           ID Policy Start Date Policy End Date  Gender  Age  \\\n",
       "0  ID_0040R73        2010-05-14      2011-05-13    Male   30   \n",
       "1  ID_0046BNK        2010-11-29      2011-11-28  Female   79   \n",
       "2  ID_005QMC3        2010-03-21      2011-03-20    Male   43   \n",
       "3  ID_0079OHW        2010-08-21      2011-08-20    Male    2   \n",
       "4  ID_00BRP63        2010-08-29      2010-12-31  Entity   20   \n",
       "\n",
       "  First Transaction Date  No_Pol Car_Category Subject_Car_Colour  \\\n",
       "0             2010-05-14       1       Saloon              Black   \n",
       "1             2010-11-29       1         JEEP               Grey   \n",
       "2             2010-03-21       1       Saloon                Red   \n",
       "3             2010-08-21       1          NaN                NaN   \n",
       "4             2010-08-29       3          NaN                NaN   \n",
       "\n",
       "  Subject_Car_Make LGA_Name  State  ProductName  target  \n",
       "0           TOYOTA      NaN    NaN  Car Classic       0  \n",
       "1           TOYOTA      NaN    NaN  Car Classic       1  \n",
       "2           TOYOTA      NaN    NaN  Car Classic       0  \n",
       "3              NaN      NaN    NaN      CarSafe       0  \n",
       "4              NaN    Lagos  Lagos        Muuve       1  "
      ]
     },
     "execution_count": 3,
     "metadata": {},
     "output_type": "execute_result"
    }
   ],
   "source": [
    "train.head()"
   ]
  },
  {
   "cell_type": "code",
   "execution_count": 4,
   "metadata": {},
   "outputs": [
    {
     "data": {
      "text/plain": [
       "(12079, 14)"
      ]
     },
     "execution_count": 4,
     "metadata": {},
     "output_type": "execute_result"
    }
   ],
   "source": [
    "train.shape"
   ]
  },
  {
   "cell_type": "code",
   "execution_count": 5,
   "metadata": {},
   "outputs": [
    {
     "data": {
      "text/plain": [
       "(5177, 13)"
      ]
     },
     "execution_count": 5,
     "metadata": {},
     "output_type": "execute_result"
    }
   ],
   "source": [
    "test.shape"
   ]
  },
  {
   "cell_type": "code",
   "execution_count": 6,
   "metadata": {},
   "outputs": [
    {
     "data": {
      "text/plain": [
       "True"
      ]
     },
     "execution_count": 6,
     "metadata": {},
     "output_type": "execute_result"
    }
   ],
   "source": [
    "(train['Policy Start Date']==train['First Transaction Date']).all()"
   ]
  },
  {
   "cell_type": "code",
   "execution_count": 7,
   "metadata": {},
   "outputs": [
    {
     "data": {
      "text/plain": [
       "111"
      ]
     },
     "execution_count": 7,
     "metadata": {},
     "output_type": "execute_result"
    }
   ],
   "source": [
    "train.State.nunique()"
   ]
  },
  {
   "cell_type": "code",
   "execution_count": 8,
   "metadata": {},
   "outputs": [
    {
     "data": {
      "text/plain": [
       "array(['TOYOTA', nan, 'REXTON', 'Lexus', 'Hyundai', 'Iveco', 'DAF',\n",
       "       'Honda', 'Mercedes', 'Jincheng', 'ACURA', 'Ford', 'Volkswagen',\n",
       "       'Nissan', '.', 'Pontiac', 'Range Rover', 'Kia', 'Mitsubishi',\n",
       "       'Scania', 'BMW', 'Infiniti', 'Renault', 'Volvo', 'Hummer', 'Mack',\n",
       "       'Grand Cherokee', 'Porsche', 'Peugeot', 'Land Rover', 'Chevrolet',\n",
       "       'Mazda', 'Man', 'Jeep', 'Audi', 'Suzuki', 'MINI COOPER', 'KA',\n",
       "       'As Attached', 'Innson', 'Isuzu', 'Skoda', 'Jaguar', 'Chrysler',\n",
       "       'Dodge', 'GMC', 'Land Rover.', 'Subaru', 'GAC', 'Fiat', 'Opel',\n",
       "       'Astra', 'Motorcycle', 'ZOYTE', 'Seat', 'FOTON', 'Howo', 'Lincoln',\n",
       "       'Rols Royce', 'CHANGAN', 'LIBERTY', 'ABG', 'Yamaha', 'Black',\n",
       "       'Tata', 'Ashok Leyland', 'Geely', 'Caddillac', 'Wrangler Jeep',\n",
       "       'Raston', 'MG', 'BRILLIANCE', 'Buik', 'COMMANDER', 'Bajaj'],\n",
       "      dtype=object)"
      ]
     },
     "execution_count": 8,
     "metadata": {},
     "output_type": "execute_result"
    }
   ],
   "source": [
    "train.Subject_Car_Make.unique()"
   ]
  },
  {
   "cell_type": "code",
   "execution_count": 9,
   "metadata": {},
   "outputs": [
    {
     "data": {
      "text/plain": [
       "array(['Car Classic', 'CarSafe', 'Muuve', 'CVTP', 'Car Plus',\n",
       "       'Motor Cycle', 'Customized Motor', 'CarFlex', 'Car Vintage'],\n",
       "      dtype=object)"
      ]
     },
     "execution_count": 9,
     "metadata": {},
     "output_type": "execute_result"
    }
   ],
   "source": [
    "train.ProductName.unique()"
   ]
  },
  {
   "cell_type": "code",
   "execution_count": 10,
   "metadata": {},
   "outputs": [
    {
     "data": {
      "text/plain": [
       "array(['Saloon', 'JEEP', nan, 'Motorcycle', 'Truck', 'Bus', 'Mini Bus',\n",
       "       'Pick Up', 'Mini Van', 'Van', 'Pick Up > 3 Tons', 'CAMRY CAR HIRE',\n",
       "       'Wagon', 'Shape Of Vehicle Chasis', 'Sedan', 'Station 4 Wheel',\n",
       "       'Tipper Truck'], dtype=object)"
      ]
     },
     "execution_count": 10,
     "metadata": {},
     "output_type": "execute_result"
    }
   ],
   "source": [
    "train['Car_Category'].unique()"
   ]
  },
  {
   "cell_type": "code",
   "execution_count": 11,
   "metadata": {},
   "outputs": [
    {
     "data": {
      "text/plain": [
       "<AxesSubplot:xlabel='ProductName', ylabel='count'>"
      ]
     },
     "execution_count": 11,
     "metadata": {},
     "output_type": "execute_result"
    },
    {
     "data": {
      "image/png": "[encoded data removed]",
      "text/plain": [
       "<Figure size 864x576 with 1 Axes>"
      ]
     },
     "metadata": {
      "needs_background": "light"
     },
     "output_type": "display_data"
    }
   ],
   "source": [
    "plt.figure(figsize=(12,8))\n",
    "sns.countplot(x='ProductName', hue='target', data= train)"
   ]
  },
  {
   "cell_type": "code",
   "execution_count": 12,
   "metadata": {},
   "outputs": [
    {
     "data": {
      "text/html": [
       "<div>\n",
       "<style scoped>\n",
       "    .dataframe tbody tr th:only-of-type {\n",
       "        vertical-align: middle;\n",
       "    }\n",
       "\n",
       "    .dataframe tbody tr th {\n",
       "        vertical-align: top;\n",
       "    }\n",
       "\n",
       "    .dataframe thead th {\n",
       "        text-align: right;\n",
       "    }\n",
       "</style>\n",
       "<table border=\"1\" class=\"dataframe\">\n",
       "  <thead>\n",
       "    <tr style=\"text-align: right;\">\n",
       "      <th></th>\n",
       "      <th>ID</th>\n",
       "      <th>Policy Start Date</th>\n",
       "      <th>Policy End Date</th>\n",
       "      <th>Gender</th>\n",
       "      <th>Age</th>\n",
       "      <th>First Transaction Date</th>\n",
       "      <th>No_Pol</th>\n",
       "      <th>Car_Category</th>\n",
       "      <th>Subject_Car_Colour</th>\n",
       "      <th>Subject_Car_Make</th>\n",
       "      <th>LGA_Name</th>\n",
       "      <th>State</th>\n",
       "      <th>ProductName</th>\n",
       "    </tr>\n",
       "  </thead>\n",
       "  <tbody>\n",
       "    <tr>\n",
       "      <th>0</th>\n",
       "      <td>ID_009D84L</td>\n",
       "      <td>2010-04-24</td>\n",
       "      <td>2011-03-27</td>\n",
       "      <td>NO GENDER</td>\n",
       "      <td>25</td>\n",
       "      <td>2010-04-24</td>\n",
       "      <td>1</td>\n",
       "      <td>NaN</td>\n",
       "      <td>As Attached</td>\n",
       "      <td>Iveco</td>\n",
       "      <td>Victoria Island</td>\n",
       "      <td>Lagos</td>\n",
       "      <td>CVTP</td>\n",
       "    </tr>\n",
       "    <tr>\n",
       "      <th>1</th>\n",
       "      <td>ID_01DO2EQ</td>\n",
       "      <td>2010-01-01</td>\n",
       "      <td>2010-12-31</td>\n",
       "      <td>NaN</td>\n",
       "      <td>120</td>\n",
       "      <td>2010-01-01</td>\n",
       "      <td>4</td>\n",
       "      <td>NaN</td>\n",
       "      <td>As Attached</td>\n",
       "      <td>TOYOTA</td>\n",
       "      <td>Victoria Island</td>\n",
       "      <td>Lagos</td>\n",
       "      <td>Muuve</td>\n",
       "    </tr>\n",
       "    <tr>\n",
       "      <th>2</th>\n",
       "      <td>ID_01QM0NU</td>\n",
       "      <td>2010-10-23</td>\n",
       "      <td>2011-10-22</td>\n",
       "      <td>Female</td>\n",
       "      <td>46</td>\n",
       "      <td>2010-10-23</td>\n",
       "      <td>1</td>\n",
       "      <td>NaN</td>\n",
       "      <td>NaN</td>\n",
       "      <td>Ford</td>\n",
       "      <td>Abuja Municipal</td>\n",
       "      <td>Abuja-Municipal</td>\n",
       "      <td>Car Classic</td>\n",
       "    </tr>\n",
       "    <tr>\n",
       "      <th>3</th>\n",
       "      <td>ID_024NJLZ</td>\n",
       "      <td>2010-10-14</td>\n",
       "      <td>2011-10-13</td>\n",
       "      <td>Male</td>\n",
       "      <td>32</td>\n",
       "      <td>2010-10-14</td>\n",
       "      <td>1</td>\n",
       "      <td>NaN</td>\n",
       "      <td>NaN</td>\n",
       "      <td>NaN</td>\n",
       "      <td>Kosofe</td>\n",
       "      <td>Benue</td>\n",
       "      <td>Car Classic</td>\n",
       "    </tr>\n",
       "    <tr>\n",
       "      <th>4</th>\n",
       "      <td>ID_02BYET3</td>\n",
       "      <td>2010-09-16</td>\n",
       "      <td>2010-12-31</td>\n",
       "      <td>NaN</td>\n",
       "      <td>120</td>\n",
       "      <td>2010-09-16</td>\n",
       "      <td>4</td>\n",
       "      <td>NaN</td>\n",
       "      <td>NaN</td>\n",
       "      <td>TOYOTA</td>\n",
       "      <td>Victoria Island</td>\n",
       "      <td>Lagos</td>\n",
       "      <td>Muuve</td>\n",
       "    </tr>\n",
       "  </tbody>\n",
       "</table>\n",
       "</div>"
      ],
      "text/plain": [
       "           ID Policy Start Date Policy End Date     Gender  Age  \\\n",
       "0  ID_009D84L        2010-04-24      2011-03-27  NO GENDER   25   \n",
       "1  ID_01DO2EQ        2010-01-01      2010-12-31        NaN  120   \n",
       "2  ID_01QM0NU        2010-10-23      2011-10-22     Female   46   \n",
       "3  ID_024NJLZ        2010-10-14      2011-10-13       Male   32   \n",
       "4  ID_02BYET3        2010-09-16      2010-12-31        NaN  120   \n",
       "\n",
       "  First Transaction Date  No_Pol Car_Category Subject_Car_Colour  \\\n",
       "0             2010-04-24       1          NaN        As Attached   \n",
       "1             2010-01-01       4          NaN        As Attached   \n",
       "2             2010-10-23       1          NaN                NaN   \n",
       "3             2010-10-14       1          NaN                NaN   \n",
       "4             2010-09-16       4          NaN                NaN   \n",
       "\n",
       "  Subject_Car_Make         LGA_Name            State  ProductName  \n",
       "0            Iveco  Victoria Island            Lagos         CVTP  \n",
       "1           TOYOTA  Victoria Island            Lagos        Muuve  \n",
       "2             Ford  Abuja Municipal  Abuja-Municipal  Car Classic  \n",
       "3              NaN           Kosofe            Benue  Car Classic  \n",
       "4           TOYOTA  Victoria Island            Lagos        Muuve  "
      ]
     },
     "execution_count": 12,
     "metadata": {},
     "output_type": "execute_result"
    }
   ],
   "source": [
    "test.head()"
   ]
  },
  {
   "cell_type": "code",
   "execution_count": 13,
   "metadata": {},
   "outputs": [
    {
     "data": {
      "text/html": [
       "<div>\n",
       "<style scoped>\n",
       "    .dataframe tbody tr th:only-of-type {\n",
       "        vertical-align: middle;\n",
       "    }\n",
       "\n",
       "    .dataframe tbody tr th {\n",
       "        vertical-align: top;\n",
       "    }\n",
       "\n",
       "    .dataframe thead th {\n",
       "        text-align: right;\n",
       "    }\n",
       "</style>\n",
       "<table border=\"1\" class=\"dataframe\">\n",
       "  <thead>\n",
       "    <tr style=\"text-align: right;\">\n",
       "      <th></th>\n",
       "      <th>ID</th>\n",
       "      <th>target</th>\n",
       "    </tr>\n",
       "  </thead>\n",
       "  <tbody>\n",
       "    <tr>\n",
       "      <th>0</th>\n",
       "      <td>ID_009D84L</td>\n",
       "      <td>0</td>\n",
       "    </tr>\n",
       "    <tr>\n",
       "      <th>1</th>\n",
       "      <td>ID_01DO2EQ</td>\n",
       "      <td>0</td>\n",
       "    </tr>\n",
       "    <tr>\n",
       "      <th>2</th>\n",
       "      <td>ID_01QM0NU</td>\n",
       "      <td>0</td>\n",
       "    </tr>\n",
       "    <tr>\n",
       "      <th>3</th>\n",
       "      <td>ID_024NJLZ</td>\n",
       "      <td>0</td>\n",
       "    </tr>\n",
       "    <tr>\n",
       "      <th>4</th>\n",
       "      <td>ID_02BYET3</td>\n",
       "      <td>0</td>\n",
       "    </tr>\n",
       "  </tbody>\n",
       "</table>\n",
       "</div>"
      ],
      "text/plain": [
       "           ID  target\n",
       "0  ID_009D84L       0\n",
       "1  ID_01DO2EQ       0\n",
       "2  ID_01QM0NU       0\n",
       "3  ID_024NJLZ       0\n",
       "4  ID_02BYET3       0"
      ]
     },
     "execution_count": 13,
     "metadata": {},
     "output_type": "execute_result"
    }
   ],
   "source": [
    "ss.head()"
   ]
  },
  {
   "cell_type": "code",
   "execution_count": 14,
   "metadata": {},
   "outputs": [
    {
     "data": {
      "text/plain": [
       "258"
      ]
     },
     "execution_count": 14,
     "metadata": {},
     "output_type": "execute_result"
    }
   ],
   "source": [
    "train.LGA_Name.nunique()"
   ]
  },
  {
   "cell_type": "code",
   "execution_count": 15,
   "metadata": {},
   "outputs": [
    {
     "data": {
      "text/plain": [
       "<AxesSubplot:xlabel='target', ylabel='Density'>"
      ]
     },
     "execution_count": 15,
     "metadata": {},
     "output_type": "execute_result"
    },
    {
     "data": {
      "image/png": "[encoded data removed]",
      "text/plain": [
       "<Figure size 432x288 with 1 Axes>"
      ]
     },
     "metadata": {
      "needs_background": "light"
     },
     "output_type": "display_data"
    }
   ],
   "source": [
    "sns.distplot(train.target)"
   ]
  },
  {
   "cell_type": "code",
   "execution_count": 16,
   "metadata": {},
   "outputs": [
    {
     "name": "stdout",
     "output_type": "stream",
     "text": [
      "Size of the training set is (12079, 14)\n",
      "Size of the training set is (5177, 13)\n"
     ]
    }
   ],
   "source": [
    "# check the size of the dataset\n",
    "print(\"Size of the training set is {}\".format(train.shape))\n",
    "print(\"Size of the training set is {}\".format(test.shape))"
   ]
  },
  {
   "cell_type": "code",
   "execution_count": 17,
   "metadata": {},
   "outputs": [
    {
     "data": {
      "image/png": "[encoded data removed]",
      "text/plain": [
       "<Figure size 720x504 with 1 Axes>"
      ]
     },
     "metadata": {
      "needs_background": "light"
     },
     "output_type": "display_data"
    }
   ],
   "source": [
    "# Check if there any missing values in train set\n",
    "ax = train.isna().sum().sort_values().plot(kind = 'barh', figsize = (10, 7))\n",
    "plt.title('Percentage of Missing Values Per Column in Train Set', fontdict={'size':15})\n",
    "for p in ax.patches:\n",
    "    percentage ='{:,.0f}%'.format((p.get_width()/train.shape[0])*100)\n",
    "    width, height =p.get_width(),p.get_height()\n",
    "    x=p.get_x()+width+0.02\n",
    "    y=p.get_y()+height/2\n",
    "    ax.annotate(percentage,(x,y))"
   ]
  },
  {
   "cell_type": "code",
   "execution_count": 18,
   "metadata": {},
   "outputs": [
    {
     "data": {
      "text/plain": [
       "ID                           0\n",
       "Policy Start Date            0\n",
       "Policy End Date              0\n",
       "Gender                     359\n",
       "Age                          0\n",
       "First Transaction Date       0\n",
       "No_Pol                       0\n",
       "Car_Category              3738\n",
       "Subject_Car_Colour        6962\n",
       "Subject_Car_Make          2476\n",
       "LGA_Name                  6476\n",
       "State                     6488\n",
       "ProductName                  0\n",
       "target                       0\n",
       "dtype: int64"
      ]
     },
     "execution_count": 18,
     "metadata": {},
     "output_type": "execute_result"
    }
   ],
   "source": [
    "train.isna().sum()"
   ]
  },
  {
   "cell_type": "code",
   "execution_count": 19,
   "metadata": {},
   "outputs": [
    {
     "data": {
      "text/html": [
       "<div>\n",
       "<style scoped>\n",
       "    .dataframe tbody tr th:only-of-type {\n",
       "        vertical-align: middle;\n",
       "    }\n",
       "\n",
       "    .dataframe tbody tr th {\n",
       "        vertical-align: top;\n",
       "    }\n",
       "\n",
       "    .dataframe thead th {\n",
       "        text-align: right;\n",
       "    }\n",
       "</style>\n",
       "<table border=\"1\" class=\"dataframe\">\n",
       "  <thead>\n",
       "    <tr style=\"text-align: right;\">\n",
       "      <th></th>\n",
       "      <th>State</th>\n",
       "      <th>LGA_Name</th>\n",
       "    </tr>\n",
       "  </thead>\n",
       "  <tbody>\n",
       "    <tr>\n",
       "      <th>0</th>\n",
       "      <td>NaN</td>\n",
       "      <td>NaN</td>\n",
       "    </tr>\n",
       "    <tr>\n",
       "      <th>1</th>\n",
       "      <td>NaN</td>\n",
       "      <td>NaN</td>\n",
       "    </tr>\n",
       "    <tr>\n",
       "      <th>2</th>\n",
       "      <td>NaN</td>\n",
       "      <td>NaN</td>\n",
       "    </tr>\n",
       "    <tr>\n",
       "      <th>3</th>\n",
       "      <td>NaN</td>\n",
       "      <td>NaN</td>\n",
       "    </tr>\n",
       "    <tr>\n",
       "      <th>4</th>\n",
       "      <td>Lagos</td>\n",
       "      <td>Lagos</td>\n",
       "    </tr>\n",
       "    <tr>\n",
       "      <th>...</th>\n",
       "      <td>...</td>\n",
       "      <td>...</td>\n",
       "    </tr>\n",
       "    <tr>\n",
       "      <th>12074</th>\n",
       "      <td>Ibeju-Lekki</td>\n",
       "      <td>Ibeju/Lekki</td>\n",
       "    </tr>\n",
       "    <tr>\n",
       "      <th>12075</th>\n",
       "      <td>NaN</td>\n",
       "      <td>NaN</td>\n",
       "    </tr>\n",
       "    <tr>\n",
       "      <th>12076</th>\n",
       "      <td>NaN</td>\n",
       "      <td>NaN</td>\n",
       "    </tr>\n",
       "    <tr>\n",
       "      <th>12077</th>\n",
       "      <td>Lagos</td>\n",
       "      <td>Victoria Island</td>\n",
       "    </tr>\n",
       "    <tr>\n",
       "      <th>12078</th>\n",
       "      <td>Lagos</td>\n",
       "      <td>Lagos Island</td>\n",
       "    </tr>\n",
       "  </tbody>\n",
       "</table>\n",
       "<p>12079 rows × 2 columns</p>\n",
       "</div>"
      ],
      "text/plain": [
       "             State         LGA_Name\n",
       "0              NaN              NaN\n",
       "1              NaN              NaN\n",
       "2              NaN              NaN\n",
       "3              NaN              NaN\n",
       "4            Lagos            Lagos\n",
       "...            ...              ...\n",
       "12074  Ibeju-Lekki      Ibeju/Lekki\n",
       "12075          NaN              NaN\n",
       "12076          NaN              NaN\n",
       "12077        Lagos  Victoria Island\n",
       "12078        Lagos     Lagos Island\n",
       "\n",
       "[12079 rows x 2 columns]"
      ]
     },
     "execution_count": 19,
     "metadata": {},
     "output_type": "execute_result"
    }
   ],
   "source": [
    "train[['State', 'LGA_Name']]"
   ]
  },
  {
   "cell_type": "code",
   "execution_count": 20,
   "metadata": {},
   "outputs": [
    {
     "name": "stdout",
     "output_type": "stream",
     "text": [
      "The shape of the combined dataframe is: (17256, 14)\n"
     ]
    }
   ],
   "source": [
    "# Combine train and test set\n",
    "ntrain = train.shape[0] # to be used to split train and test set from the combined dataframe\n",
    "\n",
    "all_data = pd.concat((train, test)).reset_index(drop=True)\n",
    "print(f'The shape of the combined dataframe is: {all_data.shape}')"
   ]
  },
  {
   "cell_type": "code",
   "execution_count": 21,
   "metadata": {},
   "outputs": [
    {
     "name": "stdout",
     "output_type": "stream",
     "text": [
      "<class 'pandas.core.frame.DataFrame'>\n",
      "RangeIndex: 17256 entries, 0 to 17255\n",
      "Data columns (total 14 columns):\n",
      " #   Column                  Non-Null Count  Dtype  \n",
      "---  ------                  --------------  -----  \n",
      " 0   ID                      17256 non-null  object \n",
      " 1   Policy Start Date       17256 non-null  object \n",
      " 2   Policy End Date         17256 non-null  object \n",
      " 3   Gender                  16741 non-null  object \n",
      " 4   Age                     17256 non-null  int64  \n",
      " 5   First Transaction Date  17256 non-null  object \n",
      " 6   No_Pol                  17256 non-null  int64  \n",
      " 7   Car_Category            11880 non-null  object \n",
      " 8   Subject_Car_Colour      7289 non-null   object \n",
      " 9   Subject_Car_Make        13719 non-null  object \n",
      " 10  LGA_Name                7998 non-null   object \n",
      " 11  State                   7980 non-null   object \n",
      " 12  ProductName             17256 non-null  object \n",
      " 13  target                  12079 non-null  float64\n",
      "dtypes: float64(1), int64(2), object(11)\n",
      "memory usage: 1.8+ MB\n"
     ]
    }
   ],
   "source": [
    "# Check the column names and datatypes\n",
    "all_data.info()"
   ]
  },
  {
   "cell_type": "code",
   "execution_count": 22,
   "metadata": {},
   "outputs": [
    {
     "name": "stdout",
     "output_type": "stream",
     "text": [
      "<class 'pandas.core.frame.DataFrame'>\n",
      "RangeIndex: 17256 entries, 0 to 17255\n",
      "Data columns (total 14 columns):\n",
      " #   Column                  Non-Null Count  Dtype         \n",
      "---  ------                  --------------  -----         \n",
      " 0   ID                      17256 non-null  object        \n",
      " 1   Policy Start Date       17256 non-null  datetime64[ns]\n",
      " 2   Policy End Date         17256 non-null  datetime64[ns]\n",
      " 3   Gender                  16741 non-null  category      \n",
      " 4   Age                     17256 non-null  int64         \n",
      " 5   First Transaction Date  17256 non-null  datetime64[ns]\n",
      " 6   No_Pol                  17256 non-null  int64         \n",
      " 7   Car_Category            11880 non-null  category      \n",
      " 8   Subject_Car_Colour      7289 non-null   category      \n",
      " 9   Subject_Car_Make        13719 non-null  category      \n",
      " 10  LGA_Name                7998 non-null   category      \n",
      " 11  State                   7980 non-null   category      \n",
      " 12  ProductName             17256 non-null  category      \n",
      " 13  target                  12079 non-null  float64       \n",
      "dtypes: category(7), datetime64[ns](3), float64(1), int64(2), object(1)\n",
      "memory usage: 1.1+ MB\n"
     ]
    }
   ],
   "source": [
    "# Change each column to its appriopriate datatype\n",
    "date_cols = [col for col in all_data.columns if 'Date' in col]\n",
    "num_cols = ['Age', 'No_Pol']\n",
    "cat_cols = [col for col in all_data.columns if col not in date_cols+num_cols+['ID', 'target']]\n",
    "\n",
    "for col in all_data.columns:\n",
    "  if col in date_cols:\n",
    "    all_data[col] = pd.to_datetime(all_data[col])\n",
    "  elif col in cat_cols:\n",
    "    all_data[col] = all_data[col].astype('category')\n",
    "\n",
    "# Confirm whether the changes have been applied successfully\n",
    "all_data.info()"
   ]
  },
  {
   "cell_type": "code",
   "execution_count": 23,
   "metadata": {},
   "outputs": [
    {
     "data": {
      "image/png": "[encoded data removed]",
      "text/plain": [
       "<Figure size 432x288 with 1 Axes>"
      ]
     },
     "metadata": {
      "needs_background": "light"
     },
     "output_type": "display_data"
    }
   ],
   "source": [
    "sns.countplot(train.target)\n",
    "plt.title('Target Distribution', fontdict={'size':14});"
   ]
  },
  {
   "cell_type": "code",
   "execution_count": 24,
   "metadata": {},
   "outputs": [
    {
     "data": {
      "text/plain": [
       "<AxesSubplot:>"
      ]
     },
     "execution_count": 24,
     "metadata": {},
     "output_type": "execute_result"
    },
    {
     "data": {
      "image/png": "[encoded data removed]",
      "text/plain": [
       "<Figure size 432x288 with 1 Axes>"
      ]
     },
     "metadata": {
      "needs_background": "light"
     },
     "output_type": "display_data"
    }
   ],
   "source": [
    "mapper = {'Entity':'Other', 'Joint Gender':'Other', 'NOT STATED':'Other', 'NO GENDER': 'Other', 'SEX':\"Other\"}\n",
    "all_data.Gender = all_data.Gender.replace(mapper)\n",
    "\n",
    "# Confirm mappings\n",
    "all_data.Gender.value_counts().plot(kind='bar')"
   ]
  },
  {
   "cell_type": "code",
   "execution_count": 25,
   "metadata": {},
   "outputs": [
    {
     "data": {
      "text/plain": [
       "Age                       0\n",
       "Car_Category              0\n",
       "First Transaction Date    0\n",
       "Gender                    0\n",
       "ID                        0\n",
       "LGA_Name                  0\n",
       "No_Pol                    0\n",
       "Policy End Date           0\n",
       "Policy Start Date         0\n",
       "ProductName               0\n",
       "State                     0\n",
       "Subject_Car_Colour        0\n",
       "Subject_Car_Make          0\n",
       "dtype: int64"
      ]
     },
     "execution_count": 25,
     "metadata": {},
     "output_type": "execute_result"
    }
   ],
   "source": [
    "# Fill in missing values\n",
    "# For cat cols and date cols fill in with mode and for num cols fill in with 9999\n",
    "for col in all_data.columns:\n",
    "  if col in date_cols+cat_cols:\n",
    "    all_data[col] = all_data[col].fillna(all_data[col].mode()[0])\n",
    "  elif col in num_cols:\n",
    "    all_data[col] = all_data[col].fillna(all_data[col].fillna(9999))\n",
    "\n",
    "# Confirm that there aren't any missing values\n",
    "all_data[all_data.columns.difference(['target'])].isna().sum()"
   ]
  },
  {
   "cell_type": "code",
   "execution_count": 26,
   "metadata": {},
   "outputs": [
    {
     "data": {
      "text/html": [
       "<div>\n",
       "<style scoped>\n",
       "    .dataframe tbody tr th:only-of-type {\n",
       "        vertical-align: middle;\n",
       "    }\n",
       "\n",
       "    .dataframe tbody tr th {\n",
       "        vertical-align: top;\n",
       "    }\n",
       "\n",
       "    .dataframe thead th {\n",
       "        text-align: right;\n",
       "    }\n",
       "</style>\n",
       "<table border=\"1\" class=\"dataframe\">\n",
       "  <thead>\n",
       "    <tr style=\"text-align: right;\">\n",
       "      <th></th>\n",
       "      <th>ID</th>\n",
       "      <th>Policy Start Date</th>\n",
       "      <th>Policy End Date</th>\n",
       "      <th>Gender</th>\n",
       "      <th>Age</th>\n",
       "      <th>First Transaction Date</th>\n",
       "      <th>No_Pol</th>\n",
       "      <th>Car_Category</th>\n",
       "      <th>Subject_Car_Colour</th>\n",
       "      <th>Subject_Car_Make</th>\n",
       "      <th>...</th>\n",
       "      <th>target</th>\n",
       "      <th>Policy Start Dateyear</th>\n",
       "      <th>Policy Start Datemonth</th>\n",
       "      <th>Policy Start Dateday</th>\n",
       "      <th>Policy End Dateyear</th>\n",
       "      <th>Policy End Datemonth</th>\n",
       "      <th>Policy End Dateday</th>\n",
       "      <th>First Transaction Dateyear</th>\n",
       "      <th>First Transaction Datemonth</th>\n",
       "      <th>First Transaction Dateday</th>\n",
       "    </tr>\n",
       "  </thead>\n",
       "  <tbody>\n",
       "    <tr>\n",
       "      <th>0</th>\n",
       "      <td>ID_0040R73</td>\n",
       "      <td>2010-05-14</td>\n",
       "      <td>2011-05-13</td>\n",
       "      <td>Male</td>\n",
       "      <td>30</td>\n",
       "      <td>2010-05-14</td>\n",
       "      <td>1</td>\n",
       "      <td>Saloon</td>\n",
       "      <td>Black</td>\n",
       "      <td>TOYOTA</td>\n",
       "      <td>...</td>\n",
       "      <td>0.0</td>\n",
       "      <td>2010</td>\n",
       "      <td>5</td>\n",
       "      <td>14</td>\n",
       "      <td>2011</td>\n",
       "      <td>5</td>\n",
       "      <td>13</td>\n",
       "      <td>2010</td>\n",
       "      <td>5</td>\n",
       "      <td>14</td>\n",
       "    </tr>\n",
       "    <tr>\n",
       "      <th>1</th>\n",
       "      <td>ID_0046BNK</td>\n",
       "      <td>2010-11-29</td>\n",
       "      <td>2011-11-28</td>\n",
       "      <td>Female</td>\n",
       "      <td>79</td>\n",
       "      <td>2010-11-29</td>\n",
       "      <td>1</td>\n",
       "      <td>JEEP</td>\n",
       "      <td>Grey</td>\n",
       "      <td>TOYOTA</td>\n",
       "      <td>...</td>\n",
       "      <td>1.0</td>\n",
       "      <td>2010</td>\n",
       "      <td>11</td>\n",
       "      <td>29</td>\n",
       "      <td>2011</td>\n",
       "      <td>11</td>\n",
       "      <td>28</td>\n",
       "      <td>2010</td>\n",
       "      <td>11</td>\n",
       "      <td>29</td>\n",
       "    </tr>\n",
       "    <tr>\n",
       "      <th>2</th>\n",
       "      <td>ID_005QMC3</td>\n",
       "      <td>2010-03-21</td>\n",
       "      <td>2011-03-20</td>\n",
       "      <td>Male</td>\n",
       "      <td>43</td>\n",
       "      <td>2010-03-21</td>\n",
       "      <td>1</td>\n",
       "      <td>Saloon</td>\n",
       "      <td>Red</td>\n",
       "      <td>TOYOTA</td>\n",
       "      <td>...</td>\n",
       "      <td>0.0</td>\n",
       "      <td>2010</td>\n",
       "      <td>3</td>\n",
       "      <td>21</td>\n",
       "      <td>2011</td>\n",
       "      <td>3</td>\n",
       "      <td>20</td>\n",
       "      <td>2010</td>\n",
       "      <td>3</td>\n",
       "      <td>21</td>\n",
       "    </tr>\n",
       "    <tr>\n",
       "      <th>3</th>\n",
       "      <td>ID_0079OHW</td>\n",
       "      <td>2010-08-21</td>\n",
       "      <td>2011-08-20</td>\n",
       "      <td>Male</td>\n",
       "      <td>2</td>\n",
       "      <td>2010-08-21</td>\n",
       "      <td>1</td>\n",
       "      <td>Saloon</td>\n",
       "      <td>Black</td>\n",
       "      <td>TOYOTA</td>\n",
       "      <td>...</td>\n",
       "      <td>0.0</td>\n",
       "      <td>2010</td>\n",
       "      <td>8</td>\n",
       "      <td>21</td>\n",
       "      <td>2011</td>\n",
       "      <td>8</td>\n",
       "      <td>20</td>\n",
       "      <td>2010</td>\n",
       "      <td>8</td>\n",
       "      <td>21</td>\n",
       "    </tr>\n",
       "    <tr>\n",
       "      <th>4</th>\n",
       "      <td>ID_00BRP63</td>\n",
       "      <td>2010-08-29</td>\n",
       "      <td>2010-12-31</td>\n",
       "      <td>Other</td>\n",
       "      <td>20</td>\n",
       "      <td>2010-08-29</td>\n",
       "      <td>3</td>\n",
       "      <td>Saloon</td>\n",
       "      <td>Black</td>\n",
       "      <td>TOYOTA</td>\n",
       "      <td>...</td>\n",
       "      <td>1.0</td>\n",
       "      <td>2010</td>\n",
       "      <td>8</td>\n",
       "      <td>29</td>\n",
       "      <td>2010</td>\n",
       "      <td>12</td>\n",
       "      <td>31</td>\n",
       "      <td>2010</td>\n",
       "      <td>8</td>\n",
       "      <td>29</td>\n",
       "    </tr>\n",
       "  </tbody>\n",
       "</table>\n",
       "<p>5 rows × 23 columns</p>\n",
       "</div>"
      ],
      "text/plain": [
       "           ID Policy Start Date Policy End Date  Gender  Age  \\\n",
       "0  ID_0040R73        2010-05-14      2011-05-13    Male   30   \n",
       "1  ID_0046BNK        2010-11-29      2011-11-28  Female   79   \n",
       "2  ID_005QMC3        2010-03-21      2011-03-20    Male   43   \n",
       "3  ID_0079OHW        2010-08-21      2011-08-20    Male    2   \n",
       "4  ID_00BRP63        2010-08-29      2010-12-31   Other   20   \n",
       "\n",
       "  First Transaction Date  No_Pol Car_Category Subject_Car_Colour  \\\n",
       "0             2010-05-14       1       Saloon              Black   \n",
       "1             2010-11-29       1         JEEP               Grey   \n",
       "2             2010-03-21       1       Saloon                Red   \n",
       "3             2010-08-21       1       Saloon              Black   \n",
       "4             2010-08-29       3       Saloon              Black   \n",
       "\n",
       "  Subject_Car_Make  ... target Policy Start Dateyear Policy Start Datemonth  \\\n",
       "0           TOYOTA  ...    0.0                  2010                      5   \n",
       "1           TOYOTA  ...    1.0                  2010                     11   \n",
       "2           TOYOTA  ...    0.0                  2010                      3   \n",
       "3           TOYOTA  ...    0.0                  2010                      8   \n",
       "4           TOYOTA  ...    1.0                  2010                      8   \n",
       "\n",
       "   Policy Start Dateday  Policy End Dateyear  Policy End Datemonth  \\\n",
       "0                    14                 2011                     5   \n",
       "1                    29                 2011                    11   \n",
       "2                    21                 2011                     3   \n",
       "3                    21                 2011                     8   \n",
       "4                    29                 2010                    12   \n",
       "\n",
       "   Policy End Dateday  First Transaction Dateyear  \\\n",
       "0                  13                        2010   \n",
       "1                  28                        2010   \n",
       "2                  20                        2010   \n",
       "3                  20                        2010   \n",
       "4                  31                        2010   \n",
       "\n",
       "   First Transaction Datemonth  First Transaction Dateday  \n",
       "0                            5                         14  \n",
       "1                           11                         29  \n",
       "2                            3                         21  \n",
       "3                            8                         21  \n",
       "4                            8                         29  \n",
       "\n",
       "[5 rows x 23 columns]"
      ]
     },
     "execution_count": 26,
     "metadata": {},
     "output_type": "execute_result"
    }
   ],
   "source": [
    "# Extract date features from the date columns\n",
    "for col in date_cols:\n",
    "  for date_feature in ['year', 'month', 'day']:\n",
    "    all_data[col+date_feature] = getattr(all_data[col].dt, date_feature)\n",
    "\n",
    "all_data.head()"
   ]
  },
  {
   "cell_type": "code",
   "execution_count": null,
   "metadata": {},
   "outputs": [],
   "source": []
  },
  {
   "cell_type": "code",
   "execution_count": 27,
   "metadata": {},
   "outputs": [
    {
     "data": {
      "text/html": [
       "<div>\n",
       "<style scoped>\n",
       "    .dataframe tbody tr th:only-of-type {\n",
       "        vertical-align: middle;\n",
       "    }\n",
       "\n",
       "    .dataframe tbody tr th {\n",
       "        vertical-align: top;\n",
       "    }\n",
       "\n",
       "    .dataframe thead th {\n",
       "        text-align: right;\n",
       "    }\n",
       "</style>\n",
       "<table border=\"1\" class=\"dataframe\">\n",
       "  <thead>\n",
       "    <tr style=\"text-align: right;\">\n",
       "      <th></th>\n",
       "      <th>ID</th>\n",
       "      <th>Policy Start Date</th>\n",
       "      <th>Policy End Date</th>\n",
       "      <th>Age</th>\n",
       "      <th>First Transaction Date</th>\n",
       "      <th>No_Pol</th>\n",
       "      <th>target</th>\n",
       "      <th>Policy Start Dateyear</th>\n",
       "      <th>Policy Start Datemonth</th>\n",
       "      <th>Policy Start Dateday</th>\n",
       "      <th>...</th>\n",
       "      <th>State_Warri-South</th>\n",
       "      <th>ProductName_CVTP</th>\n",
       "      <th>ProductName_Car Classic</th>\n",
       "      <th>ProductName_Car Plus</th>\n",
       "      <th>ProductName_Car Vintage</th>\n",
       "      <th>ProductName_CarFlex</th>\n",
       "      <th>ProductName_CarSafe</th>\n",
       "      <th>ProductName_Customized Motor</th>\n",
       "      <th>ProductName_Motor Cycle</th>\n",
       "      <th>ProductName_Muuve</th>\n",
       "    </tr>\n",
       "  </thead>\n",
       "  <tbody>\n",
       "    <tr>\n",
       "      <th>0</th>\n",
       "      <td>ID_0040R73</td>\n",
       "      <td>2010-05-14</td>\n",
       "      <td>2011-05-13</td>\n",
       "      <td>30</td>\n",
       "      <td>2010-05-14</td>\n",
       "      <td>1</td>\n",
       "      <td>0.0</td>\n",
       "      <td>2010</td>\n",
       "      <td>5</td>\n",
       "      <td>14</td>\n",
       "      <td>...</td>\n",
       "      <td>0</td>\n",
       "      <td>0</td>\n",
       "      <td>1</td>\n",
       "      <td>0</td>\n",
       "      <td>0</td>\n",
       "      <td>0</td>\n",
       "      <td>0</td>\n",
       "      <td>0</td>\n",
       "      <td>0</td>\n",
       "      <td>0</td>\n",
       "    </tr>\n",
       "    <tr>\n",
       "      <th>1</th>\n",
       "      <td>ID_0046BNK</td>\n",
       "      <td>2010-11-29</td>\n",
       "      <td>2011-11-28</td>\n",
       "      <td>79</td>\n",
       "      <td>2010-11-29</td>\n",
       "      <td>1</td>\n",
       "      <td>1.0</td>\n",
       "      <td>2010</td>\n",
       "      <td>11</td>\n",
       "      <td>29</td>\n",
       "      <td>...</td>\n",
       "      <td>0</td>\n",
       "      <td>0</td>\n",
       "      <td>1</td>\n",
       "      <td>0</td>\n",
       "      <td>0</td>\n",
       "      <td>0</td>\n",
       "      <td>0</td>\n",
       "      <td>0</td>\n",
       "      <td>0</td>\n",
       "      <td>0</td>\n",
       "    </tr>\n",
       "    <tr>\n",
       "      <th>2</th>\n",
       "      <td>ID_005QMC3</td>\n",
       "      <td>2010-03-21</td>\n",
       "      <td>2011-03-20</td>\n",
       "      <td>43</td>\n",
       "      <td>2010-03-21</td>\n",
       "      <td>1</td>\n",
       "      <td>0.0</td>\n",
       "      <td>2010</td>\n",
       "      <td>3</td>\n",
       "      <td>21</td>\n",
       "      <td>...</td>\n",
       "      <td>0</td>\n",
       "      <td>0</td>\n",
       "      <td>1</td>\n",
       "      <td>0</td>\n",
       "      <td>0</td>\n",
       "      <td>0</td>\n",
       "      <td>0</td>\n",
       "      <td>0</td>\n",
       "      <td>0</td>\n",
       "      <td>0</td>\n",
       "    </tr>\n",
       "    <tr>\n",
       "      <th>3</th>\n",
       "      <td>ID_0079OHW</td>\n",
       "      <td>2010-08-21</td>\n",
       "      <td>2011-08-20</td>\n",
       "      <td>2</td>\n",
       "      <td>2010-08-21</td>\n",
       "      <td>1</td>\n",
       "      <td>0.0</td>\n",
       "      <td>2010</td>\n",
       "      <td>8</td>\n",
       "      <td>21</td>\n",
       "      <td>...</td>\n",
       "      <td>0</td>\n",
       "      <td>0</td>\n",
       "      <td>0</td>\n",
       "      <td>0</td>\n",
       "      <td>0</td>\n",
       "      <td>0</td>\n",
       "      <td>1</td>\n",
       "      <td>0</td>\n",
       "      <td>0</td>\n",
       "      <td>0</td>\n",
       "    </tr>\n",
       "    <tr>\n",
       "      <th>4</th>\n",
       "      <td>ID_00BRP63</td>\n",
       "      <td>2010-08-29</td>\n",
       "      <td>2010-12-31</td>\n",
       "      <td>20</td>\n",
       "      <td>2010-08-29</td>\n",
       "      <td>3</td>\n",
       "      <td>1.0</td>\n",
       "      <td>2010</td>\n",
       "      <td>8</td>\n",
       "      <td>29</td>\n",
       "      <td>...</td>\n",
       "      <td>0</td>\n",
       "      <td>0</td>\n",
       "      <td>0</td>\n",
       "      <td>0</td>\n",
       "      <td>0</td>\n",
       "      <td>0</td>\n",
       "      <td>0</td>\n",
       "      <td>0</td>\n",
       "      <td>0</td>\n",
       "      <td>1</td>\n",
       "    </tr>\n",
       "  </tbody>\n",
       "</table>\n",
       "<p>5 rows × 548 columns</p>\n",
       "</div>"
      ],
      "text/plain": [
       "           ID Policy Start Date Policy End Date  Age First Transaction Date  \\\n",
       "0  ID_0040R73        2010-05-14      2011-05-13   30             2010-05-14   \n",
       "1  ID_0046BNK        2010-11-29      2011-11-28   79             2010-11-29   \n",
       "2  ID_005QMC3        2010-03-21      2011-03-20   43             2010-03-21   \n",
       "3  ID_0079OHW        2010-08-21      2011-08-20    2             2010-08-21   \n",
       "4  ID_00BRP63        2010-08-29      2010-12-31   20             2010-08-29   \n",
       "\n",
       "   No_Pol  target  Policy Start Dateyear  Policy Start Datemonth  \\\n",
       "0       1     0.0                   2010                       5   \n",
       "1       1     1.0                   2010                      11   \n",
       "2       1     0.0                   2010                       3   \n",
       "3       1     0.0                   2010                       8   \n",
       "4       3     1.0                   2010                       8   \n",
       "\n",
       "   Policy Start Dateday  ...  State_Warri-South  ProductName_CVTP  \\\n",
       "0                    14  ...                  0                 0   \n",
       "1                    29  ...                  0                 0   \n",
       "2                    21  ...                  0                 0   \n",
       "3                    21  ...                  0                 0   \n",
       "4                    29  ...                  0                 0   \n",
       "\n",
       "   ProductName_Car Classic  ProductName_Car Plus  ProductName_Car Vintage  \\\n",
       "0                        1                     0                        0   \n",
       "1                        1                     0                        0   \n",
       "2                        1                     0                        0   \n",
       "3                        0                     0                        0   \n",
       "4                        0                     0                        0   \n",
       "\n",
       "   ProductName_CarFlex  ProductName_CarSafe  ProductName_Customized Motor  \\\n",
       "0                    0                    0                             0   \n",
       "1                    0                    0                             0   \n",
       "2                    0                    0                             0   \n",
       "3                    0                    1                             0   \n",
       "4                    0                    0                             0   \n",
       "\n",
       "   ProductName_Motor Cycle  ProductName_Muuve  \n",
       "0                        0                  0  \n",
       "1                        0                  0  \n",
       "2                        0                  0  \n",
       "3                        0                  0  \n",
       "4                        0                  1  \n",
       "\n",
       "[5 rows x 548 columns]"
      ]
     },
     "execution_count": 27,
     "metadata": {},
     "output_type": "execute_result"
    }
   ],
   "source": [
    "# Encode categorical features\n",
    "all_data = pd.get_dummies(data = all_data, columns = cat_cols)\n",
    "all_data.head()"
   ]
  },
  {
   "cell_type": "code",
   "execution_count": 28,
   "metadata": {},
   "outputs": [
    {
     "data": {
      "text/html": [
       "<div>\n",
       "<style scoped>\n",
       "    .dataframe tbody tr th:only-of-type {\n",
       "        vertical-align: middle;\n",
       "    }\n",
       "\n",
       "    .dataframe tbody tr th {\n",
       "        vertical-align: top;\n",
       "    }\n",
       "\n",
       "    .dataframe thead th {\n",
       "        text-align: right;\n",
       "    }\n",
       "</style>\n",
       "<table border=\"1\" class=\"dataframe\">\n",
       "  <thead>\n",
       "    <tr style=\"text-align: right;\">\n",
       "      <th></th>\n",
       "      <th>count</th>\n",
       "      <th>mean</th>\n",
       "      <th>std</th>\n",
       "      <th>min</th>\n",
       "      <th>25%</th>\n",
       "      <th>50%</th>\n",
       "      <th>75%</th>\n",
       "      <th>max</th>\n",
       "    </tr>\n",
       "  </thead>\n",
       "  <tbody>\n",
       "    <tr>\n",
       "      <th>Age</th>\n",
       "      <td>17256.0</td>\n",
       "      <td>42.677272</td>\n",
       "      <td>82.489880</td>\n",
       "      <td>-6099.0</td>\n",
       "      <td>34.0</td>\n",
       "      <td>40.0</td>\n",
       "      <td>50.0</td>\n",
       "      <td>320.0</td>\n",
       "    </tr>\n",
       "    <tr>\n",
       "      <th>No_Pol</th>\n",
       "      <td>17256.0</td>\n",
       "      <td>1.307545</td>\n",
       "      <td>0.726804</td>\n",
       "      <td>1.0</td>\n",
       "      <td>1.0</td>\n",
       "      <td>1.0</td>\n",
       "      <td>1.0</td>\n",
       "      <td>10.0</td>\n",
       "    </tr>\n",
       "    <tr>\n",
       "      <th>target</th>\n",
       "      <td>12079.0</td>\n",
       "      <td>0.120457</td>\n",
       "      <td>0.325509</td>\n",
       "      <td>0.0</td>\n",
       "      <td>0.0</td>\n",
       "      <td>0.0</td>\n",
       "      <td>0.0</td>\n",
       "      <td>1.0</td>\n",
       "    </tr>\n",
       "    <tr>\n",
       "      <th>Policy Start Dateyear</th>\n",
       "      <td>17256.0</td>\n",
       "      <td>2009.996871</td>\n",
       "      <td>0.135291</td>\n",
       "      <td>2001.0</td>\n",
       "      <td>2010.0</td>\n",
       "      <td>2010.0</td>\n",
       "      <td>2010.0</td>\n",
       "      <td>2010.0</td>\n",
       "    </tr>\n",
       "    <tr>\n",
       "      <th>Policy Start Datemonth</th>\n",
       "      <td>17256.0</td>\n",
       "      <td>6.366423</td>\n",
       "      <td>3.497817</td>\n",
       "      <td>1.0</td>\n",
       "      <td>3.0</td>\n",
       "      <td>6.0</td>\n",
       "      <td>9.0</td>\n",
       "      <td>12.0</td>\n",
       "    </tr>\n",
       "    <tr>\n",
       "      <th>...</th>\n",
       "      <td>...</td>\n",
       "      <td>...</td>\n",
       "      <td>...</td>\n",
       "      <td>...</td>\n",
       "      <td>...</td>\n",
       "      <td>...</td>\n",
       "      <td>...</td>\n",
       "      <td>...</td>\n",
       "    </tr>\n",
       "    <tr>\n",
       "      <th>ProductName_CarFlex</th>\n",
       "      <td>17256.0</td>\n",
       "      <td>0.014662</td>\n",
       "      <td>0.120198</td>\n",
       "      <td>0.0</td>\n",
       "      <td>0.0</td>\n",
       "      <td>0.0</td>\n",
       "      <td>0.0</td>\n",
       "      <td>1.0</td>\n",
       "    </tr>\n",
       "    <tr>\n",
       "      <th>ProductName_CarSafe</th>\n",
       "      <td>17256.0</td>\n",
       "      <td>0.312065</td>\n",
       "      <td>0.463350</td>\n",
       "      <td>0.0</td>\n",
       "      <td>0.0</td>\n",
       "      <td>0.0</td>\n",
       "      <td>1.0</td>\n",
       "      <td>1.0</td>\n",
       "    </tr>\n",
       "    <tr>\n",
       "      <th>ProductName_Customized Motor</th>\n",
       "      <td>17256.0</td>\n",
       "      <td>0.045549</td>\n",
       "      <td>0.208512</td>\n",
       "      <td>0.0</td>\n",
       "      <td>0.0</td>\n",
       "      <td>0.0</td>\n",
       "      <td>0.0</td>\n",
       "      <td>1.0</td>\n",
       "    </tr>\n",
       "    <tr>\n",
       "      <th>ProductName_Motor Cycle</th>\n",
       "      <td>17256.0</td>\n",
       "      <td>0.003535</td>\n",
       "      <td>0.059352</td>\n",
       "      <td>0.0</td>\n",
       "      <td>0.0</td>\n",
       "      <td>0.0</td>\n",
       "      <td>0.0</td>\n",
       "      <td>1.0</td>\n",
       "    </tr>\n",
       "    <tr>\n",
       "      <th>ProductName_Muuve</th>\n",
       "      <td>17256.0</td>\n",
       "      <td>0.008577</td>\n",
       "      <td>0.092215</td>\n",
       "      <td>0.0</td>\n",
       "      <td>0.0</td>\n",
       "      <td>0.0</td>\n",
       "      <td>0.0</td>\n",
       "      <td>1.0</td>\n",
       "    </tr>\n",
       "  </tbody>\n",
       "</table>\n",
       "<p>544 rows × 8 columns</p>\n",
       "</div>"
      ],
      "text/plain": [
       "                                count         mean        std     min     25%  \\\n",
       "Age                           17256.0    42.677272  82.489880 -6099.0    34.0   \n",
       "No_Pol                        17256.0     1.307545   0.726804     1.0     1.0   \n",
       "target                        12079.0     0.120457   0.325509     0.0     0.0   \n",
       "Policy Start Dateyear         17256.0  2009.996871   0.135291  2001.0  2010.0   \n",
       "Policy Start Datemonth        17256.0     6.366423   3.497817     1.0     3.0   \n",
       "...                               ...          ...        ...     ...     ...   \n",
       "ProductName_CarFlex           17256.0     0.014662   0.120198     0.0     0.0   \n",
       "ProductName_CarSafe           17256.0     0.312065   0.463350     0.0     0.0   \n",
       "ProductName_Customized Motor  17256.0     0.045549   0.208512     0.0     0.0   \n",
       "ProductName_Motor Cycle       17256.0     0.003535   0.059352     0.0     0.0   \n",
       "ProductName_Muuve             17256.0     0.008577   0.092215     0.0     0.0   \n",
       "\n",
       "                                 50%     75%     max  \n",
       "Age                             40.0    50.0   320.0  \n",
       "No_Pol                           1.0     1.0    10.0  \n",
       "target                           0.0     0.0     1.0  \n",
       "Policy Start Dateyear         2010.0  2010.0  2010.0  \n",
       "Policy Start Datemonth           6.0     9.0    12.0  \n",
       "...                              ...     ...     ...  \n",
       "ProductName_CarFlex              0.0     0.0     1.0  \n",
       "ProductName_CarSafe              0.0     1.0     1.0  \n",
       "ProductName_Customized Motor     0.0     0.0     1.0  \n",
       "ProductName_Motor Cycle          0.0     0.0     1.0  \n",
       "ProductName_Muuve                0.0     0.0     1.0  \n",
       "\n",
       "[544 rows x 8 columns]"
      ]
     },
     "execution_count": 28,
     "metadata": {},
     "output_type": "execute_result"
    }
   ],
   "source": [
    "all_data.describe().T"
   ]
  },
  {
   "cell_type": "code",
   "execution_count": 29,
   "metadata": {},
   "outputs": [
    {
     "data": {
      "text/plain": [
       "((12079, 548), (5177, 548))"
      ]
     },
     "execution_count": 29,
     "metadata": {},
     "output_type": "execute_result"
    }
   ],
   "source": [
    "# Separate train and test data from the combined dataframe\n",
    "train_df = all_data[:ntrain]\n",
    "test_df = all_data[ntrain:]\n",
    "\n",
    "# Check the shapes of the split dataset\n",
    "train_df.shape, test_df.shape"
   ]
  },
  {
   "cell_type": "code",
   "execution_count": 30,
   "metadata": {},
   "outputs": [
    {
     "data": {
      "text/plain": [
       "ID                              0\n",
       "Policy Start Date               0\n",
       "Policy End Date                 0\n",
       "Age                             0\n",
       "First Transaction Date          0\n",
       "                               ..\n",
       "ProductName_CarFlex             0\n",
       "ProductName_CarSafe             0\n",
       "ProductName_Customized Motor    0\n",
       "ProductName_Motor Cycle         0\n",
       "ProductName_Muuve               0\n",
       "Length: 548, dtype: int64"
      ]
     },
     "execution_count": 30,
     "metadata": {},
     "output_type": "execute_result"
    }
   ],
   "source": [
    "train_df.isna().sum()\n",
    "test_df.isna().sum()"
   ]
  },
  {
   "cell_type": "code",
   "execution_count": 31,
   "metadata": {},
   "outputs": [
    {
     "data": {
      "text/html": [
       "<div>\n",
       "<style scoped>\n",
       "    .dataframe tbody tr th:only-of-type {\n",
       "        vertical-align: middle;\n",
       "    }\n",
       "\n",
       "    .dataframe tbody tr th {\n",
       "        vertical-align: top;\n",
       "    }\n",
       "\n",
       "    .dataframe thead th {\n",
       "        text-align: right;\n",
       "    }\n",
       "</style>\n",
       "<table border=\"1\" class=\"dataframe\">\n",
       "  <thead>\n",
       "    <tr style=\"text-align: right;\">\n",
       "      <th></th>\n",
       "      <th>ID</th>\n",
       "      <th>Policy Start Date</th>\n",
       "      <th>Policy End Date</th>\n",
       "      <th>Age</th>\n",
       "      <th>First Transaction Date</th>\n",
       "      <th>No_Pol</th>\n",
       "      <th>target</th>\n",
       "      <th>Policy Start Dateyear</th>\n",
       "      <th>Policy Start Datemonth</th>\n",
       "      <th>Policy Start Dateday</th>\n",
       "      <th>...</th>\n",
       "      <th>State_Warri-South</th>\n",
       "      <th>ProductName_CVTP</th>\n",
       "      <th>ProductName_Car Classic</th>\n",
       "      <th>ProductName_Car Plus</th>\n",
       "      <th>ProductName_Car Vintage</th>\n",
       "      <th>ProductName_CarFlex</th>\n",
       "      <th>ProductName_CarSafe</th>\n",
       "      <th>ProductName_Customized Motor</th>\n",
       "      <th>ProductName_Motor Cycle</th>\n",
       "      <th>ProductName_Muuve</th>\n",
       "    </tr>\n",
       "  </thead>\n",
       "  <tbody>\n",
       "    <tr>\n",
       "      <th>0</th>\n",
       "      <td>ID_0040R73</td>\n",
       "      <td>2010-05-14</td>\n",
       "      <td>2011-05-13</td>\n",
       "      <td>30</td>\n",
       "      <td>2010-05-14</td>\n",
       "      <td>1</td>\n",
       "      <td>0.0</td>\n",
       "      <td>2010</td>\n",
       "      <td>5</td>\n",
       "      <td>14</td>\n",
       "      <td>...</td>\n",
       "      <td>0</td>\n",
       "      <td>0</td>\n",
       "      <td>1</td>\n",
       "      <td>0</td>\n",
       "      <td>0</td>\n",
       "      <td>0</td>\n",
       "      <td>0</td>\n",
       "      <td>0</td>\n",
       "      <td>0</td>\n",
       "      <td>0</td>\n",
       "    </tr>\n",
       "    <tr>\n",
       "      <th>1</th>\n",
       "      <td>ID_0046BNK</td>\n",
       "      <td>2010-11-29</td>\n",
       "      <td>2011-11-28</td>\n",
       "      <td>79</td>\n",
       "      <td>2010-11-29</td>\n",
       "      <td>1</td>\n",
       "      <td>1.0</td>\n",
       "      <td>2010</td>\n",
       "      <td>11</td>\n",
       "      <td>29</td>\n",
       "      <td>...</td>\n",
       "      <td>0</td>\n",
       "      <td>0</td>\n",
       "      <td>1</td>\n",
       "      <td>0</td>\n",
       "      <td>0</td>\n",
       "      <td>0</td>\n",
       "      <td>0</td>\n",
       "      <td>0</td>\n",
       "      <td>0</td>\n",
       "      <td>0</td>\n",
       "    </tr>\n",
       "    <tr>\n",
       "      <th>2</th>\n",
       "      <td>ID_005QMC3</td>\n",
       "      <td>2010-03-21</td>\n",
       "      <td>2011-03-20</td>\n",
       "      <td>43</td>\n",
       "      <td>2010-03-21</td>\n",
       "      <td>1</td>\n",
       "      <td>0.0</td>\n",
       "      <td>2010</td>\n",
       "      <td>3</td>\n",
       "      <td>21</td>\n",
       "      <td>...</td>\n",
       "      <td>0</td>\n",
       "      <td>0</td>\n",
       "      <td>1</td>\n",
       "      <td>0</td>\n",
       "      <td>0</td>\n",
       "      <td>0</td>\n",
       "      <td>0</td>\n",
       "      <td>0</td>\n",
       "      <td>0</td>\n",
       "      <td>0</td>\n",
       "    </tr>\n",
       "    <tr>\n",
       "      <th>3</th>\n",
       "      <td>ID_0079OHW</td>\n",
       "      <td>2010-08-21</td>\n",
       "      <td>2011-08-20</td>\n",
       "      <td>2</td>\n",
       "      <td>2010-08-21</td>\n",
       "      <td>1</td>\n",
       "      <td>0.0</td>\n",
       "      <td>2010</td>\n",
       "      <td>8</td>\n",
       "      <td>21</td>\n",
       "      <td>...</td>\n",
       "      <td>0</td>\n",
       "      <td>0</td>\n",
       "      <td>0</td>\n",
       "      <td>0</td>\n",
       "      <td>0</td>\n",
       "      <td>0</td>\n",
       "      <td>1</td>\n",
       "      <td>0</td>\n",
       "      <td>0</td>\n",
       "      <td>0</td>\n",
       "    </tr>\n",
       "    <tr>\n",
       "      <th>4</th>\n",
       "      <td>ID_00BRP63</td>\n",
       "      <td>2010-08-29</td>\n",
       "      <td>2010-12-31</td>\n",
       "      <td>20</td>\n",
       "      <td>2010-08-29</td>\n",
       "      <td>3</td>\n",
       "      <td>1.0</td>\n",
       "      <td>2010</td>\n",
       "      <td>8</td>\n",
       "      <td>29</td>\n",
       "      <td>...</td>\n",
       "      <td>0</td>\n",
       "      <td>0</td>\n",
       "      <td>0</td>\n",
       "      <td>0</td>\n",
       "      <td>0</td>\n",
       "      <td>0</td>\n",
       "      <td>0</td>\n",
       "      <td>0</td>\n",
       "      <td>0</td>\n",
       "      <td>1</td>\n",
       "    </tr>\n",
       "  </tbody>\n",
       "</table>\n",
       "<p>5 rows × 548 columns</p>\n",
       "</div>"
      ],
      "text/plain": [
       "           ID Policy Start Date Policy End Date  Age First Transaction Date  \\\n",
       "0  ID_0040R73        2010-05-14      2011-05-13   30             2010-05-14   \n",
       "1  ID_0046BNK        2010-11-29      2011-11-28   79             2010-11-29   \n",
       "2  ID_005QMC3        2010-03-21      2011-03-20   43             2010-03-21   \n",
       "3  ID_0079OHW        2010-08-21      2011-08-20    2             2010-08-21   \n",
       "4  ID_00BRP63        2010-08-29      2010-12-31   20             2010-08-29   \n",
       "\n",
       "   No_Pol  target  Policy Start Dateyear  Policy Start Datemonth  \\\n",
       "0       1     0.0                   2010                       5   \n",
       "1       1     1.0                   2010                      11   \n",
       "2       1     0.0                   2010                       3   \n",
       "3       1     0.0                   2010                       8   \n",
       "4       3     1.0                   2010                       8   \n",
       "\n",
       "   Policy Start Dateday  ...  State_Warri-South  ProductName_CVTP  \\\n",
       "0                    14  ...                  0                 0   \n",
       "1                    29  ...                  0                 0   \n",
       "2                    21  ...                  0                 0   \n",
       "3                    21  ...                  0                 0   \n",
       "4                    29  ...                  0                 0   \n",
       "\n",
       "   ProductName_Car Classic  ProductName_Car Plus  ProductName_Car Vintage  \\\n",
       "0                        1                     0                        0   \n",
       "1                        1                     0                        0   \n",
       "2                        1                     0                        0   \n",
       "3                        0                     0                        0   \n",
       "4                        0                     0                        0   \n",
       "\n",
       "   ProductName_CarFlex  ProductName_CarSafe  ProductName_Customized Motor  \\\n",
       "0                    0                    0                             0   \n",
       "1                    0                    0                             0   \n",
       "2                    0                    0                             0   \n",
       "3                    0                    1                             0   \n",
       "4                    0                    0                             0   \n",
       "\n",
       "   ProductName_Motor Cycle  ProductName_Muuve  \n",
       "0                        0                  0  \n",
       "1                        0                  0  \n",
       "2                        0                  0  \n",
       "3                        0                  0  \n",
       "4                        0                  1  \n",
       "\n",
       "[5 rows x 548 columns]"
      ]
     },
     "execution_count": 31,
     "metadata": {},
     "output_type": "execute_result"
    }
   ],
   "source": [
    "train_df.head()"
   ]
  },
  {
   "cell_type": "code",
   "execution_count": 32,
   "metadata": {},
   "outputs": [
    {
     "data": {
      "text/plain": [
       "(12079, 548)"
      ]
     },
     "execution_count": 32,
     "metadata": {},
     "output_type": "execute_result"
    }
   ],
   "source": [
    "train_df.shape"
   ]
  },
  {
   "cell_type": "code",
   "execution_count": 33,
   "metadata": {},
   "outputs": [],
   "source": [
    "X = train_df.drop(['ID','Policy Start Date','Policy End Date', 'target','First Transaction Date'],1)\n",
    "y = train_df.target"
   ]
  },
  {
   "cell_type": "code",
   "execution_count": 34,
   "metadata": {},
   "outputs": [],
   "source": [
    "test_df=test_df.drop(['ID','Policy Start Date','Policy End Date','First Transaction Date', 'target'],1)"
   ]
  },
  {
   "cell_type": "code",
   "execution_count": 37,
   "metadata": {},
   "outputs": [],
   "source": [
    "# Apply in the Train set \n",
    "# \n",
    "# train['household_size'] = scaler.fit_transform(train['household_size'].values.reshape(-1,1))\n",
    "# train['year'] = scaler.fit_transform(train['year'].values.reshape(-1,1))\n",
    "\n",
    "# # Apply in the Test set \n",
    "# test['age_of_respondent'] = scaler.fit_transform(test['age_of_respondent'].values.reshape(-1,1))\n",
    "# test['household_size'] = scaler.fit_transform(test['household_size'].values.reshape(-1,1))\n",
    "# test['year'] = scaler.fit_transform(test['year'].values.reshape(-1,1))"
   ]
  },
  {
   "cell_type": "code",
   "execution_count": null,
   "metadata": {},
   "outputs": [],
   "source": []
  },
  {
   "cell_type": "code",
   "execution_count": null,
   "metadata": {},
   "outputs": [],
   "source": []
  },
  {
   "cell_type": "code",
   "execution_count": 120,
   "metadata": {},
   "outputs": [],
   "source": [
    "X_train, X_test, y_train, y_test = train_test_split(X,y,test_size=0.3, random_state=0,stratify=y)\n"
   ]
  },
  {
   "cell_type": "code",
   "execution_count": 107,
   "metadata": {},
   "outputs": [
    {
     "data": {
      "text/plain": [
       "Age                             int64\n",
       "No_Pol                          int64\n",
       "Policy Start Dateyear           int64\n",
       "Policy Start Datemonth          int64\n",
       "Policy Start Dateday            int64\n",
       "                                ...  \n",
       "ProductName_CarFlex             uint8\n",
       "ProductName_CarSafe             uint8\n",
       "ProductName_Customized Motor    uint8\n",
       "ProductName_Motor Cycle         uint8\n",
       "ProductName_Muuve               uint8\n",
       "Length: 543, dtype: object"
      ]
     },
     "execution_count": 107,
     "metadata": {},
     "output_type": "execute_result"
    }
   ],
   "source": [
    "X_train.dtypes"
   ]
  },
  {
   "cell_type": "markdown",
   "metadata": {},
   "source": [
    "hgb = HistGradientBoostingClassifier()\n",
    "hgb.fit(X_train,y_train)"
   ]
  },
  {
   "cell_type": "markdown",
   "metadata": {},
   "source": [
    "# Make predictions\n",
    "y_pred = hgb.predict(X_test)\n",
    "\n",
    "# Check the f1 score of the model\n",
    "print(f'F1 score on the X_test is: {f1_score(y_test, y_pred)}')"
   ]
  },
  {
   "cell_type": "markdown",
   "metadata": {},
   "source": [
    "predictions_hgb  = hgb.predict(test_df)\n"
   ]
  },
  {
   "cell_type": "code",
   "execution_count": 108,
   "metadata": {},
   "outputs": [],
   "source": [
    "#submission_df = pd.DataFrame({'ID': test.ID, 'target': predictions_hgb}) # Creating a submission file\n"
   ]
  },
  {
   "cell_type": "code",
   "execution_count": 109,
   "metadata": {},
   "outputs": [],
   "source": [
    "#filename = 'submission_sub_df.csv'\n",
    "\n",
    "#submission_df.to_csv(filename,index=False)\n",
    "\n",
    "#print('Saved file: ' + filename)"
   ]
  },
  {
   "cell_type": "code",
   "execution_count": null,
   "metadata": {},
   "outputs": [],
   "source": []
  },
  {
   "cell_type": "markdown",
   "metadata": {},
   "source": [
    "from sklearn.ensemble import RandomForestClassifier\n",
    "rfc = RandomForestClassifier()\n",
    "rfc.fit(X_train,y_train)\n",
    "y_pred1 = rfc.predict(X_test)\n",
    "\n",
    "# Check the f1 score of the model\n",
    "print(f'F1 score on the X_test is: {f1_score(y_test, y_pred1)}')"
   ]
  },
  {
   "cell_type": "markdown",
   "metadata": {},
   "source": [
    "pred_df = rfc.predict(test_df)\n",
    "submission_rfc = pd.DataFrame({'ID': test.ID, 'target': pred_df}) # Creating a submission file\n",
    "filename = 'submission_rfc_df.csv'\n",
    "\n",
    "submission_rfc.to_csv(filename,index=False)\n",
    "\n",
    "print('Saved file: ' + filename)"
   ]
  },
  {
   "cell_type": "code",
   "execution_count": 121,
   "metadata": {},
   "outputs": [],
   "source": [
    "# import classification algorithm \n",
    "from sklearn.ensemble import RandomForestClassifier\n",
    "from sklearn.neighbors import KNeighborsClassifier\n",
    "from sklearn.ensemble import GradientBoostingClassifier\n",
    "from sklearn.tree import DecisionTreeClassifier\n",
    "from sklearn.linear_model import LogisticRegression\n",
    "from sklearn.ensemble import BaggingClassifier\n",
    "from sklearn.ensemble import ExtraTreesClassifier\n",
    "from sklearn.svm import SVC\n",
    "from sklearn.linear_model import LogisticRegression\n",
    "# import cross valiadation method \n",
    "from sklearn.model_selection import cross_val_score"
   ]
  },
  {
   "cell_type": "code",
   "execution_count": 122,
   "metadata": {},
   "outputs": [],
   "source": [
    "# models = {\n",
    "#     \"SVM\": SVC(),\n",
    "#     \"KNN\": KNeighborsClassifier(),\n",
    "#     \"RF\": RandomForestClassifier(),\n",
    "#     \"GB\": GradientBoostingClassifier(),\n",
    "#     \"DTC\": DecisionTreeClassifier(),\n",
    "#     \"BC\": BaggingClassifier(),\n",
    "#     \"EXT\": ExtraTreesClassifier()\n",
    "# }\n",
    "\n",
    "\n",
    "\n",
    "# for model_name, model in models.items():\n",
    "#     print(\"Train {}\".format(model_name))\n",
    "#     # cross_val_score for each classifier\n",
    "#     scores = cross_val_score(model, X_train, y_train, cv=5, scoring='f1')\n",
    "\n",
    "#     print(\"List of scores for {}: {}\".format(model_name, scores))\n",
    "#     print(\"The mean score for {}: {}\".format(model_name, scores.mean()))\n",
    "#     print(\"-------------The End------------------\")\n"
   ]
  },
  {
   "cell_type": "code",
   "execution_count": 123,
   "metadata": {},
   "outputs": [],
   "source": [
    "# from sklearn.tree import DecisionTreeClassifier\n",
    "# dtc = DecisionTreeClassifier(criterion='entropy',)\n",
    "# dtc.fit(X_train,y_train)\n",
    "# # Make predictions\n",
    "# y_pred3 = dtc.predict(X_test)\n",
    "\n",
    "# # Check the f1 score of the model\n",
    "# print(f'F1 score on the X_test is: {f1_score(y_test, y_pred3)}')"
   ]
  },
  {
   "cell_type": "code",
   "execution_count": 124,
   "metadata": {},
   "outputs": [],
   "source": [
    "# predictions_dtc  = dtc.predict(test_df)\n",
    "\n",
    "# submission_df = pd.DataFrame({'ID': test.ID, 'target': predictions_dtc}) # Creating a submission file\n",
    "# filename = 'submission_dtc.csv'\n",
    "\n",
    "# submission_df.to_csv(filename,index=False)\n",
    "\n",
    "# print('Saved file: ' + filename)"
   ]
  },
  {
   "cell_type": "code",
   "execution_count": null,
   "metadata": {},
   "outputs": [],
   "source": []
  },
  {
   "cell_type": "code",
   "execution_count": 125,
   "metadata": {},
   "outputs": [],
   "source": [
    "# from sklearn.tree import DecisionTreeClassifier\n",
    "# classifier=DecisionTreeClassifier(criterion='gini',class_weight=class_weight)\n",
    "# classifier.fit(X_train,y_train)"
   ]
  },
  {
   "cell_type": "code",
   "execution_count": 126,
   "metadata": {},
   "outputs": [],
   "source": [
    "# y_pred=classifier.predict(X_test)\n",
    "# print(f'F1 score on the X_test is: {f1_score(y_test, y_pred)}')"
   ]
  },
  {
   "cell_type": "code",
   "execution_count": 127,
   "metadata": {},
   "outputs": [],
   "source": [
    "# predictions_lgb  = classifier.predict(test_df)\n",
    "\n",
    "# submission_df = pd.DataFrame({'ID': test.ID, 'target': predictions_lgb}) # Creating a submission file\n",
    "# filename = 'submission_dtc.csv'\n",
    "\n",
    "# submission_df.to_csv(filename,index=False)\n",
    "\n",
    "# print('Saved file: ' + filename)"
   ]
  },
  {
   "cell_type": "code",
   "execution_count": 137,
   "metadata": {},
   "outputs": [
    {
     "name": "stdout",
     "output_type": "stream",
     "text": [
      "F1 score on the X_test is: 0.2666666666666667\n"
     ]
    }
   ],
   "source": [
    "#class_weight=dict({1:0,1:200})\n",
    "lgb = LGBMClassifier( n_estimators=700,learning_rate=0.3,num_leaves=31,objective)\n",
    "lgb.fit(X_train.values, y_train)\n",
    "y_pred = lgb.predict(X_test)\n",
    "print(f'F1 score on the X_test is: {f1_score(y_test, y_pred)}')"
   ]
  },
  {
   "cell_type": "code",
   "execution_count": 129,
   "metadata": {},
   "outputs": [
    {
     "name": "stdout",
     "output_type": "stream",
     "text": [
      "Saved file: submission_lgb.csv\n"
     ]
    }
   ],
   "source": [
    "predictions_lgb1  = lgb.predict(test_df)\n",
    "\n",
    "submission_df = pd.DataFrame({'ID': test.ID, 'target': predictions_lgb1}) # Creating a submission file\n",
    "filename = 'submission_lgb.csv'\n",
    "\n",
    "submission_df.to_csv(filename,index=False)\n",
    "\n",
    "print('Saved file: ' + filename)"
   ]
  },
  {
   "cell_type": "code",
   "execution_count": 130,
   "metadata": {},
   "outputs": [
    {
     "data": {
      "text/plain": [
       "0.8512693156732892"
      ]
     },
     "execution_count": 130,
     "metadata": {},
     "output_type": "execute_result"
    }
   ],
   "source": [
    "from sklearn.metrics import accuracy_score\n",
    "accuracy_score(y_test,y_pred)"
   ]
  },
  {
   "cell_type": "markdown",
   "metadata": {},
   "source": []
  },
  {
   "cell_type": "code",
   "execution_count": null,
   "metadata": {},
   "outputs": [],
   "source": []
  },
  {
   "cell_type": "code",
   "execution_count": null,
   "metadata": {},
   "outputs": [],
   "source": []
  }
 ],
 "metadata": {
  "kernelspec": {
   "display_name": "Python 3",
   "language": "python",
   "name": "python3"
  },
  "language_info": {
   "codemirror_mode": {
    "name": "ipython",
    "version": 3
   },
   "file_extension": ".py",
   "mimetype": "text/x-python",
   "name": "python",
   "nbconvert_exporter": "python",
   "pygments_lexer": "ipython3",
   "version": "3.8.5"
  }
 },
 "nbformat": 4,
 "nbformat_minor": 4
}
